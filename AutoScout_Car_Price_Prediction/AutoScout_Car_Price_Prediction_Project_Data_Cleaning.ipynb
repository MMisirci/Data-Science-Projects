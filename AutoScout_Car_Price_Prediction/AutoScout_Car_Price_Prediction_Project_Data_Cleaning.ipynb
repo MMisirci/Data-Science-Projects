{
 "cells": [
  {
   "cell_type": "markdown",
   "metadata": {},
   "source": [
    "___\n",
    "\n",
    "<p style=\"text-align: center;\"><img src=\"https://docs.google.com/uc?id=1lY0Uj5R04yMY3-ZppPWxqCr5pvBLYPnV\" class=\"img-fluid\" alt=\"CLRSWY\"></p>\n",
    "\n",
    "___"
   ]
  },
  {
   "cell_type": "markdown",
   "metadata": {},
   "source": [
    "\n",
    "<img alt=\"File:Cars in traffic in Auckland, New Zealand - copyright-free photo released to public domain.jpg\" src=\"https://upload.wikimedia.org/wikipedia/commons/thumb/e/e4/Cars_in_traffic_in_Auckland%2C_New_Zealand_-_copyright-free_photo_released_to_public_domain.jpg/800px-Cars_in_traffic_in_Auckland%2C_New_Zealand_-_copyright-free_photo_released_to_public_domain.jpg?20190503075536\" decoding=\"async\" width=\"400\" height=\"250\" srcset=\"https://upload.wikimedia.org/wikipedia/commons/thumb/e/e4/Cars_in_traffic_in_Auckland%2C_New_Zealand_-_copyright-free_photo_released_to_public_domain.jpg/1200px-Cars_in_traffic_in_Auckland%2C_New_Zealand_-_copyright-free_photo_released_to_public_domain.jpg?20190503075536 1.5x, https://upload.wikimedia.org/wikipedia/commons/thumb/e/e4/Cars_in_traffic_in_Auckland%2C_New_Zealand_-_copyright-free_photo_released_to_public_domain.jpg/1599px-Cars_in_traffic_in_Auckland%2C_New_Zealand_-_copyright-free_photo_released_to_public_domain.jpg?20190503075536 2x\" data-file-width=\"5184\" data-file-height=\"3456\">\n",
    "\n",
    "\n",
    "\n"
   ]
  },
  {
   "cell_type": "markdown",
   "metadata": {},
   "source": [
    "# WELCOME!"
   ]
  },
  {
   "cell_type": "markdown",
   "metadata": {},
   "source": [
    "## Introduction\n",
    "Welcome to \"***AutoScout Data Analysis Project***\". This is the capstone project of ***Data Analysis*** Module. **Auto Scout** data which using for this project, scraped from the on-line car trading company in 2019, contains many features of 9 different car models. In this project, you will have the opportunity to apply many commonly used algorithms for Data Cleaning and Exploratory Data Analysis by using many Python libraries such as Numpy, Pandas, Matplotlib, Seaborn, Scipy you will analyze clean dataset.\n",
    "\n",
    "The project consists of 3 parts:\n",
    "* First part is related with 'data cleaning'. It deals with Incorrect Headers, Incorrect Format, Anomalies, Dropping useless columns.\n",
    "* Second part is related with 'filling data'. It deals with Missing Values. Categorical to numeric transformation is done.\n",
    "* Third part is related with 'handling outliers of data' via Visualisation libraries. Some insights are extracted.\n"
   ]
  },
  {
   "cell_type": "markdown",
   "metadata": {},
   "source": [
    "# PART- 1 `( Data Cleaning )`"
   ]
  },
  {
   "cell_type": "code",
   "execution_count": 1,
   "metadata": {},
   "outputs": [],
   "source": [
    "import json\n",
    "import pandas as pd\n",
    "from skimpy import clean_columns\n",
    "import numpy as np\n",
    "import re"
   ]
  },
  {
   "cell_type": "code",
   "execution_count": 2,
   "metadata": {},
   "outputs": [],
   "source": [
    "df = pd.read_json(\"scout_car.json\",lines=True)"
   ]
  },
  {
   "cell_type": "code",
   "execution_count": 3,
   "metadata": {},
   "outputs": [
    {
     "data": {
      "text/plain": [
       "(15919, 54)"
      ]
     },
     "execution_count": 3,
     "metadata": {},
     "output_type": "execute_result"
    }
   ],
   "source": [
    "#there 15919 rows and 54 columns in dataframe\n",
    "df.shape"
   ]
  },
  {
   "cell_type": "code",
   "execution_count": 4,
   "metadata": {},
   "outputs": [
    {
     "data": {
      "text/html": [
       "<div>\n",
       "<style scoped>\n",
       "    .dataframe tbody tr th:only-of-type {\n",
       "        vertical-align: middle;\n",
       "    }\n",
       "\n",
       "    .dataframe tbody tr th {\n",
       "        vertical-align: top;\n",
       "    }\n",
       "\n",
       "    .dataframe thead th {\n",
       "        text-align: right;\n",
       "    }\n",
       "</style>\n",
       "<table border=\"1\" class=\"dataframe\">\n",
       "  <thead>\n",
       "    <tr style=\"text-align: right;\">\n",
       "      <th></th>\n",
       "      <th>url</th>\n",
       "      <th>make_model</th>\n",
       "      <th>short_description</th>\n",
       "      <th>body_type</th>\n",
       "      <th>price</th>\n",
       "      <th>vat</th>\n",
       "      <th>km</th>\n",
       "      <th>registration</th>\n",
       "      <th>prev_owner</th>\n",
       "      <th>kW</th>\n",
       "      <th>...</th>\n",
       "      <th>description</th>\n",
       "      <th>Emission Label</th>\n",
       "      <th>Gears</th>\n",
       "      <th>Country version</th>\n",
       "      <th>Electricity consumption</th>\n",
       "      <th>Last Service Date</th>\n",
       "      <th>Other Fuel Types</th>\n",
       "      <th>Availability</th>\n",
       "      <th>Last Timing Belt Service Date</th>\n",
       "      <th>Available from</th>\n",
       "    </tr>\n",
       "  </thead>\n",
       "  <tbody>\n",
       "    <tr>\n",
       "      <th>0</th>\n",
       "      <td>https://www.autoscout24.com//offers/audi-a1-sp...</td>\n",
       "      <td>Audi A1</td>\n",
       "      <td>Sportback 1.4 TDI S-tronic Xenon Navi Klima</td>\n",
       "      <td>Sedans</td>\n",
       "      <td>15770</td>\n",
       "      <td>VAT deductible</td>\n",
       "      <td>56,013 km</td>\n",
       "      <td>01/2016</td>\n",
       "      <td>2 previous owners</td>\n",
       "      <td>NaN</td>\n",
       "      <td>...</td>\n",
       "      <td>[\\n, Sicherheit:,  , Deaktivierung für Beifahr...</td>\n",
       "      <td>NaN</td>\n",
       "      <td>NaN</td>\n",
       "      <td>NaN</td>\n",
       "      <td>NaN</td>\n",
       "      <td>NaN</td>\n",
       "      <td>NaN</td>\n",
       "      <td>NaN</td>\n",
       "      <td>NaN</td>\n",
       "      <td>NaN</td>\n",
       "    </tr>\n",
       "    <tr>\n",
       "      <th>1</th>\n",
       "      <td>https://www.autoscout24.com//offers/audi-a1-1-...</td>\n",
       "      <td>Audi A1</td>\n",
       "      <td>1.8 TFSI sport</td>\n",
       "      <td>Sedans</td>\n",
       "      <td>14500</td>\n",
       "      <td>Price negotiable</td>\n",
       "      <td>80,000 km</td>\n",
       "      <td>03/2017</td>\n",
       "      <td>None</td>\n",
       "      <td>NaN</td>\n",
       "      <td>...</td>\n",
       "      <td>[\\nLangstreckenfahrzeug daher die hohe Kilomet...</td>\n",
       "      <td>[\\n4 (Green)\\n]</td>\n",
       "      <td>[\\n7\\n]</td>\n",
       "      <td>NaN</td>\n",
       "      <td>NaN</td>\n",
       "      <td>NaN</td>\n",
       "      <td>NaN</td>\n",
       "      <td>NaN</td>\n",
       "      <td>NaN</td>\n",
       "      <td>NaN</td>\n",
       "    </tr>\n",
       "    <tr>\n",
       "      <th>2</th>\n",
       "      <td>https://www.autoscout24.com//offers/audi-a1-sp...</td>\n",
       "      <td>Audi A1</td>\n",
       "      <td>Sportback 1.6 TDI S tronic Einparkhilfe plus+m...</td>\n",
       "      <td>Sedans</td>\n",
       "      <td>14640</td>\n",
       "      <td>VAT deductible</td>\n",
       "      <td>83,450 km</td>\n",
       "      <td>02/2016</td>\n",
       "      <td>1 previous owner</td>\n",
       "      <td>NaN</td>\n",
       "      <td>...</td>\n",
       "      <td>[\\n, Fahrzeug-Nummer: AM-95365,  , Ehem. UPE 2...</td>\n",
       "      <td>[\\n4 (Green)\\n]</td>\n",
       "      <td>NaN</td>\n",
       "      <td>NaN</td>\n",
       "      <td>NaN</td>\n",
       "      <td>NaN</td>\n",
       "      <td>NaN</td>\n",
       "      <td>NaN</td>\n",
       "      <td>NaN</td>\n",
       "      <td>NaN</td>\n",
       "    </tr>\n",
       "    <tr>\n",
       "      <th>3</th>\n",
       "      <td>https://www.autoscout24.com//offers/audi-a1-1-...</td>\n",
       "      <td>Audi A1</td>\n",
       "      <td>1.4 TDi Design S tronic</td>\n",
       "      <td>Sedans</td>\n",
       "      <td>14500</td>\n",
       "      <td>None</td>\n",
       "      <td>73,000 km</td>\n",
       "      <td>08/2016</td>\n",
       "      <td>1 previous owner</td>\n",
       "      <td>NaN</td>\n",
       "      <td>...</td>\n",
       "      <td>[\\nAudi A1: , - 1e eigenaar , - Perfecte staat...</td>\n",
       "      <td>NaN</td>\n",
       "      <td>[\\n6\\n]</td>\n",
       "      <td>NaN</td>\n",
       "      <td>NaN</td>\n",
       "      <td>NaN</td>\n",
       "      <td>NaN</td>\n",
       "      <td>NaN</td>\n",
       "      <td>NaN</td>\n",
       "      <td>NaN</td>\n",
       "    </tr>\n",
       "    <tr>\n",
       "      <th>4</th>\n",
       "      <td>https://www.autoscout24.com//offers/audi-a1-sp...</td>\n",
       "      <td>Audi A1</td>\n",
       "      <td>Sportback 1.4 TDI S-Tronic S-Line Ext. admired...</td>\n",
       "      <td>Sedans</td>\n",
       "      <td>16790</td>\n",
       "      <td>None</td>\n",
       "      <td>16,200 km</td>\n",
       "      <td>05/2016</td>\n",
       "      <td>1 previous owner</td>\n",
       "      <td>NaN</td>\n",
       "      <td>...</td>\n",
       "      <td>[\\n, Technik &amp; Sicherheit:, Xenon plus, Klimaa...</td>\n",
       "      <td>NaN</td>\n",
       "      <td>NaN</td>\n",
       "      <td>[\\nGermany\\n]</td>\n",
       "      <td>NaN</td>\n",
       "      <td>NaN</td>\n",
       "      <td>NaN</td>\n",
       "      <td>NaN</td>\n",
       "      <td>NaN</td>\n",
       "      <td>NaN</td>\n",
       "    </tr>\n",
       "  </tbody>\n",
       "</table>\n",
       "<p>5 rows × 54 columns</p>\n",
       "</div>"
      ],
      "text/plain": [
       "                                                 url make_model  \\\n",
       "0  https://www.autoscout24.com//offers/audi-a1-sp...    Audi A1   \n",
       "1  https://www.autoscout24.com//offers/audi-a1-1-...    Audi A1   \n",
       "2  https://www.autoscout24.com//offers/audi-a1-sp...    Audi A1   \n",
       "3  https://www.autoscout24.com//offers/audi-a1-1-...    Audi A1   \n",
       "4  https://www.autoscout24.com//offers/audi-a1-sp...    Audi A1   \n",
       "\n",
       "                                   short_description body_type  price  \\\n",
       "0        Sportback 1.4 TDI S-tronic Xenon Navi Klima    Sedans  15770   \n",
       "1                                     1.8 TFSI sport    Sedans  14500   \n",
       "2  Sportback 1.6 TDI S tronic Einparkhilfe plus+m...    Sedans  14640   \n",
       "3                            1.4 TDi Design S tronic    Sedans  14500   \n",
       "4  Sportback 1.4 TDI S-Tronic S-Line Ext. admired...    Sedans  16790   \n",
       "\n",
       "                vat         km registration         prev_owner  kW  ...  \\\n",
       "0    VAT deductible  56,013 km      01/2016  2 previous owners NaN  ...   \n",
       "1  Price negotiable  80,000 km      03/2017               None NaN  ...   \n",
       "2    VAT deductible  83,450 km      02/2016   1 previous owner NaN  ...   \n",
       "3              None  73,000 km      08/2016   1 previous owner NaN  ...   \n",
       "4              None  16,200 km      05/2016   1 previous owner NaN  ...   \n",
       "\n",
       "                                         description   Emission Label  \\\n",
       "0  [\\n, Sicherheit:,  , Deaktivierung für Beifahr...              NaN   \n",
       "1  [\\nLangstreckenfahrzeug daher die hohe Kilomet...  [\\n4 (Green)\\n]   \n",
       "2  [\\n, Fahrzeug-Nummer: AM-95365,  , Ehem. UPE 2...  [\\n4 (Green)\\n]   \n",
       "3  [\\nAudi A1: , - 1e eigenaar , - Perfecte staat...              NaN   \n",
       "4  [\\n, Technik & Sicherheit:, Xenon plus, Klimaa...              NaN   \n",
       "\n",
       "     Gears Country version Electricity consumption Last Service Date  \\\n",
       "0      NaN             NaN                     NaN               NaN   \n",
       "1  [\\n7\\n]             NaN                     NaN               NaN   \n",
       "2      NaN             NaN                     NaN               NaN   \n",
       "3  [\\n6\\n]             NaN                     NaN               NaN   \n",
       "4      NaN   [\\nGermany\\n]                     NaN               NaN   \n",
       "\n",
       "  Other Fuel Types Availability Last Timing Belt Service Date Available from  \n",
       "0              NaN          NaN                           NaN            NaN  \n",
       "1              NaN          NaN                           NaN            NaN  \n",
       "2              NaN          NaN                           NaN            NaN  \n",
       "3              NaN          NaN                           NaN            NaN  \n",
       "4              NaN          NaN                           NaN            NaN  \n",
       "\n",
       "[5 rows x 54 columns]"
      ]
     },
     "execution_count": 4,
     "metadata": {},
     "output_type": "execute_result"
    }
   ],
   "source": [
    "df.head()"
   ]
  },
  {
   "cell_type": "code",
   "execution_count": 5,
   "metadata": {},
   "outputs": [
    {
     "data": {
      "text/html": [
       "<div>\n",
       "<style scoped>\n",
       "    .dataframe tbody tr th:only-of-type {\n",
       "        vertical-align: middle;\n",
       "    }\n",
       "\n",
       "    .dataframe tbody tr th {\n",
       "        vertical-align: top;\n",
       "    }\n",
       "\n",
       "    .dataframe thead th {\n",
       "        text-align: right;\n",
       "    }\n",
       "</style>\n",
       "<table border=\"1\" class=\"dataframe\">\n",
       "  <thead>\n",
       "    <tr style=\"text-align: right;\">\n",
       "      <th></th>\n",
       "      <th>url</th>\n",
       "      <th>make_model</th>\n",
       "      <th>short_description</th>\n",
       "      <th>body_type</th>\n",
       "      <th>price</th>\n",
       "      <th>vat</th>\n",
       "      <th>km</th>\n",
       "      <th>registration</th>\n",
       "      <th>prev_owner</th>\n",
       "      <th>kW</th>\n",
       "      <th>...</th>\n",
       "      <th>description</th>\n",
       "      <th>Emission Label</th>\n",
       "      <th>Gears</th>\n",
       "      <th>Country version</th>\n",
       "      <th>Electricity consumption</th>\n",
       "      <th>Last Service Date</th>\n",
       "      <th>Other Fuel Types</th>\n",
       "      <th>Availability</th>\n",
       "      <th>Last Timing Belt Service Date</th>\n",
       "      <th>Available from</th>\n",
       "    </tr>\n",
       "  </thead>\n",
       "  <tbody>\n",
       "    <tr>\n",
       "      <th>15914</th>\n",
       "      <td>https://www.autoscout24.com//offers/renault-es...</td>\n",
       "      <td>Renault Espace</td>\n",
       "      <td>Blue dCi 200CV EDC Executive 4Control</td>\n",
       "      <td>Van</td>\n",
       "      <td>39950</td>\n",
       "      <td>VAT deductible</td>\n",
       "      <td>- km</td>\n",
       "      <td>-/-</td>\n",
       "      <td>None</td>\n",
       "      <td>NaN</td>\n",
       "      <td>...</td>\n",
       "      <td>[\\nVettura visionabile nella sede in Via Roma ...</td>\n",
       "      <td>NaN</td>\n",
       "      <td>[\\n6\\n]</td>\n",
       "      <td>NaN</td>\n",
       "      <td>NaN</td>\n",
       "      <td>NaN</td>\n",
       "      <td>NaN</td>\n",
       "      <td>NaN</td>\n",
       "      <td>NaN</td>\n",
       "      <td>NaN</td>\n",
       "    </tr>\n",
       "    <tr>\n",
       "      <th>15915</th>\n",
       "      <td>https://www.autoscout24.com//offers/renault-es...</td>\n",
       "      <td>Renault Espace</td>\n",
       "      <td>TCe 225 EDC GPF LIM Deluxe Pano,RFK</td>\n",
       "      <td>Van</td>\n",
       "      <td>39885</td>\n",
       "      <td>VAT deductible</td>\n",
       "      <td>9,900 km</td>\n",
       "      <td>01/2019</td>\n",
       "      <td>1 previous owner</td>\n",
       "      <td>NaN</td>\n",
       "      <td>...</td>\n",
       "      <td>[\\nDach: Panorama-Glas-Schiebedach, Lackierung...</td>\n",
       "      <td>NaN</td>\n",
       "      <td>[\\n7\\n]</td>\n",
       "      <td>[\\nGermany\\n]</td>\n",
       "      <td>NaN</td>\n",
       "      <td>NaN</td>\n",
       "      <td>[[], [], []]</td>\n",
       "      <td>\\nin 5 days from ordering\\n</td>\n",
       "      <td>NaN</td>\n",
       "      <td>NaN</td>\n",
       "    </tr>\n",
       "    <tr>\n",
       "      <th>15916</th>\n",
       "      <td>https://www.autoscout24.com//offers/renault-es...</td>\n",
       "      <td>Renault Espace</td>\n",
       "      <td>Blue dCi 200 EDC Initiale Paris Leder LED Navi...</td>\n",
       "      <td>Van</td>\n",
       "      <td>39875</td>\n",
       "      <td>VAT deductible</td>\n",
       "      <td>15 km</td>\n",
       "      <td>03/2019</td>\n",
       "      <td>1 previous owner</td>\n",
       "      <td>NaN</td>\n",
       "      <td>...</td>\n",
       "      <td>[\\n, Getriebe:,  Automatik, Technik:,  Bordcom...</td>\n",
       "      <td>NaN</td>\n",
       "      <td>[\\n6\\n]</td>\n",
       "      <td>[\\nAustria\\n]</td>\n",
       "      <td>NaN</td>\n",
       "      <td>NaN</td>\n",
       "      <td>NaN</td>\n",
       "      <td>\\nin 120 days from ordering\\n</td>\n",
       "      <td>NaN</td>\n",
       "      <td>NaN</td>\n",
       "    </tr>\n",
       "    <tr>\n",
       "      <th>15917</th>\n",
       "      <td>https://www.autoscout24.com//offers/renault-es...</td>\n",
       "      <td>Renault Espace</td>\n",
       "      <td>Blue dCi 200CV EDC Business , NUOVA DA IMMATRI...</td>\n",
       "      <td>Van</td>\n",
       "      <td>39700</td>\n",
       "      <td>VAT deductible</td>\n",
       "      <td>10 km</td>\n",
       "      <td>06/2019</td>\n",
       "      <td>None</td>\n",
       "      <td>NaN</td>\n",
       "      <td>...</td>\n",
       "      <td>[\\nDEK:[2691331], Renault Espace Blue dCi 200C...</td>\n",
       "      <td>NaN</td>\n",
       "      <td>[\\n6\\n]</td>\n",
       "      <td>NaN</td>\n",
       "      <td>NaN</td>\n",
       "      <td>NaN</td>\n",
       "      <td>NaN</td>\n",
       "      <td>NaN</td>\n",
       "      <td>NaN</td>\n",
       "      <td>NaN</td>\n",
       "    </tr>\n",
       "    <tr>\n",
       "      <th>15918</th>\n",
       "      <td>https://www.autoscout24.com//offers/renault-es...</td>\n",
       "      <td>Renault Espace</td>\n",
       "      <td>INITIALE PARIS TCe 225 EDC GPF NAVI SHZ AUX</td>\n",
       "      <td>Van</td>\n",
       "      <td>40999</td>\n",
       "      <td>VAT deductible</td>\n",
       "      <td>- km</td>\n",
       "      <td>01/2019</td>\n",
       "      <td>1 previous owner</td>\n",
       "      <td>NaN</td>\n",
       "      <td>...</td>\n",
       "      <td>[\\n, Sicherheit Airbags:,  , Seitenairbag,  , ...</td>\n",
       "      <td>[\\n4 (Green)\\n]</td>\n",
       "      <td>NaN</td>\n",
       "      <td>[\\nGermany\\n]</td>\n",
       "      <td>NaN</td>\n",
       "      <td>NaN</td>\n",
       "      <td>NaN</td>\n",
       "      <td>NaN</td>\n",
       "      <td>NaN</td>\n",
       "      <td>NaN</td>\n",
       "    </tr>\n",
       "  </tbody>\n",
       "</table>\n",
       "<p>5 rows × 54 columns</p>\n",
       "</div>"
      ],
      "text/plain": [
       "                                                     url      make_model  \\\n",
       "15914  https://www.autoscout24.com//offers/renault-es...  Renault Espace   \n",
       "15915  https://www.autoscout24.com//offers/renault-es...  Renault Espace   \n",
       "15916  https://www.autoscout24.com//offers/renault-es...  Renault Espace   \n",
       "15917  https://www.autoscout24.com//offers/renault-es...  Renault Espace   \n",
       "15918  https://www.autoscout24.com//offers/renault-es...  Renault Espace   \n",
       "\n",
       "                                       short_description body_type  price  \\\n",
       "15914              Blue dCi 200CV EDC Executive 4Control       Van  39950   \n",
       "15915                TCe 225 EDC GPF LIM Deluxe Pano,RFK       Van  39885   \n",
       "15916  Blue dCi 200 EDC Initiale Paris Leder LED Navi...       Van  39875   \n",
       "15917  Blue dCi 200CV EDC Business , NUOVA DA IMMATRI...       Van  39700   \n",
       "15918        INITIALE PARIS TCe 225 EDC GPF NAVI SHZ AUX       Van  40999   \n",
       "\n",
       "                  vat        km registration        prev_owner  kW  ...  \\\n",
       "15914  VAT deductible      - km          -/-              None NaN  ...   \n",
       "15915  VAT deductible  9,900 km      01/2019  1 previous owner NaN  ...   \n",
       "15916  VAT deductible     15 km      03/2019  1 previous owner NaN  ...   \n",
       "15917  VAT deductible     10 km      06/2019              None NaN  ...   \n",
       "15918  VAT deductible      - km      01/2019  1 previous owner NaN  ...   \n",
       "\n",
       "                                             description   Emission Label  \\\n",
       "15914  [\\nVettura visionabile nella sede in Via Roma ...              NaN   \n",
       "15915  [\\nDach: Panorama-Glas-Schiebedach, Lackierung...              NaN   \n",
       "15916  [\\n, Getriebe:,  Automatik, Technik:,  Bordcom...              NaN   \n",
       "15917  [\\nDEK:[2691331], Renault Espace Blue dCi 200C...              NaN   \n",
       "15918  [\\n, Sicherheit Airbags:,  , Seitenairbag,  , ...  [\\n4 (Green)\\n]   \n",
       "\n",
       "         Gears Country version Electricity consumption Last Service Date  \\\n",
       "15914  [\\n6\\n]             NaN                     NaN               NaN   \n",
       "15915  [\\n7\\n]   [\\nGermany\\n]                     NaN               NaN   \n",
       "15916  [\\n6\\n]   [\\nAustria\\n]                     NaN               NaN   \n",
       "15917  [\\n6\\n]             NaN                     NaN               NaN   \n",
       "15918      NaN   [\\nGermany\\n]                     NaN               NaN   \n",
       "\n",
       "      Other Fuel Types                   Availability  \\\n",
       "15914              NaN                            NaN   \n",
       "15915     [[], [], []]    \\nin 5 days from ordering\\n   \n",
       "15916              NaN  \\nin 120 days from ordering\\n   \n",
       "15917              NaN                            NaN   \n",
       "15918              NaN                            NaN   \n",
       "\n",
       "      Last Timing Belt Service Date Available from  \n",
       "15914                           NaN            NaN  \n",
       "15915                           NaN            NaN  \n",
       "15916                           NaN            NaN  \n",
       "15917                           NaN            NaN  \n",
       "15918                           NaN            NaN  \n",
       "\n",
       "[5 rows x 54 columns]"
      ]
     },
     "execution_count": 5,
     "metadata": {},
     "output_type": "execute_result"
    }
   ],
   "source": [
    "df.tail()"
   ]
  },
  {
   "cell_type": "code",
   "execution_count": 6,
   "metadata": {},
   "outputs": [
    {
     "data": {
      "text/plain": [
       "Index(['url', 'make_model', 'short_description', 'body_type', 'price', 'vat',\n",
       "       'km', 'registration', 'prev_owner', 'kW', 'hp', 'Type',\n",
       "       'Previous Owners', 'Next Inspection', 'Inspection new', 'Warranty',\n",
       "       'Full Service', 'Non-smoking Vehicle', 'null', 'Make', 'Model',\n",
       "       'Offer Number', 'First Registration', 'Body Color', 'Paint Type',\n",
       "       'Body Color Original', 'Upholstery', 'Body', 'Nr. of Doors',\n",
       "       'Nr. of Seats', 'Model Code', 'Gearing Type', 'Displacement',\n",
       "       'Cylinders', 'Weight', 'Drive chain', 'Fuel', 'Consumption',\n",
       "       'CO2 Emission', 'Emission Class', '\\nComfort & Convenience\\n',\n",
       "       '\\nEntertainment & Media\\n', '\\nExtras\\n', '\\nSafety & Security\\n',\n",
       "       'description', 'Emission Label', 'Gears', 'Country version',\n",
       "       'Electricity consumption', 'Last Service Date', 'Other Fuel Types',\n",
       "       'Availability', 'Last Timing Belt Service Date', 'Available from'],\n",
       "      dtype='object')"
      ]
     },
     "execution_count": 6,
     "metadata": {},
     "output_type": "execute_result"
    }
   ],
   "source": [
    "#column names should be converted to standard names\n",
    "df.columns"
   ]
  },
  {
   "cell_type": "code",
   "execution_count": 7,
   "metadata": {},
   "outputs": [
    {
     "data": {
      "text/plain": [
       "Index(['url', 'make_model', 'short_description', 'body_type', 'price', 'vat',\n",
       "       'km', 'registration', 'prev_owner', 'k_w', 'hp', 'type',\n",
       "       'previous_owners', 'next_inspection', 'inspection_new', 'warranty',\n",
       "       'full_service', 'non_smoking_vehicle', 'null', 'make', 'model',\n",
       "       'offer_number', 'first_registration', 'body_color', 'paint_type',\n",
       "       'body_color_original', 'upholstery', 'body', 'nr_of_doors',\n",
       "       'nr_of_seats', 'model_code', 'gearing_type', 'displacement',\n",
       "       'cylinders', 'weight', 'drive_chain', 'fuel', 'consumption',\n",
       "       'co_2_emission', 'emission_class', 'comfort_&_convenience',\n",
       "       'entertainment_&_media', 'extras', 'safety_&_security', 'description',\n",
       "       'emission_label', 'gears', 'country_version', 'electricity_consumption',\n",
       "       'last_service_date', 'other_fuel_types', 'availability',\n",
       "       'last_timing_belt_service_date', 'available_from'],\n",
       "      dtype='object')"
      ]
     },
     "execution_count": 7,
     "metadata": {},
     "output_type": "execute_result"
    }
   ],
   "source": [
    "#notice that clean_columns takes dataframe and returns a dataframe with manipulated column names\n",
    "proper_column_names=clean_columns(pd.DataFrame(data=[],columns=df.columns)).columns\n",
    "proper_column_names"
   ]
  },
  {
   "cell_type": "code",
   "execution_count": 8,
   "metadata": {},
   "outputs": [
    {
     "data": {
      "text/plain": [
       "Index(['url', 'make_model', 'short_description', 'body_type', 'price', 'vat',\n",
       "       'km', 'registration', 'prev_owner', 'k_w', 'hp', 'type',\n",
       "       'previous_owners', 'next_inspection', 'inspection_new', 'warranty',\n",
       "       'full_service', 'non_smoking_vehicle', 'null', 'make', 'model',\n",
       "       'offer_number', 'first_registration', 'body_color', 'paint_type',\n",
       "       'body_color_original', 'upholstery', 'body', 'nr_of_doors',\n",
       "       'nr_of_seats', 'model_code', 'gearing_type', 'displacement',\n",
       "       'cylinders', 'weight', 'drive_chain', 'fuel', 'consumption',\n",
       "       'co_2_emission', 'emission_class', 'comfort_&_convenience',\n",
       "       'entertainment_&_media', 'extras', 'safety_&_security', 'description',\n",
       "       'emission_label', 'gears', 'country_version', 'electricity_consumption',\n",
       "       'last_service_date', 'other_fuel_types', 'availability',\n",
       "       'last_timing_belt_service_date', 'available_from'],\n",
       "      dtype='object')"
      ]
     },
     "execution_count": 8,
     "metadata": {},
     "output_type": "execute_result"
    }
   ],
   "source": [
    "#reassign column names\n",
    "df.columns=proper_column_names\n",
    "df.columns"
   ]
  },
  {
   "cell_type": "code",
   "execution_count": 9,
   "metadata": {},
   "outputs": [],
   "source": [
    "#one more action to rename two column names\n",
    "df.rename(columns={'k_w':'kw','co_2_emission':'co2_emission', 'comfort_&_convenience': 'comfort_convenience','safety_&_security':'safety_security','entertainment_&_media':'entertainment_media'}, inplace=True)"
   ]
  },
  {
   "cell_type": "code",
   "execution_count": 10,
   "metadata": {
    "scrolled": true
   },
   "outputs": [
    {
     "data": {
      "text/plain": [
       "Index(['url', 'make_model', 'short_description', 'body_type', 'price', 'vat',\n",
       "       'km', 'registration', 'prev_owner', 'kw', 'hp', 'type',\n",
       "       'previous_owners', 'next_inspection', 'inspection_new', 'warranty',\n",
       "       'full_service', 'non_smoking_vehicle', 'null', 'make', 'model',\n",
       "       'offer_number', 'first_registration', 'body_color', 'paint_type',\n",
       "       'body_color_original', 'upholstery', 'body', 'nr_of_doors',\n",
       "       'nr_of_seats', 'model_code', 'gearing_type', 'displacement',\n",
       "       'cylinders', 'weight', 'drive_chain', 'fuel', 'consumption',\n",
       "       'co2_emission', 'emission_class', 'comfort_convenience',\n",
       "       'entertainment_media', 'extras', 'safety_security', 'description',\n",
       "       'emission_label', 'gears', 'country_version', 'electricity_consumption',\n",
       "       'last_service_date', 'other_fuel_types', 'availability',\n",
       "       'last_timing_belt_service_date', 'available_from'],\n",
       "      dtype='object')"
      ]
     },
     "execution_count": 10,
     "metadata": {},
     "output_type": "execute_result"
    }
   ],
   "source": [
    "#all column names are now proper to use\n",
    "df.columns"
   ]
  },
  {
   "cell_type": "markdown",
   "metadata": {},
   "source": [
    "### Inital Analysis: Missing Values"
   ]
  },
  {
   "cell_type": "markdown",
   "metadata": {},
   "source": [
    "First of all, let us look at missing values and drop the features with missing values more than 90%."
   ]
  },
  {
   "cell_type": "code",
   "execution_count": 11,
   "metadata": {},
   "outputs": [
    {
     "data": {
      "text/plain": [
       "url                                0.000000\n",
       "make_model                         0.000000\n",
       "short_description                  0.288963\n",
       "body_type                          0.376908\n",
       "price                              0.000000\n",
       "vat                               28.349771\n",
       "km                                 0.000000\n",
       "registration                       0.000000\n",
       "prev_owner                        42.892141\n",
       "kw                               100.000000\n",
       "hp                                 0.000000\n",
       "type                               0.012564\n",
       "previous_owners                   41.711163\n",
       "next_inspection                   77.793831\n",
       "inspection_new                    75.299956\n",
       "warranty                          34.047365\n",
       "full_service                      48.395000\n",
       "non_smoking_vehicle               54.915510\n",
       "null                               0.000000\n",
       "make                               0.000000\n",
       "model                              0.000000\n",
       "offer_number                      19.944720\n",
       "first_registration                10.032037\n",
       "body_color                         3.750236\n",
       "paint_type                        36.258559\n",
       "body_color_original               23.613292\n",
       "upholstery                        23.368302\n",
       "body                               0.376908\n",
       "nr_of_doors                        1.331742\n",
       "nr_of_seats                        6.137320\n",
       "model_code                        68.729192\n",
       "gearing_type                       0.000000\n",
       "displacement                       3.115774\n",
       "cylinders                         35.680633\n",
       "weight                            43.809285\n",
       "drive_chain                       43.080596\n",
       "fuel                               0.000000\n",
       "consumption                       11.973114\n",
       "co2_emission                      11.357497\n",
       "emission_class                    18.977323\n",
       "comfort_convenience                5.779257\n",
       "entertainment_media                8.631195\n",
       "extras                            18.606696\n",
       "safety_security                    6.168729\n",
       "description                        0.000000\n",
       "emission_label                    74.967021\n",
       "gears                             29.599849\n",
       "country_version                   52.346253\n",
       "electricity_consumption           99.139393\n",
       "last_service_date                 96.444500\n",
       "other_fuel_types                  94.472015\n",
       "availability                      96.011056\n",
       "last_timing_belt_service_date     99.899491\n",
       "available_from                    98.291350\n",
       "dtype: float64"
      ]
     },
     "execution_count": 11,
     "metadata": {},
     "output_type": "execute_result"
    }
   ],
   "source": [
    "#express the missing values in terms of percentages.\n",
    "df.isnull().sum()*100 / df.shape[0]"
   ]
  },
  {
   "cell_type": "code",
   "execution_count": 12,
   "metadata": {},
   "outputs": [],
   "source": [
    "#missing values in dataframes\n",
    "def df_nans(df, limit):\n",
    "    missing = df.isnull().sum()*100 / df.shape[0]\n",
    "    return missing.loc[lambda x : x >= limit]\n",
    "#missing values in series\n",
    "def column_nans(serial):\n",
    "    # display percentage of nans in a Series\n",
    "    return serial.isnull().sum()*100 / serial.shape[0]"
   ]
  },
  {
   "cell_type": "code",
   "execution_count": 13,
   "metadata": {},
   "outputs": [
    {
     "data": {
      "text/plain": [
       "kw                               100.000000\n",
       "electricity_consumption           99.139393\n",
       "last_service_date                 96.444500\n",
       "other_fuel_types                  94.472015\n",
       "availability                      96.011056\n",
       "last_timing_belt_service_date     99.899491\n",
       "available_from                    98.291350\n",
       "dtype: float64"
      ]
     },
     "execution_count": 13,
     "metadata": {},
     "output_type": "execute_result"
    }
   ],
   "source": [
    "df_nans(df, 90)"
   ]
  },
  {
   "cell_type": "code",
   "execution_count": 14,
   "metadata": {},
   "outputs": [
    {
     "data": {
      "text/plain": [
       "Index(['url', 'make_model', 'short_description', 'body_type', 'price', 'vat',\n",
       "       'km', 'registration', 'prev_owner', 'hp', 'type', 'previous_owners',\n",
       "       'next_inspection', 'inspection_new', 'warranty', 'full_service',\n",
       "       'non_smoking_vehicle', 'null', 'make', 'model', 'offer_number',\n",
       "       'first_registration', 'body_color', 'paint_type', 'body_color_original',\n",
       "       'upholstery', 'body', 'nr_of_doors', 'nr_of_seats', 'model_code',\n",
       "       'gearing_type', 'displacement', 'cylinders', 'weight', 'drive_chain',\n",
       "       'fuel', 'consumption', 'co2_emission', 'emission_class',\n",
       "       'comfort_convenience', 'entertainment_media', 'extras',\n",
       "       'safety_security', 'description', 'emission_label', 'gears',\n",
       "       'country_version'],\n",
       "      dtype='object')"
      ]
     },
     "execution_count": 14,
     "metadata": {},
     "output_type": "execute_result"
    }
   ],
   "source": [
    "#take the column names with higher missing values\n",
    "drop_columns = df_nans(df, 90).index\n",
    "#drop them\n",
    "df.drop(drop_columns, axis=1, inplace=True)\n",
    "df.columns"
   ]
  },
  {
   "cell_type": "code",
   "execution_count": 15,
   "metadata": {},
   "outputs": [],
   "source": [
    "#drop the null named feature\n",
    "df.drop(\"null\", axis=1, inplace=True)"
   ]
  },
  {
   "cell_type": "code",
   "execution_count": 16,
   "metadata": {},
   "outputs": [
    {
     "data": {
      "text/plain": [
       "(15919, 46)"
      ]
     },
     "execution_count": 16,
     "metadata": {},
     "output_type": "execute_result"
    }
   ],
   "source": [
    "#Now, there 47 features left.\n",
    "df.shape"
   ]
  },
  {
   "cell_type": "markdown",
   "metadata": {},
   "source": [
    "## Examination of all features"
   ]
  },
  {
   "cell_type": "markdown",
   "metadata": {},
   "source": [
    "### Featue: url"
   ]
  },
  {
   "cell_type": "code",
   "execution_count": 17,
   "metadata": {},
   "outputs": [
    {
     "data": {
      "text/plain": [
       "https://www.autoscout24.com//offers/audi-a1-sportback-1-4-tdi-s-tronic-xenon-navi-klima-diesel-black-bdab349a-caa5-41b0-98eb-c1345b84445e                  1\n",
       "https://www.autoscout24.com//offers/opel-insignia-bus-inno-2-0-cdti-aut-navi-bi-xe-led-e6-diesel-black-8710b253-dd98-4ed0-9d46-cbad2d79532b                1\n",
       "https://www.autoscout24.com//offers/opel-insignia-sport-tourer-opel-sport-tourer-1-6-cdti-136-ch-a-c-diesel-silver-10b7463b-9f56-4348-af35-df3432b2b585    1\n",
       "https://www.autoscout24.com//offers/opel-insignia-2-0cdti-st-business-innovation-navi-bt-diesel-black-ba5a3368-dedc-4e51-9127-3976b26e93c2                 1\n",
       "https://www.autoscout24.com//offers/opel-insignia-sport-tourer-opel-sport-tourer-1-6-cdti-136-ch-a-c-diesel-silver-7b52f054-78d3-4d5e-9370-8a7d081d7edd    1\n",
       "                                                                                                                                                          ..\n",
       "https://www.autoscout24.com//offers/audi-a3-sb-30-1-6-tdi-business-116cv-s-tronic-diesel-black-cf50f7b1-4d7b-466f-93a2-4e11ec0b4107                        1\n",
       "https://www.autoscout24.com//offers/audi-a3-sb-30-1-6-tdi-business-116cv-s-tronic-diesel-grey-3f47eb34-15c4-4763-860d-78fcbbd2c9ff                         1\n",
       "https://www.autoscout24.com//offers/audi-a3-sb-30-1-6-tdi-business-116cv-s-tronic-diesel-silver-f7a4bc95-b2ef-4bac-9497-6bcbcd05db0b                       1\n",
       "https://www.autoscout24.com//offers/audi-a3-sb-30-1-6-tdi-business-116cv-s-tronic-diesel-silver-1c94c7a2-67b5-49ca-ae42-42a6800fb3f5                       1\n",
       "https://www.autoscout24.com//offers/renault-espace-initiale-paris-tce-225-edc-gpf-navi-shz-aux-gasoline-grey-0bd690d9-7e93-4cab-bc5a-9d5b63402481          1\n",
       "Name: url, Length: 15919, dtype: int64"
      ]
     },
     "execution_count": 17,
     "metadata": {},
     "output_type": "execute_result"
    }
   ],
   "source": [
    "df.url.value_counts(dropna=False)"
   ]
  },
  {
   "cell_type": "code",
   "execution_count": 18,
   "metadata": {},
   "outputs": [],
   "source": [
    "# A data analyst should primarily benefit from all incoming data\n",
    "# But, it is no need for url since this information can be obtained from other features as well.\n",
    "\n",
    "df.drop(\"url\", axis=1, inplace=True)"
   ]
  },
  {
   "cell_type": "markdown",
   "metadata": {},
   "source": [
    "### Features: make_model,  make and model"
   ]
  },
  {
   "cell_type": "code",
   "execution_count": 19,
   "metadata": {},
   "outputs": [
    {
     "name": "stdout",
     "output_type": "stream",
     "text": [
      "<class 'pandas.core.series.Series'>\n",
      "RangeIndex: 15919 entries, 0 to 15918\n",
      "Series name: make_model\n",
      "Non-Null Count  Dtype \n",
      "--------------  ----- \n",
      "15919 non-null  object\n",
      "dtypes: object(1)\n",
      "memory usage: 124.5+ KB\n"
     ]
    }
   ],
   "source": [
    "#start with first column and check for non values\n",
    "df.make_model.info()"
   ]
  },
  {
   "cell_type": "code",
   "execution_count": 20,
   "metadata": {},
   "outputs": [
    {
     "data": {
      "text/plain": [
       "Audi A3           3097\n",
       "Audi A1           2614\n",
       "Opel Insignia     2598\n",
       "Opel Astra        2526\n",
       "Opel Corsa        2219\n",
       "Renault Clio      1839\n",
       "Renault Espace     991\n",
       "Renault Duster      34\n",
       "Audi A2              1\n",
       "Name: make_model, dtype: int64"
      ]
     },
     "execution_count": 20,
     "metadata": {},
     "output_type": "execute_result"
    }
   ],
   "source": [
    "#there is no null values and all values are proper\n",
    "df.make_model.value_counts()"
   ]
  },
  {
   "cell_type": "code",
   "execution_count": 21,
   "metadata": {},
   "outputs": [
    {
     "data": {
      "text/plain": [
       "\\nOpel\\n       7343\n",
       "\\nAudi\\n       5712\n",
       "\\nRenault\\n    2864\n",
       "Name: make, dtype: int64"
      ]
     },
     "execution_count": 21,
     "metadata": {},
     "output_type": "execute_result"
    }
   ],
   "source": [
    "df.make.value_counts()"
   ]
  },
  {
   "cell_type": "code",
   "execution_count": 22,
   "metadata": {},
   "outputs": [],
   "source": [
    "df[\"make\"] = df.make.str.strip('\\n')"
   ]
  },
  {
   "cell_type": "code",
   "execution_count": 23,
   "metadata": {},
   "outputs": [
    {
     "data": {
      "text/plain": [
       "Opel       7343\n",
       "Audi       5712\n",
       "Renault    2864\n",
       "Name: make, dtype: int64"
      ]
     },
     "execution_count": 23,
     "metadata": {},
     "output_type": "execute_result"
    }
   ],
   "source": [
    "df.make.value_counts(dropna=False)"
   ]
  },
  {
   "cell_type": "code",
   "execution_count": 24,
   "metadata": {},
   "outputs": [
    {
     "data": {
      "text/plain": [
       "['\\n', 'A3', '\\n']          3097\n",
       "['\\n', 'A1', '\\n']          2614\n",
       "['\\n', 'Insignia', '\\n']    2598\n",
       "['\\n', 'Astra', '\\n']       2526\n",
       "['\\n', 'Corsa', '\\n']       2219\n",
       "['\\n', 'Clio', '\\n']        1839\n",
       "['\\n', 'Espace', '\\n']       991\n",
       "['\\n', 'Duster', '\\n']        34\n",
       "['\\n', 'A2', '\\n']             1\n",
       "Name: model, dtype: int64"
      ]
     },
     "execution_count": 24,
     "metadata": {},
     "output_type": "execute_result"
    }
   ],
   "source": [
    "df.model.astype(\"str\").value_counts(dropna=False)"
   ]
  },
  {
   "cell_type": "code",
   "execution_count": 25,
   "metadata": {},
   "outputs": [
    {
     "data": {
      "text/plain": [
       "0            A1\n",
       "1            A1\n",
       "2            A1\n",
       "3            A1\n",
       "4            A1\n",
       "          ...  \n",
       "15914    Espace\n",
       "15915    Espace\n",
       "15916    Espace\n",
       "15917    Espace\n",
       "15918    Espace\n",
       "Name: model, Length: 15919, dtype: object"
      ]
     },
     "execution_count": 25,
     "metadata": {},
     "output_type": "execute_result"
    }
   ],
   "source": [
    "df[\"model\"].transform(lambda x: x.str[1])"
   ]
  },
  {
   "cell_type": "code",
   "execution_count": 26,
   "metadata": {},
   "outputs": [],
   "source": [
    "df[\"model\"] = df.model.str[1]"
   ]
  },
  {
   "cell_type": "code",
   "execution_count": 27,
   "metadata": {},
   "outputs": [
    {
     "data": {
      "text/plain": [
       "A3          3097\n",
       "A1          2614\n",
       "Insignia    2598\n",
       "Astra       2526\n",
       "Corsa       2219\n",
       "Clio        1839\n",
       "Espace       991\n",
       "Duster        34\n",
       "A2             1\n",
       "Name: model, dtype: int64"
      ]
     },
     "execution_count": 27,
     "metadata": {},
     "output_type": "execute_result"
    }
   ],
   "source": [
    "df.model.value_counts(dropna=False)"
   ]
  },
  {
   "cell_type": "markdown",
   "metadata": {},
   "source": [
    "__Decision:__ make_model contains the information in make and model. So, let us drop make and model features."
   ]
  },
  {
   "cell_type": "code",
   "execution_count": 28,
   "metadata": {},
   "outputs": [],
   "source": [
    "df.drop(['model','make'], axis=1, inplace=True)"
   ]
  },
  {
   "cell_type": "markdown",
   "metadata": {},
   "source": [
    "## Feature: short_description"
   ]
  },
  {
   "cell_type": "code",
   "execution_count": 29,
   "metadata": {},
   "outputs": [
    {
     "data": {
      "text/plain": [
       "SPB 1.6 TDI 116 CV S tronic Sport                 64\n",
       "None                                              46\n",
       "1.4 66kW (90CV) Selective                         40\n",
       "MOVE KLIMA CD USB ALLWETTER BLUETOOTH             38\n",
       "SPB 30 TDI S tronic Business                      35\n",
       "                                                  ..\n",
       "K Sports Tourer Business **Navi*Voll**             1\n",
       "1.0 Turbo ecoFLEX Automatic Elective Park Navi     1\n",
       "1.6 CDTI Business *Navi*Automatik*Spurh.*          1\n",
       "1.6 136 CV Automatica Navi E 6 Garanzia Full       1\n",
       "TCe 225 EDC GPF LIM Deluxe Pano,RFK                1\n",
       "Name: short_description, Length: 10002, dtype: int64"
      ]
     },
     "execution_count": 29,
     "metadata": {},
     "output_type": "execute_result"
    }
   ],
   "source": [
    "df.short_description.value_counts(dropna=False)"
   ]
  },
  {
   "cell_type": "code",
   "execution_count": 30,
   "metadata": {},
   "outputs": [],
   "source": [
    "#all inforamtion included in other features\n",
    "df.drop(\"short_description\", axis=1, inplace=True)"
   ]
  },
  {
   "cell_type": "markdown",
   "metadata": {},
   "source": [
    "## Feature: description"
   ]
  },
  {
   "cell_type": "code",
   "execution_count": 31,
   "metadata": {},
   "outputs": [
    {
     "data": {
      "text/plain": [
       "0        [\\n, Sicherheit:,  , Deaktivierung für Beifahr...\n",
       "1        [\\nLangstreckenfahrzeug daher die hohe Kilomet...\n",
       "2        [\\n, Fahrzeug-Nummer: AM-95365,  , Ehem. UPE 2...\n",
       "3        [\\nAudi A1: , - 1e eigenaar , - Perfecte staat...\n",
       "4        [\\n, Technik & Sicherheit:, Xenon plus, Klimaa...\n",
       "                               ...                        \n",
       "15914    [\\nVettura visionabile nella sede in Via Roma ...\n",
       "15915    [\\nDach: Panorama-Glas-Schiebedach, Lackierung...\n",
       "15916    [\\n, Getriebe:,  Automatik, Technik:,  Bordcom...\n",
       "15917    [\\nDEK:[2691331], Renault Espace Blue dCi 200C...\n",
       "15918    [\\n, Sicherheit Airbags:,  , Seitenairbag,  , ...\n",
       "Name: description, Length: 15919, dtype: object"
      ]
     },
     "execution_count": 31,
     "metadata": {},
     "output_type": "execute_result"
    }
   ],
   "source": [
    "df['description']"
   ]
  },
  {
   "cell_type": "code",
   "execution_count": 32,
   "metadata": {},
   "outputs": [],
   "source": [
    "#no need for the model\n",
    "df.drop(\"description\", axis=1, inplace=True)"
   ]
  },
  {
   "cell_type": "markdown",
   "metadata": {},
   "source": [
    "### Features: body and body_type"
   ]
  },
  {
   "cell_type": "code",
   "execution_count": 33,
   "metadata": {},
   "outputs": [
    {
     "name": "stdout",
     "output_type": "stream",
     "text": [
      "<class 'pandas.core.series.Series'>\n",
      "RangeIndex: 15919 entries, 0 to 15918\n",
      "Series name: body_type\n",
      "Non-Null Count  Dtype \n",
      "--------------  ----- \n",
      "15859 non-null  object\n",
      "dtypes: object(1)\n",
      "memory usage: 124.5+ KB\n"
     ]
    }
   ],
   "source": [
    "#examine body_type column and notice that there are null values\n",
    "df.body_type.info()"
   ]
  },
  {
   "cell_type": "code",
   "execution_count": 34,
   "metadata": {},
   "outputs": [
    {
     "data": {
      "text/plain": [
       "Sedans           7903\n",
       "Station wagon    3553\n",
       "Compact          3153\n",
       "Van               783\n",
       "Other             290\n",
       "Transporter        88\n",
       "Off-Road           56\n",
       "Coupe              25\n",
       "Convertible         8\n",
       "Name: body_type, dtype: int64"
      ]
     },
     "execution_count": 34,
     "metadata": {},
     "output_type": "execute_result"
    }
   ],
   "source": [
    "#all values are in good shape\n",
    "df.body_type.value_counts()"
   ]
  },
  {
   "cell_type": "code",
   "execution_count": 35,
   "metadata": {},
   "outputs": [
    {
     "data": {
      "text/plain": [
       "['\\n', 'Sedans', '\\n']           7903\n",
       "['\\n', 'Station wagon', '\\n']    3553\n",
       "['\\n', 'Compact', '\\n']          3153\n",
       "['\\n', 'Van', '\\n']               783\n",
       "['\\n', 'Other', '\\n']             290\n",
       "['\\n', 'Transporter', '\\n']        88\n",
       "nan                                60\n",
       "['\\n', 'Off-Road', '\\n']           56\n",
       "['\\n', 'Coupe', '\\n']              25\n",
       "['\\n', 'Convertible', '\\n']         8\n",
       "Name: body, dtype: int64"
      ]
     },
     "execution_count": 35,
     "metadata": {},
     "output_type": "execute_result"
    }
   ],
   "source": [
    "df.body.astype('str').value_counts(dropna=False)"
   ]
  },
  {
   "cell_type": "markdown",
   "metadata": {},
   "source": [
    "Drop the body since both features contain same information."
   ]
  },
  {
   "cell_type": "code",
   "execution_count": 36,
   "metadata": {},
   "outputs": [],
   "source": [
    "df.drop(\"body\", axis = 1, inplace = True)"
   ]
  },
  {
   "cell_type": "markdown",
   "metadata": {},
   "source": [
    "### Feature: price"
   ]
  },
  {
   "cell_type": "code",
   "execution_count": 37,
   "metadata": {},
   "outputs": [
    {
     "name": "stdout",
     "output_type": "stream",
     "text": [
      "<class 'pandas.core.series.Series'>\n",
      "RangeIndex: 15919 entries, 0 to 15918\n",
      "Series name: price\n",
      "Non-Null Count  Dtype\n",
      "--------------  -----\n",
      "15919 non-null  int64\n",
      "dtypes: int64(1)\n",
      "memory usage: 124.5 KB\n"
     ]
    }
   ],
   "source": [
    "#check the price column and see there is no null values\n",
    "df.price.info()"
   ]
  },
  {
   "cell_type": "code",
   "execution_count": 38,
   "metadata": {},
   "outputs": [
    {
     "data": {
      "text/plain": [
       "count    15919.000000\n",
       "mean     18019.896727\n",
       "std       7386.169409\n",
       "min         13.000000\n",
       "25%      12850.000000\n",
       "50%      16900.000000\n",
       "75%      21900.000000\n",
       "max      74600.000000\n",
       "Name: price, dtype: float64"
      ]
     },
     "execution_count": 38,
     "metadata": {},
     "output_type": "execute_result"
    }
   ],
   "source": [
    "#minimum price is $13 and maximum price $74600\n",
    "df.price.describe()"
   ]
  },
  {
   "cell_type": "markdown",
   "metadata": {},
   "source": [
    "### Feature: vat (value added taxes)"
   ]
  },
  {
   "cell_type": "code",
   "execution_count": 39,
   "metadata": {},
   "outputs": [
    {
     "name": "stdout",
     "output_type": "stream",
     "text": [
      "<class 'pandas.core.series.Series'>\n",
      "RangeIndex: 15919 entries, 0 to 15918\n",
      "Series name: vat\n",
      "Non-Null Count  Dtype \n",
      "--------------  ----- \n",
      "11406 non-null  object\n",
      "dtypes: object(1)\n",
      "memory usage: 124.5+ KB\n"
     ]
    }
   ],
   "source": [
    "#check vat column and there are null values\n",
    "df.vat.info()"
   ]
  },
  {
   "cell_type": "code",
   "execution_count": 40,
   "metadata": {},
   "outputs": [
    {
     "data": {
      "text/plain": [
       "VAT deductible      10980\n",
       "Price negotiable      426\n",
       "Name: vat, dtype: int64"
      ]
     },
     "execution_count": 40,
     "metadata": {},
     "output_type": "execute_result"
    }
   ],
   "source": [
    "#there are mainly two values, which are proper to use\n",
    "df.vat.value_counts()"
   ]
  },
  {
   "cell_type": "markdown",
   "metadata": {},
   "source": [
    "### Feature: km (kilometer)"
   ]
  },
  {
   "cell_type": "code",
   "execution_count": 41,
   "metadata": {},
   "outputs": [
    {
     "name": "stdout",
     "output_type": "stream",
     "text": [
      "<class 'pandas.core.series.Series'>\n",
      "RangeIndex: 15919 entries, 0 to 15918\n",
      "Series name: km\n",
      "Non-Null Count  Dtype \n",
      "--------------  ----- \n",
      "15919 non-null  object\n",
      "dtypes: object(1)\n",
      "memory usage: 124.5+ KB\n"
     ]
    }
   ],
   "source": [
    "#Focus on km column and there is no null values\n",
    "df.km.info()"
   ]
  },
  {
   "cell_type": "code",
   "execution_count": 42,
   "metadata": {},
   "outputs": [
    {
     "data": {
      "text/plain": [
       "10 km        1045\n",
       "- km         1024\n",
       "1 km          367\n",
       "5 km          170\n",
       "50 km         148\n",
       "             ... \n",
       "67,469 km       1\n",
       "43,197 km       1\n",
       "10,027 km       1\n",
       "35,882 km       1\n",
       "57 km           1\n",
       "Name: km, Length: 6690, dtype: int64"
      ]
     },
     "execution_count": 42,
     "metadata": {},
     "output_type": "execute_result"
    }
   ],
   "source": [
    "#although there is no null values, but there is \"- km\" values\n",
    "df.km.value_counts()"
   ]
  },
  {
   "cell_type": "code",
   "execution_count": 43,
   "metadata": {},
   "outputs": [],
   "source": [
    "#Replace \"- km\" with np.nan\n",
    "df.km=df.km.replace(\"- km\",np.nan)"
   ]
  },
  {
   "cell_type": "code",
   "execution_count": 44,
   "metadata": {
    "scrolled": true
   },
   "outputs": [],
   "source": [
    "#get rid of 'km' and ','\n",
    "df.km=df.km.str.replace(\" km\",\"\")\n",
    "df.km=df.km.str.replace(\",\",\"\")"
   ]
  },
  {
   "cell_type": "code",
   "execution_count": 45,
   "metadata": {
    "scrolled": true
   },
   "outputs": [
    {
     "data": {
      "text/plain": [
       "0        56013.0\n",
       "1        80000.0\n",
       "2        83450.0\n",
       "3        73000.0\n",
       "4        16200.0\n",
       "          ...   \n",
       "15914        NaN\n",
       "15915     9900.0\n",
       "15916       15.0\n",
       "15917       10.0\n",
       "15918        NaN\n",
       "Name: km, Length: 15919, dtype: float64"
      ]
     },
     "execution_count": 45,
     "metadata": {},
     "output_type": "execute_result"
    }
   ],
   "source": [
    "#convert data type to integer\n",
    "df['km'].astype(float)"
   ]
  },
  {
   "cell_type": "markdown",
   "metadata": {},
   "source": [
    "### Features: registration and first_registration"
   ]
  },
  {
   "cell_type": "code",
   "execution_count": 46,
   "metadata": {},
   "outputs": [
    {
     "name": "stdout",
     "output_type": "stream",
     "text": [
      "<class 'pandas.core.series.Series'>\n",
      "RangeIndex: 15919 entries, 0 to 15918\n",
      "Series name: registration\n",
      "Non-Null Count  Dtype \n",
      "--------------  ----- \n",
      "15919 non-null  object\n",
      "dtypes: object(1)\n",
      "memory usage: 124.5+ KB\n"
     ]
    }
   ],
   "source": [
    "#check registration column and there is no null values\n",
    "df.registration.info()"
   ]
  },
  {
   "cell_type": "code",
   "execution_count": 47,
   "metadata": {},
   "outputs": [
    {
     "data": {
      "text/plain": [
       "-/-        1597\n",
       "03/2018     695\n",
       "02/2019     585\n",
       "05/2018     572\n",
       "03/2019     543\n",
       "01/2019     541\n",
       "04/2018     541\n",
       "02/2018     539\n",
       "03/2016     536\n",
       "04/2016     532\n",
       "06/2018     532\n",
       "01/2018     511\n",
       "04/2019     506\n",
       "02/2016     472\n",
       "03/2017     471\n",
       "05/2016     459\n",
       "06/2016     452\n",
       "05/2019     440\n",
       "06/2017     409\n",
       "05/2017     404\n",
       "07/2018     396\n",
       "04/2017     380\n",
       "01/2016     376\n",
       "02/2017     368\n",
       "01/2017     306\n",
       "08/2018     285\n",
       "06/2019     224\n",
       "07/2017     215\n",
       "11/2017     180\n",
       "07/2016     176\n",
       "10/2016     160\n",
       "10/2017     154\n",
       "09/2017     149\n",
       "11/2016     142\n",
       "09/2018     141\n",
       "09/2016     141\n",
       "12/2016     134\n",
       "12/2017     123\n",
       "08/2017     114\n",
       "11/2018     110\n",
       "12/2018     103\n",
       "10/2018      97\n",
       "08/2016      94\n",
       "07/2019       6\n",
       "09/2019       5\n",
       "08/2019       1\n",
       "11/2019       1\n",
       "12/2019       1\n",
       "Name: registration, dtype: int64"
      ]
     },
     "execution_count": 47,
     "metadata": {},
     "output_type": "execute_result"
    }
   ],
   "source": [
    "#Although there is no null values, there are \"-/-\".\n",
    "df.registration.value_counts()"
   ]
  },
  {
   "cell_type": "code",
   "execution_count": 48,
   "metadata": {},
   "outputs": [
    {
     "data": {
      "text/plain": [
       "[\\n, 2018, \\n]    4522\n",
       "[\\n, 2016, \\n]    3674\n",
       "[\\n, 2017, \\n]    3273\n",
       "[\\n, 2019, \\n]    2853\n",
       "NaN               1597\n",
       "Name: first_registration, dtype: int64"
      ]
     },
     "execution_count": 48,
     "metadata": {},
     "output_type": "execute_result"
    }
   ],
   "source": [
    "df[\"first_registration\"].value_counts(dropna=False)"
   ]
  },
  {
   "cell_type": "code",
   "execution_count": 49,
   "metadata": {},
   "outputs": [],
   "source": [
    "#let us clean all values\n",
    "for i in df.index:\n",
    "    if type(df.at[i,\"first_registration\"])==list:\n",
    "        temp=df.at[i,\"first_registration\"]\n",
    "        for k in temp:\n",
    "            k=k.replace(\"\\n\",\"\")\n",
    "            if k!='':\n",
    "                df.at[i,\"first_registration\"]=str.strip(k)"
   ]
  },
  {
   "cell_type": "code",
   "execution_count": 50,
   "metadata": {},
   "outputs": [
    {
     "data": {
      "text/plain": [
       "2018    4522\n",
       "2016    3674\n",
       "2017    3273\n",
       "2019    2853\n",
       "NaN     1597\n",
       "Name: first_registration, dtype: int64"
      ]
     },
     "execution_count": 50,
     "metadata": {},
     "output_type": "execute_result"
    }
   ],
   "source": [
    "df[\"first_registration\"].value_counts(dropna=False)"
   ]
  },
  {
   "cell_type": "code",
   "execution_count": 51,
   "metadata": {},
   "outputs": [],
   "source": [
    "#the data was collected in year 2019\n",
    "#it is better to define the age of the cars for modelling\n",
    "df['age'] = 2019 - df['first_registration'].astype(float)"
   ]
  },
  {
   "cell_type": "code",
   "execution_count": 52,
   "metadata": {},
   "outputs": [
    {
     "data": {
      "text/plain": [
       "1.0    4522\n",
       "3.0    3674\n",
       "2.0    3273\n",
       "0.0    2853\n",
       "Name: age, dtype: int64"
      ]
     },
     "execution_count": 52,
     "metadata": {},
     "output_type": "execute_result"
    }
   ],
   "source": [
    "df.age.value_counts()"
   ]
  },
  {
   "cell_type": "code",
   "execution_count": 53,
   "metadata": {},
   "outputs": [],
   "source": [
    "#drop first_registration since new feature is age.\n",
    "#drop registration since no need to use months\n",
    "df.drop([\"registration\", \"first_registration\"], axis=1, inplace=True)"
   ]
  },
  {
   "cell_type": "markdown",
   "metadata": {},
   "source": [
    "### Feature: prev_owner and previous_owners"
   ]
  },
  {
   "cell_type": "code",
   "execution_count": 54,
   "metadata": {},
   "outputs": [
    {
     "name": "stdout",
     "output_type": "stream",
     "text": [
      "<class 'pandas.core.series.Series'>\n",
      "RangeIndex: 15919 entries, 0 to 15918\n",
      "Series name: prev_owner\n",
      "Non-Null Count  Dtype \n",
      "--------------  ----- \n",
      "9091 non-null   object\n",
      "dtypes: object(1)\n",
      "memory usage: 124.5+ KB\n"
     ]
    }
   ],
   "source": [
    "#check previous owner column and see that there are null values\n",
    "df.prev_owner.info()"
   ]
  },
  {
   "cell_type": "code",
   "execution_count": 55,
   "metadata": {},
   "outputs": [
    {
     "data": {
      "text/plain": [
       "1 previous owner     8294\n",
       "2 previous owners     778\n",
       "3 previous owners      17\n",
       "4 previous owners       2\n",
       "Name: prev_owner, dtype: int64"
      ]
     },
     "execution_count": 55,
     "metadata": {},
     "output_type": "execute_result"
    }
   ],
   "source": [
    "#See the count of values\n",
    "df.prev_owner.value_counts()"
   ]
  },
  {
   "cell_type": "code",
   "execution_count": 56,
   "metadata": {},
   "outputs": [],
   "source": [
    "#Get rid of string values and leave only numerical values\n",
    "df.prev_owner=df.prev_owner.str.replace(r\"[^0-9]+\", \"\",regex=True)"
   ]
  },
  {
   "cell_type": "code",
   "execution_count": 57,
   "metadata": {},
   "outputs": [
    {
     "data": {
      "text/plain": [
       "1.0    8294\n",
       "2.0     778\n",
       "3.0      17\n",
       "4.0       2\n",
       "Name: prev_owner, dtype: int64"
      ]
     },
     "execution_count": 57,
     "metadata": {},
     "output_type": "execute_result"
    }
   ],
   "source": [
    "#then convert into float\n",
    "df.prev_owner=df.prev_owner.astype(float)\n",
    "#check again\n",
    "df.prev_owner.value_counts()"
   ]
  },
  {
   "cell_type": "code",
   "execution_count": 58,
   "metadata": {},
   "outputs": [
    {
     "name": "stdout",
     "output_type": "stream",
     "text": [
      "<class 'pandas.core.series.Series'>\n",
      "RangeIndex: 15919 entries, 0 to 15918\n",
      "Series name: previous_owners\n",
      "Non-Null Count  Dtype \n",
      "--------------  ----- \n",
      "9279 non-null   object\n",
      "dtypes: object(1)\n",
      "memory usage: 124.5+ KB\n"
     ]
    }
   ],
   "source": [
    "#check again previous owner column\n",
    "df.previous_owners.info()"
   ]
  },
  {
   "cell_type": "code",
   "execution_count": 59,
   "metadata": {},
   "outputs": [
    {
     "data": {
      "text/plain": [
       "\\n1\\n                                                                                        8101\n",
       "\\n2\\n                                                                                         766\n",
       "\\n0\\n                                                                                         163\n",
       "\\n3\\n                                                                                          17\n",
       "[\\n1\\n, \\n168 g CO2/km (comb)\\n]                                                               13\n",
       "                                                                                             ... \n",
       "[\\n1\\n, \\n111 g CO2/km (comb)\\n]                                                                1\n",
       "[\\n1\\n, \\nEuro 6\\n]                                                                             1\n",
       "[\\n2\\n, \\n119 g CO2/km (comb)\\n]                                                                1\n",
       "[\\n1\\n, \\n, 6.6 l/100 km (comb), \\n, 8.1 l/100 km (city), \\n, 5.7 l/100 km (country), \\n]       1\n",
       "[\\n1\\n, \\n142 g CO2/km (comb)\\n]                                                                1\n",
       "Name: previous_owners, Length: 102, dtype: int64"
      ]
     },
     "execution_count": 59,
     "metadata": {},
     "output_type": "execute_result"
    }
   ],
   "source": [
    "df.previous_owners.value_counts()"
   ]
  },
  {
   "cell_type": "code",
   "execution_count": 60,
   "metadata": {},
   "outputs": [
    {
     "data": {
      "text/plain": [
       "1          8294\n",
       "2           778\n",
       "unknown     338\n",
       "0           188\n",
       "3            17\n",
       "4             2\n",
       "dtype: int64"
      ]
     },
     "execution_count": 60,
     "metadata": {},
     "output_type": "execute_result"
    }
   ],
   "source": [
    "#Let us see all values except entries with \"km\" and \"Euro 6\"\n",
    "temp=[]\n",
    "for i in df.previous_owners:\n",
    "    if type(i)==list:\n",
    "        for j in i:\n",
    "            temp_list=j.split(\"\\n\")\n",
    "            for k in temp_list:\n",
    "                if k!='':\n",
    "                    if \"km\" not in k and \"Euro 6\" not in k:\n",
    "                        temp.append(str.strip(k))\n",
    "                    else:\n",
    "                        temp.append(\"unknown\")\n",
    "    if type(i)==str:\n",
    "        temp_list=i.split(\"\\n\")\n",
    "        for k in temp_list:\n",
    "            if k!='':\n",
    "                if \"km\" not in k and \"Euro 6\" not in k:\n",
    "                    temp.append(str.strip(k))\n",
    "                else:\n",
    "                    temp.append(\"unknown\")\n",
    "        \n",
    "temp_df=pd.DataFrame(temp)\n",
    "temp_df.value_counts()"
   ]
  },
  {
   "cell_type": "code",
   "execution_count": 61,
   "metadata": {},
   "outputs": [],
   "source": [
    "#now assign previous owner column proper values\n",
    "for i in df.previous_owners.index:\n",
    "    if type(df.at[i, 'previous_owners'])==list:\n",
    "        for j in df.at[i, 'previous_owners']:\n",
    "            temp_list=j.split(\"\\n\")\n",
    "            for k in temp_list:\n",
    "                if k!='':\n",
    "                    if \"km\" not in k and \"Euro 6\" not in k:\n",
    "                        df.at[i, 'previous_owners']=str.strip(k)\n",
    "    if type(df.at[i, 'previous_owners'])==str:\n",
    "        temp_list=df.at[i, 'previous_owners'].split(\"\\n\")\n",
    "        for k in temp_list:\n",
    "            if k!='':\n",
    "                if \"km\" not in k and \"Euro 6\" not in k:\n",
    "                    df.at[i, 'previous_owners']=str.strip(k)"
   ]
  },
  {
   "cell_type": "code",
   "execution_count": 62,
   "metadata": {},
   "outputs": [
    {
     "data": {
      "text/plain": [
       "1    8294\n",
       "2     778\n",
       "0     188\n",
       "3      17\n",
       "4       2\n",
       "Name: previous_owners, dtype: int64"
      ]
     },
     "execution_count": 62,
     "metadata": {},
     "output_type": "execute_result"
    }
   ],
   "source": [
    "#Notice that the values are same with the previous results\n",
    "#but this time there are zero values\n",
    "df.previous_owners.value_counts()"
   ]
  },
  {
   "cell_type": "code",
   "execution_count": 63,
   "metadata": {},
   "outputs": [],
   "source": [
    "df.previous_owners=df.previous_owners.astype(float)"
   ]
  },
  {
   "cell_type": "code",
   "execution_count": 64,
   "metadata": {},
   "outputs": [],
   "source": [
    "df[\"previous_owners\"].fillna(df[\"prev_owner\"], inplace=True)"
   ]
  },
  {
   "cell_type": "code",
   "execution_count": 65,
   "metadata": {},
   "outputs": [
    {
     "data": {
      "text/plain": [
       "1.0    8294\n",
       "NaN    6640\n",
       "2.0     778\n",
       "0.0     188\n",
       "3.0      17\n",
       "4.0       2\n",
       "Name: previous_owners, dtype: int64"
      ]
     },
     "execution_count": 65,
     "metadata": {},
     "output_type": "execute_result"
    }
   ],
   "source": [
    "df[\"previous_owners\"].value_counts(dropna=False)"
   ]
  },
  {
   "cell_type": "code",
   "execution_count": 66,
   "metadata": {},
   "outputs": [],
   "source": [
    "#drop prev_owner since no need anymore\n",
    "df.drop([\"prev_owner\"], axis=1, inplace=True)"
   ]
  },
  {
   "cell_type": "markdown",
   "metadata": {},
   "source": [
    "### Feature: hp"
   ]
  },
  {
   "cell_type": "code",
   "execution_count": 67,
   "metadata": {},
   "outputs": [
    {
     "name": "stdout",
     "output_type": "stream",
     "text": [
      "<class 'pandas.core.series.Series'>\n",
      "RangeIndex: 15919 entries, 0 to 15918\n",
      "Series name: hp\n",
      "Non-Null Count  Dtype \n",
      "--------------  ----- \n",
      "15919 non-null  object\n",
      "dtypes: object(1)\n",
      "memory usage: 124.5+ KB\n"
     ]
    }
   ],
   "source": [
    "#check hp column and see that there is no null values\n",
    "df.hp.info()"
   ]
  },
  {
   "cell_type": "code",
   "execution_count": 68,
   "metadata": {},
   "outputs": [
    {
     "data": {
      "text/plain": [
       "85 kW     2542\n",
       "66 kW     2122\n",
       "81 kW     1402\n",
       "100 kW    1308\n",
       "110 kW    1112\n",
       "          ... \n",
       "84 kW        1\n",
       "195 kW       1\n",
       "44 kW        1\n",
       "239 kW       1\n",
       "9 kW         1\n",
       "Name: hp, Length: 81, dtype: int64"
      ]
     },
     "execution_count": 68,
     "metadata": {},
     "output_type": "execute_result"
    }
   ],
   "source": [
    "#count all values and there are some \"- kW\" values\n",
    "df.hp.value_counts()"
   ]
  },
  {
   "cell_type": "code",
   "execution_count": 69,
   "metadata": {},
   "outputs": [],
   "source": [
    "#replace all \" kW\" with \"\"\n",
    "df.hp=df.hp.str.replace(\" kW\",\"\")\n",
    "#replace all \"-\" with null values\n",
    "df.hp=df.hp.replace(\"-\",np.nan)"
   ]
  },
  {
   "cell_type": "code",
   "execution_count": 70,
   "metadata": {},
   "outputs": [
    {
     "data": {
      "text/plain": [
       "85.0     2542\n",
       "66.0     2122\n",
       "81.0     1402\n",
       "100.0    1308\n",
       "110.0    1112\n",
       "         ... \n",
       "137.0       1\n",
       "9.0         1\n",
       "44.0        1\n",
       "133.0       1\n",
       "239.0       1\n",
       "Name: hp, Length: 80, dtype: int64"
      ]
     },
     "execution_count": 70,
     "metadata": {},
     "output_type": "execute_result"
    }
   ],
   "source": [
    "#convert into integer\n",
    "df.hp=df.hp.astype(float)\n",
    "#check again\n",
    "df.hp.value_counts()"
   ]
  },
  {
   "cell_type": "code",
   "execution_count": 71,
   "metadata": {},
   "outputs": [],
   "source": [
    "df[\"hp_kW\"]=df[\"hp\"]"
   ]
  },
  {
   "cell_type": "code",
   "execution_count": 72,
   "metadata": {},
   "outputs": [],
   "source": [
    "#now drop hp feature\n",
    "df.drop([\"hp\"], axis=1, inplace=True)"
   ]
  },
  {
   "cell_type": "markdown",
   "metadata": {},
   "source": [
    "### Feature: type"
   ]
  },
  {
   "cell_type": "code",
   "execution_count": 73,
   "metadata": {},
   "outputs": [
    {
     "name": "stdout",
     "output_type": "stream",
     "text": [
      "<class 'pandas.core.series.Series'>\n",
      "RangeIndex: 15919 entries, 0 to 15918\n",
      "Series name: type\n",
      "Non-Null Count  Dtype \n",
      "--------------  ----- \n",
      "15917 non-null  object\n",
      "dtypes: object(1)\n",
      "memory usage: 124.5+ KB\n"
     ]
    }
   ],
   "source": [
    "#check type column and 2 rows has nul values\n",
    "df.type.info()"
   ]
  },
  {
   "cell_type": "code",
   "execution_count": 74,
   "metadata": {},
   "outputs": [
    {
     "data": {
      "text/plain": [
       "[, Used, , Diesel (Particulate Filter)]                                                                                 3475\n",
       "[, Used, , Diesel]                                                                                                      2516\n",
       "[, Used, , Gasoline]                                                                                                    2367\n",
       "[, Used, , Super 95]                                                                                                    1818\n",
       "[, Pre-registered, , Super 95]                                                                                           500\n",
       "                                                                                                                        ... \n",
       "[, New, , Regular/Benzine 91 / Super 95 / Super Plus 98 / Regular/Benzine E10 91 / Super Plus E10 98 / Super E10 95]       1\n",
       "[, Used, , Super 95 / Super Plus 98 / Super E10 95 / Super Plus E10 98 (Particulate Filter)]                               1\n",
       "[, Demonstration, , Super Plus 98]                                                                                         1\n",
       "[, New, , Super Plus E10 98]                                                                                               1\n",
       "[, Demonstration, , Regular/Benzine E10 91]                                                                                1\n",
       "Name: type, Length: 169, dtype: int64"
      ]
     },
     "execution_count": 74,
     "metadata": {},
     "output_type": "execute_result"
    }
   ],
   "source": [
    "#notice that there is another column Fuel that contains fuel types of autos\n",
    "#therefore, let us focus on information other than fuel types\n",
    "df.type.value_counts()"
   ]
  },
  {
   "cell_type": "code",
   "execution_count": 75,
   "metadata": {},
   "outputs": [
    {
     "data": {
      "text/plain": [
       "Used                                      11096\n",
       "Diesel (Particulate Filter)                4315\n",
       "Super 95                                   4199\n",
       "Gasoline                                   3179\n",
       "Diesel                                     2982\n",
       "New                                        1650\n",
       "Pre-registered                             1364\n",
       "Employee's car                             1011\n",
       "Regular                                     998\n",
       "Benzine 91                                  836\n",
       "Demonstration                               796\n",
       "Super E10 95                                641\n",
       "Super 95 (Particulate Filter)               268\n",
       "Super Plus 98                               227\n",
       "Super Plus E10 98                           116\n",
       "Benzine 91 (Particulate Filter)             101\n",
       "Gasoline (Particulate Filter)                77\n",
       "Benzine E10 91                               60\n",
       "CNG                                          33\n",
       "Super E10 95 (Particulate Filter)            32\n",
       "LPG                                          16\n",
       "Super Plus 98 (Particulate Filter)           14\n",
       "Liquid petroleum gas (LPG)                   10\n",
       "Super Plus E10 98 (Particulate Filter)        7\n",
       "Others                                        5\n",
       "Electric                                      5\n",
       "CNG (Particulate Filter)                      3\n",
       "Domestic gas H                                1\n",
       "Benzine E10 91 (Particulate Filter)           1\n",
       "Others (Particulate Filter)                   1\n",
       "Biogas                                        1\n",
       "Biodiesel                                     1\n",
       "dtype: int64"
      ]
     },
     "execution_count": 75,
     "metadata": {},
     "output_type": "execute_result"
    }
   ],
   "source": [
    "#Let us obtain all values from lists to find all values\n",
    "#notice that there are \"Used\", \"New\", \"Pre-registered\", \n",
    "#\"Employee's car\" and \"Demonstration\" entries\n",
    "temp=[]\n",
    "for i in df.type:\n",
    "    if type(i)==list:\n",
    "        for j in i:\n",
    "            if j!='':\n",
    "                temp_str=j.split('/')\n",
    "                if type(temp_str)==str:\n",
    "                    temp.append(str.strip(j))\n",
    "                else:\n",
    "                    for k in temp_str:\n",
    "                        temp.append(str.strip(k))\n",
    "    else:\n",
    "        if i!='' and np.isnan(i)==False:\n",
    "            temp.append(str.strip(i))\n",
    "temp_df=pd.DataFrame(temp)\n",
    "temp_df.value_counts()"
   ]
  },
  {
   "cell_type": "code",
   "execution_count": 76,
   "metadata": {},
   "outputs": [],
   "source": [
    "#Notice that there are lists containing the relevant information\n",
    "#let us iterate over rows and assign the values\n",
    "for i in df.type.index:\n",
    "    if type(df.at[i,'type'])==list or type(df.at[i,'type'])==str:\n",
    "        if \"Used\" in df.at[i,'type']:\n",
    "            df.at[i,'type']=\"Used\"\n",
    "        if \"New\" in df.at[i,'type']:\n",
    "            df.at[i,'type']=\"New\"\n",
    "        if \"Pre-registered\" in df.at[i,'type']:\n",
    "            df.at[i,'type']=\"Pre-registered\"\n",
    "        if \"Employee's car\" in df.at[i,'type']:\n",
    "            df.at[i,'type']=\"Employee's car\"\n",
    "        if \"Demonstration\" in df.at[i,'type']:\n",
    "            df.at[i,'type']=\"Demonstration\""
   ]
  },
  {
   "cell_type": "code",
   "execution_count": 77,
   "metadata": {},
   "outputs": [
    {
     "data": {
      "text/plain": [
       "Used              11096\n",
       "New                1650\n",
       "Pre-registered     1364\n",
       "Employee's car     1011\n",
       "Demonstration       796\n",
       "Name: type, dtype: int64"
      ]
     },
     "execution_count": 77,
     "metadata": {},
     "output_type": "execute_result"
    }
   ],
   "source": [
    "#check again values\n",
    "df.type.value_counts()"
   ]
  },
  {
   "cell_type": "markdown",
   "metadata": {},
   "source": [
    "### Features: next_inspection and inspection_new"
   ]
  },
  {
   "cell_type": "code",
   "execution_count": 78,
   "metadata": {},
   "outputs": [
    {
     "name": "stdout",
     "output_type": "stream",
     "text": [
      "<class 'pandas.core.series.Series'>\n",
      "RangeIndex: 15919 entries, 0 to 15918\n",
      "Series name: next_inspection\n",
      "Non-Null Count  Dtype \n",
      "--------------  ----- \n",
      "3535 non-null   object\n",
      "dtypes: object(1)\n",
      "memory usage: 124.5+ KB\n"
     ]
    }
   ],
   "source": [
    "#check next_inspection column and see that there are null values\n",
    "df.next_inspection.info()"
   ]
  },
  {
   "cell_type": "code",
   "execution_count": 79,
   "metadata": {},
   "outputs": [
    {
     "data": {
      "text/plain": [
       "\\n04/2022\\n                               62\n",
       "\\n03/2021\\n                               38\n",
       "\\n03/2022\\n                               36\n",
       "\\n06/2021\\n                               34\n",
       "\\n01/2022\\n                               32\n",
       "                                          ..\n",
       "[\\n12/2018\\n, \\n97 g CO2/km (comb)\\n]      1\n",
       "[\\n03/2022\\n, \\n1 (No sticker)\\n]          1\n",
       "[\\n05/2021\\n, \\n93 g CO2/km (comb)\\n]      1\n",
       "[\\n06/2021\\n, \\n93 g CO2/km (comb)\\n]      1\n",
       "[\\n01/2022\\n, \\n168 g CO2/km (comb)\\n]     1\n",
       "Name: next_inspection, Length: 1399, dtype: int64"
      ]
     },
     "execution_count": 79,
     "metadata": {},
     "output_type": "execute_result"
    }
   ],
   "source": [
    "#let us count the values\n",
    "df.next_inspection.value_counts()"
   ]
  },
  {
   "cell_type": "code",
   "execution_count": 80,
   "metadata": {},
   "outputs": [
    {
     "data": {
      "text/plain": [
       "unrelated    3271\n",
       "06/2021       471\n",
       "03/2021       210\n",
       "05/2021       180\n",
       "04/2021       171\n",
       "             ... \n",
       "05/2014         1\n",
       "05/2016         1\n",
       "05/2017         1\n",
       "01/1955         1\n",
       "01/1921         1\n",
       "Length: 78, dtype: int64"
      ]
     },
     "execution_count": 80,
     "metadata": {},
     "output_type": "execute_result"
    }
   ],
   "source": [
    "#Let us see all values\n",
    "temp=[]\n",
    "for i in df.next_inspection:\n",
    "    if type(i)==list:\n",
    "        for j in i:\n",
    "            temp_list=j.split(\"\\n\")\n",
    "            for k in temp_list:\n",
    "                if k!='':\n",
    "                    if re.match(r'[0-9]{2}/[0-9]{4}', str.strip(k)):\n",
    "                        temp.append(str.strip(k))\n",
    "                    else:\n",
    "                        temp.append(\"unrelated\")\n",
    "    if type(i)==str:\n",
    "        temp_list=i.split(\"\\n\")\n",
    "        for k in temp_list:\n",
    "            if k!='':\n",
    "                if re.match(r'[0-9]{2}/[0-9]{4}', str.strip(k)):\n",
    "                    temp.append(str.strip(k))\n",
    "                else:\n",
    "                    temp.append(\"unrelated\")\n",
    "        \n",
    "temp_df=pd.DataFrame(temp)\n",
    "temp_df.value_counts()"
   ]
  },
  {
   "cell_type": "code",
   "execution_count": 81,
   "metadata": {},
   "outputs": [],
   "source": [
    "#assign new values to next_inspection column\n",
    "for i in df.index:\n",
    "    if type(df.at[i,\"next_inspection\"])==list:\n",
    "        for j in df.at[i,\"next_inspection\"]:\n",
    "            temp_list=j.split(\"\\n\")\n",
    "            for k in temp_list:\n",
    "                if k!='':\n",
    "                    if re.match(r'[0-9]{2}/[0-9]{4}', str.strip(k)):\n",
    "                        df.at[i,\"next_inspection\"]=str.strip(k)\n",
    "    if type(df.at[i,\"next_inspection\"])==str:\n",
    "        temp_list=df.at[i,\"next_inspection\"].split(\"\\n\")\n",
    "        for k in temp_list:\n",
    "            if k!='':\n",
    "                if re.match(r'[0-9]{2}/[0-9]{4}', str.strip(k)):\n",
    "                    df.at[i,\"next_inspection\"]=str.strip(k)"
   ]
  },
  {
   "cell_type": "code",
   "execution_count": 82,
   "metadata": {},
   "outputs": [
    {
     "data": {
      "text/plain": [
       "06/2021    471\n",
       "03/2021    210\n",
       "05/2021    180\n",
       "04/2021    171\n",
       "02/2021    168\n",
       "          ... \n",
       "05/2014      1\n",
       "04/2016      1\n",
       "01/1955      1\n",
       "01/2018      1\n",
       "11/2022      1\n",
       "Name: next_inspection, Length: 77, dtype: int64"
      ]
     },
     "execution_count": 82,
     "metadata": {},
     "output_type": "execute_result"
    }
   ],
   "source": [
    "df.next_inspection.value_counts()"
   ]
  },
  {
   "cell_type": "code",
   "execution_count": 83,
   "metadata": {},
   "outputs": [],
   "source": [
    "df.next_inspection = pd.to_datetime(df.next_inspection)"
   ]
  },
  {
   "cell_type": "code",
   "execution_count": 84,
   "metadata": {},
   "outputs": [
    {
     "name": "stdout",
     "output_type": "stream",
     "text": [
      "<class 'pandas.core.series.Series'>\n",
      "RangeIndex: 15919 entries, 0 to 15918\n",
      "Series name: next_inspection\n",
      "Non-Null Count  Dtype         \n",
      "--------------  -----         \n",
      "3535 non-null   datetime64[ns]\n",
      "dtypes: datetime64[ns](1)\n",
      "memory usage: 124.5 KB\n"
     ]
    }
   ],
   "source": [
    "#recheck information of the column\n",
    "df.next_inspection.info()"
   ]
  },
  {
   "cell_type": "code",
   "execution_count": 85,
   "metadata": {
    "scrolled": true
   },
   "outputs": [
    {
     "name": "stdout",
     "output_type": "stream",
     "text": [
      "<class 'pandas.core.series.Series'>\n",
      "RangeIndex: 15919 entries, 0 to 15918\n",
      "Series name: inspection_new\n",
      "Non-Null Count  Dtype \n",
      "--------------  ----- \n",
      "3932 non-null   object\n",
      "dtypes: object(1)\n",
      "memory usage: 124.5+ KB\n"
     ]
    }
   ],
   "source": [
    "#check 'inspection_new' column\n",
    "df.inspection_new.info()"
   ]
  },
  {
   "cell_type": "code",
   "execution_count": 86,
   "metadata": {},
   "outputs": [
    {
     "data": {
      "text/plain": [
       "[\\nYes\\n, \\nEuro 6\\n]                                                                          523\n",
       "\\nYes\\n                                                                                        362\n",
       "[\\nYes\\n, \\n102 g CO2/km (comb)\\n]                                                             174\n",
       "[\\nYes\\n, \\n4 (Green)\\n]                                                                       166\n",
       "[\\nYes\\n, \\nEuro 6d-TEMP\\n]                                                                    134\n",
       "                                                                                              ... \n",
       "[\\nYes\\n, \\n, 5.2 l/100 km (comb), \\n, 6.7 l/100 km (city), \\n, 4.2 l/100 km (country), \\n]      1\n",
       "[\\nYes\\n, \\n100 g CO2/km (comb)\\n]                                                               1\n",
       "[\\nYes\\n, \\n, 4.9 l/100 km (comb), \\n, 5.9 l/100 km (city), \\n, 4.3 l/100 km (country), \\n]      1\n",
       "[\\nYes\\n, \\n, 5.1 l/100 km (comb), \\n, 6.4 l/100 km (city), \\n, 4.3 l/100 km (country), \\n]      1\n",
       "[\\nYes\\n, \\n172 g CO2/km (comb)\\n]                                                               1\n",
       "Name: inspection_new, Length: 202, dtype: int64"
      ]
     },
     "execution_count": 86,
     "metadata": {},
     "output_type": "execute_result"
    }
   ],
   "source": [
    "#observe the count of values\n",
    "df.inspection_new.value_counts()"
   ]
  },
  {
   "cell_type": "code",
   "execution_count": 87,
   "metadata": {},
   "outputs": [
    {
     "data": {
      "text/plain": [
       "unrelated    4152\n",
       "Yes          3932\n",
       "dtype: int64"
      ]
     },
     "execution_count": 87,
     "metadata": {},
     "output_type": "execute_result"
    }
   ],
   "source": [
    "#Let us see all values\n",
    "temp=[]\n",
    "for i in df[\"inspection_new\"]:\n",
    "    if type(i)==list:\n",
    "        for j in i:\n",
    "            temp_list=j.split(\"\\n\")\n",
    "            for k in temp_list:\n",
    "                if k!='':\n",
    "                    if \"Yes\" in k:\n",
    "                        temp.append(k)\n",
    "                    else:\n",
    "                        temp.append(\"unrelated\")\n",
    "    if type(i)==str:\n",
    "        temp_list=i.split(\"\\n\")\n",
    "        for k in temp_list:\n",
    "            if k!='':\n",
    "                if \"Yes\" in k:\n",
    "                    temp.append(k)\n",
    "                else:\n",
    "                    temp.append(\"unrelated\")\n",
    "        \n",
    "temp_df=pd.DataFrame(temp)\n",
    "temp_df.value_counts()"
   ]
  },
  {
   "cell_type": "code",
   "execution_count": 88,
   "metadata": {},
   "outputs": [],
   "source": [
    "#assignment of new values to this column\n",
    "for i in df.index:\n",
    "    if type(df.at[i,\"inspection_new\"])==list:\n",
    "        for j in df.at[i,\"inspection_new\"]:\n",
    "            temp_list=j.split(\"\\n\")\n",
    "            for k in temp_list:\n",
    "                if k!='':\n",
    "                    if \"Yes\" in k:\n",
    "                        df.at[i,\"inspection_new\"]=str.strip(k)\n",
    "    if type(df.at[i,\"inspection_new\"])==str:\n",
    "        temp_list=df.at[i,\"inspection_new\"].split(\"\\n\")\n",
    "        for k in temp_list:\n",
    "            if k!='':\n",
    "                if \"Yes\" in k:\n",
    "                    df.at[i,\"inspection_new\"]=str.strip(k)"
   ]
  },
  {
   "cell_type": "code",
   "execution_count": 89,
   "metadata": {},
   "outputs": [
    {
     "data": {
      "text/plain": [
       "Yes    3932\n",
       "Name: inspection_new, dtype: int64"
      ]
     },
     "execution_count": 89,
     "metadata": {},
     "output_type": "execute_result"
    }
   ],
   "source": [
    "#check again the values\n",
    "df.inspection_new.value_counts()"
   ]
  },
  {
   "cell_type": "markdown",
   "metadata": {},
   "source": [
    "__Decision:__ inspection_new and next_inspection provide same information. So, let us drop next_inspection."
   ]
  },
  {
   "cell_type": "code",
   "execution_count": 90,
   "metadata": {},
   "outputs": [],
   "source": [
    "df.drop([\"next_inspection\"], axis=1, inplace=True)"
   ]
  },
  {
   "cell_type": "markdown",
   "metadata": {},
   "source": [
    "### Feature: warranty"
   ]
  },
  {
   "cell_type": "code",
   "execution_count": 91,
   "metadata": {},
   "outputs": [
    {
     "name": "stdout",
     "output_type": "stream",
     "text": [
      "<class 'pandas.core.series.Series'>\n",
      "RangeIndex: 15919 entries, 0 to 15918\n",
      "Series name: warranty\n",
      "Non-Null Count  Dtype \n",
      "--------------  ----- \n",
      "10499 non-null  object\n",
      "dtypes: object(1)\n",
      "memory usage: 124.5+ KB\n"
     ]
    }
   ],
   "source": [
    "#let us focus on warranty column and there are null values\n",
    "df.warranty.info()"
   ]
  },
  {
   "cell_type": "code",
   "execution_count": 92,
   "metadata": {},
   "outputs": [
    {
     "data": {
      "text/plain": [
       "[\\n, \\n, \\nEuro 6\\n]                                                                               1868\n",
       "\\n12 months\\n                                                                                      1177\n",
       "\\n                                                                                                  979\n",
       "\\n24 months\\n                                                                                       566\n",
       "[\\n, \\n, \\n4 (Green)\\n]                                                                             517\n",
       "                                                                                                   ... \n",
       "[\\n72 months\\n, \\n125 g CO2/km (comb)\\n]                                                              1\n",
       "[\\n60 months\\n, \\n14 g CO2/km (comb)\\n]                                                               1\n",
       "[\\n24 months\\n, \\n121 g CO2/km (comb)\\n]                                                              1\n",
       "[\\n12 months\\n, \\nEuro 6d\\n]                                                                          1\n",
       "[\\n36 months\\n, \\n, 7.4 l/100 km (comb), \\n, 9.6 l/100 km (city), \\n, 6 l/100 km (country), \\n]       1\n",
       "Name: warranty, Length: 515, dtype: int64"
      ]
     },
     "execution_count": 92,
     "metadata": {},
     "output_type": "execute_result"
    }
   ],
   "source": [
    "#check count of values\n",
    "df.warranty.value_counts()"
   ]
  },
  {
   "cell_type": "code",
   "execution_count": 93,
   "metadata": {},
   "outputs": [
    {
     "data": {
      "text/plain": [
       "unrelated    7151\n",
       "12 months    2594\n",
       "24 months    1118\n",
       "60 months     401\n",
       "36 months     279\n",
       "48 months     149\n",
       "6 months      125\n",
       "72 months      59\n",
       "3 months       33\n",
       "23 months      11\n",
       "18 months      10\n",
       "20 months       7\n",
       "25 months       6\n",
       "2 months        5\n",
       "16 months       4\n",
       "50 months       4\n",
       "26 months       4\n",
       "4 months        3\n",
       "34 months       3\n",
       "1 months        3\n",
       "19 months       3\n",
       "13 months       3\n",
       "28 months       2\n",
       "14 months       2\n",
       "9 months        2\n",
       "22 months       2\n",
       "21 months       2\n",
       "45 months       2\n",
       "46 months       2\n",
       "11 months       2\n",
       "17 months       2\n",
       "8 months        1\n",
       "7 months        1\n",
       "65 months       1\n",
       "49 months       1\n",
       "56 months       1\n",
       "15 months       1\n",
       "10 months       1\n",
       "47 months       1\n",
       "40 months       1\n",
       "33 months       1\n",
       "30 months       1\n",
       "dtype: int64"
      ]
     },
     "execution_count": 93,
     "metadata": {},
     "output_type": "execute_result"
    }
   ],
   "source": [
    "#Let us see all values in more details\n",
    "temp=[]\n",
    "for i in df.warranty:\n",
    "    if type(i)==list:\n",
    "        for j in i:\n",
    "            temp_list=j.split(\"\\n\")\n",
    "            for k in temp_list:\n",
    "                if k!='':\n",
    "                    if re.match(r'[0-9]+ months', str.strip(k)):\n",
    "                        temp.append(str.strip(k))\n",
    "                    else:\n",
    "                        temp.append(\"unrelated\")\n",
    "    if type(i)==str:\n",
    "        temp_list=i.split(\"\\n\")\n",
    "        for k in temp_list:\n",
    "            if k!='':\n",
    "                if re.match(r'[0-9]+ months', str.strip(k)):\n",
    "                    temp.append(str.strip(k))\n",
    "                else:\n",
    "                    temp.append(\"unrelated\")\n",
    "        \n",
    "temp_df=pd.DataFrame(temp)\n",
    "temp_df.value_counts()"
   ]
  },
  {
   "cell_type": "code",
   "execution_count": 94,
   "metadata": {},
   "outputs": [],
   "source": [
    "#assign new values to warranty column\n",
    "df[\"warranty_new\"]=np.nan\n",
    "for i in df.index:\n",
    "    if type(df.at[i,\"warranty\"])==list:\n",
    "        for j in df.at[i,\"warranty\"]:\n",
    "            temp_list=j.split(\"\\n\")\n",
    "            for k in temp_list:\n",
    "                if k!='':\n",
    "                    if re.match(r'[0-9]+ months', str.strip(k)):\n",
    "                        df.at[i,\"warranty_new\"]=str.strip(k).split(\" \")[0]\n",
    "                        \n",
    "    if type(df.at[i,\"warranty\"])==str:\n",
    "        temp_list=df.at[i,\"warranty\"].split(\"\\n\")\n",
    "        for k in temp_list:\n",
    "            if k!='':\n",
    "                if re.match(r'[0-9]+ months', str.strip(k)):\n",
    "                    df.at[i,\"warranty_new\"]=str.strip(k).split(\" \")[0]"
   ]
  },
  {
   "cell_type": "code",
   "execution_count": 95,
   "metadata": {},
   "outputs": [
    {
     "data": {
      "text/plain": [
       "12    2594\n",
       "24    1118\n",
       "60     401\n",
       "36     279\n",
       "48     149\n",
       "6      125\n",
       "72      59\n",
       "3       33\n",
       "23      11\n",
       "18      10\n",
       "20       7\n",
       "25       6\n",
       "2        5\n",
       "50       4\n",
       "26       4\n",
       "16       4\n",
       "4        3\n",
       "1        3\n",
       "19       3\n",
       "34       3\n",
       "13       3\n",
       "28       2\n",
       "22       2\n",
       "14       2\n",
       "11       2\n",
       "46       2\n",
       "21       2\n",
       "9        2\n",
       "17       2\n",
       "45       2\n",
       "33       1\n",
       "40       1\n",
       "65       1\n",
       "10       1\n",
       "15       1\n",
       "7        1\n",
       "8        1\n",
       "56       1\n",
       "49       1\n",
       "47       1\n",
       "30       1\n",
       "Name: warranty_new, dtype: int64"
      ]
     },
     "execution_count": 95,
     "metadata": {},
     "output_type": "execute_result"
    }
   ],
   "source": [
    "df.warranty_new.value_counts()"
   ]
  },
  {
   "cell_type": "code",
   "execution_count": 96,
   "metadata": {},
   "outputs": [],
   "source": [
    "#assign warranty_new to warranty and drop warranty_new column\n",
    "df.warranty=df.warranty_new\n",
    "df.drop(['warranty_new'], axis=1, inplace=True)"
   ]
  },
  {
   "cell_type": "code",
   "execution_count": 97,
   "metadata": {},
   "outputs": [
    {
     "name": "stdout",
     "output_type": "stream",
     "text": [
      "<class 'pandas.core.series.Series'>\n",
      "RangeIndex: 15919 entries, 0 to 15918\n",
      "Series name: warranty\n",
      "Non-Null Count  Dtype \n",
      "--------------  ----- \n",
      "4853 non-null   object\n",
      "dtypes: object(1)\n",
      "memory usage: 124.5+ KB\n"
     ]
    }
   ],
   "source": [
    "#check again this column and realize the null values\n",
    "df.warranty.info()"
   ]
  },
  {
   "cell_type": "code",
   "execution_count": 98,
   "metadata": {},
   "outputs": [],
   "source": [
    "df.warranty=df.warranty.astype(float)"
   ]
  },
  {
   "cell_type": "markdown",
   "metadata": {},
   "source": [
    "### Feature: full_service"
   ]
  },
  {
   "cell_type": "code",
   "execution_count": 99,
   "metadata": {},
   "outputs": [
    {
     "name": "stdout",
     "output_type": "stream",
     "text": [
      "<class 'pandas.core.series.Series'>\n",
      "RangeIndex: 15919 entries, 0 to 15918\n",
      "Series name: full_service\n",
      "Non-Null Count  Dtype \n",
      "--------------  ----- \n",
      "8215 non-null   object\n",
      "dtypes: object(1)\n",
      "memory usage: 124.5+ KB\n"
     ]
    }
   ],
   "source": [
    "#let us focus on 'full_service' column\n",
    "df.full_service.info()"
   ]
  },
  {
   "cell_type": "code",
   "execution_count": 100,
   "metadata": {},
   "outputs": [
    {
     "data": {
      "text/plain": [
       "[\\n, \\n, \\n4 (Green)\\n]                                                                       2235\n",
       "[\\n, \\n, \\nEuro 6\\n]                                                                          2097\n",
       "[\\n, \\n]                                                                                      1702\n",
       "[\\n, \\n, \\nEuro 6d-TEMP\\n]                                                                     399\n",
       "\\n                                                                                             283\n",
       "                                                                                              ... \n",
       "[\\n, \\n, \\n, 6 l/100 km (comb), \\n, 8 l/100 km (city), \\n, 4.9 l/100 km (country), \\n]           1\n",
       "[\\n, \\n, \\n84 g CO2/km (comb)\\n]                                                                 1\n",
       "[\\n, \\n, \\n87 g CO2/km (comb)\\n]                                                                 1\n",
       "[\\n, \\n, \\n, 5.7 l/100 km (comb), \\n, 7.3 l/100 km (city), \\n, 4.9 l/100 km (country), \\n]       1\n",
       "[\\n, \\n, \\nEuro 4\\n]                                                                             1\n",
       "Name: full_service, Length: 122, dtype: int64"
      ]
     },
     "execution_count": 100,
     "metadata": {},
     "output_type": "execute_result"
    }
   ],
   "source": [
    "df.full_service.value_counts()"
   ]
  },
  {
   "cell_type": "code",
   "execution_count": 101,
   "metadata": {},
   "outputs": [
    {
     "data": {
      "text/plain": [
       "4 (Green)                 2235\n",
       "Euro 6                    2097\n",
       "Euro 6d-TEMP               399\n",
       "120 g CO2/km (comb)        105\n",
       "126 g CO2/km (comb)         84\n",
       "                          ... \n",
       "5.2 l/100 km (country)       1\n",
       "8.3 l/100 km (city)          1\n",
       "8.4 l/100 km (city)          1\n",
       "80 g CO2/km (comb)           1\n",
       "84 g CO2/km (comb)           1\n",
       "Length: 141, dtype: int64"
      ]
     },
     "execution_count": 101,
     "metadata": {},
     "output_type": "execute_result"
    }
   ],
   "source": [
    "#Let us see all values in more details\n",
    "#the value counts indicates that this column can be dropped\n",
    "temp=[]\n",
    "for i in df.full_service:\n",
    "    if type(i)==list:\n",
    "        for j in i:\n",
    "            temp_list=j.split(\"\\n\")\n",
    "            for k in temp_list:\n",
    "                if k!='':\n",
    "                    temp.append(str.strip(k))\n",
    "    if type(i)==str:\n",
    "        temp_list=i.split(\"\\n\")\n",
    "        for k in temp_list:\n",
    "            if k!='':\n",
    "                temp.append(str.strip(k))\n",
    "\n",
    "        \n",
    "temp_df=pd.DataFrame(temp)\n",
    "temp_df.value_counts()"
   ]
  },
  {
   "cell_type": "code",
   "execution_count": 102,
   "metadata": {},
   "outputs": [],
   "source": [
    "#drop full_service since the information contained is already in other features\n",
    "df.drop('full_service', axis=1,inplace=True)"
   ]
  },
  {
   "cell_type": "markdown",
   "metadata": {},
   "source": [
    "### Feature: non_smoking_vehicle"
   ]
  },
  {
   "cell_type": "code",
   "execution_count": 103,
   "metadata": {},
   "outputs": [
    {
     "name": "stdout",
     "output_type": "stream",
     "text": [
      "<class 'pandas.core.series.Series'>\n",
      "RangeIndex: 15919 entries, 0 to 15918\n",
      "Series name: non_smoking_vehicle\n",
      "Non-Null Count  Dtype \n",
      "--------------  ----- \n",
      "7177 non-null   object\n",
      "dtypes: object(1)\n",
      "memory usage: 124.5+ KB\n"
     ]
    }
   ],
   "source": [
    "#non_smoking_vehicle column\n",
    "df.non_smoking_vehicle.info()"
   ]
  },
  {
   "cell_type": "code",
   "execution_count": 104,
   "metadata": {},
   "outputs": [
    {
     "data": {
      "text/plain": [
       "[\\n, \\n]                                                                                      3647\n",
       "[\\n, \\n, \\n4 (Green)\\n]                                                                       1240\n",
       "[\\n, \\n, \\nEuro 6\\n]                                                                          1127\n",
       "[\\n, \\n, \\nEuro 6d-TEMP\\n]                                                                     345\n",
       "\\n                                                                                              70\n",
       "                                                                                              ... \n",
       "[\\n, \\n, \\n, 6.2 l/100 km (comb), \\n, 7.9 l/100 km (city), \\n, 5.3 l/100 km (country), \\n]       1\n",
       "[\\n, \\n, \\n91 g CO2/km (comb)\\n]                                                                 1\n",
       "[\\n, \\n, \\n101 g CO2/km (comb)\\n]                                                                1\n",
       "[\\n, \\n, \\n, 5.7 l/100 km (comb), \\n, 7.3 l/100 km (city), \\n, 4.7 l/100 km (country), \\n]       1\n",
       "[\\n, \\n, \\n175 g CO2/km (comb)\\n]                                                                1\n",
       "Name: non_smoking_vehicle, Length: 94, dtype: int64"
      ]
     },
     "execution_count": 104,
     "metadata": {},
     "output_type": "execute_result"
    }
   ],
   "source": [
    "df.non_smoking_vehicle.value_counts()"
   ]
  },
  {
   "cell_type": "code",
   "execution_count": 105,
   "metadata": {},
   "outputs": [
    {
     "data": {
      "text/plain": [
       "4 (Green)                 1240\n",
       "Euro 6                    1127\n",
       "Euro 6d-TEMP               345\n",
       "120 g CO2/km (comb)         63\n",
       "85 g CO2/km (comb)          46\n",
       "                          ... \n",
       "5.2 l/100 km (country)       1\n",
       "5.6 l/100 km (comb)          1\n",
       "5.6 l/100 km (country)       1\n",
       "5.7 l/100 km (comb)          1\n",
       "158 g CO2/km (comb)          1\n",
       "Length: 106, dtype: int64"
      ]
     },
     "execution_count": 105,
     "metadata": {},
     "output_type": "execute_result"
    }
   ],
   "source": [
    "#Let us see all values in more details\n",
    "#the value counts indicates that this column can be dropped\n",
    "temp=[]\n",
    "for i in df.non_smoking_vehicle:\n",
    "    if type(i)==list:\n",
    "        for j in i:\n",
    "            temp_list=j.split(\"\\n\")\n",
    "            for k in temp_list:\n",
    "                if k!='':\n",
    "                    temp.append(str.strip(k))\n",
    "    if type(i)==str:\n",
    "        temp_list=i.split(\"\\n\")\n",
    "        for k in temp_list:\n",
    "            if k!='':\n",
    "                temp.append(str.strip(k))\n",
    "\n",
    "        \n",
    "temp_df=pd.DataFrame(temp)\n",
    "temp_df.value_counts()"
   ]
  },
  {
   "cell_type": "code",
   "execution_count": 106,
   "metadata": {},
   "outputs": [],
   "source": [
    "#drop non_smoking_vehicle as other features contain same information\n",
    "df.drop('non_smoking_vehicle', axis=1,inplace=True)"
   ]
  },
  {
   "cell_type": "markdown",
   "metadata": {},
   "source": [
    "### Feature: offer_number"
   ]
  },
  {
   "cell_type": "code",
   "execution_count": 107,
   "metadata": {},
   "outputs": [
    {
     "name": "stdout",
     "output_type": "stream",
     "text": [
      "<class 'pandas.core.series.Series'>\n",
      "RangeIndex: 15919 entries, 0 to 15918\n",
      "Series name: offer_number\n",
      "Non-Null Count  Dtype \n",
      "--------------  ----- \n",
      "12744 non-null  object\n",
      "dtypes: object(1)\n",
      "memory usage: 124.5+ KB\n"
     ]
    }
   ],
   "source": [
    "#offer_number\n",
    "df.offer_number.info()"
   ]
  },
  {
   "cell_type": "code",
   "execution_count": 108,
   "metadata": {},
   "outputs": [
    {
     "data": {
      "text/plain": [
       "6185       [\\n054826\\n]\n",
       "14427               NaN\n",
       "2548     [\\n203-9523\\n]\n",
       "7874       [\\n864716\\n]\n",
       "5738     [\\nJG099685\\n]\n",
       "6923                NaN\n",
       "11390      [\\n054766\\n]\n",
       "8848        [\\n35554\\n]\n",
       "6201     [\\n11519473\\n]\n",
       "4983        [\\n76342\\n]\n",
       "Name: offer_number, dtype: object"
      ]
     },
     "execution_count": 108,
     "metadata": {},
     "output_type": "execute_result"
    }
   ],
   "source": [
    "#these are automobiles' offer numbers\n",
    "df.offer_number.sample(10)"
   ]
  },
  {
   "cell_type": "code",
   "execution_count": 109,
   "metadata": {},
   "outputs": [],
   "source": [
    "#let us clean all values\n",
    "for i in df.index:\n",
    "    if type(df.at[i,\"offer_number\"])==list:\n",
    "        temp=df.at[i,\"offer_number\"][0]\n",
    "        df.at[i,\"offer_number\"]=temp.replace(\"\\n\",\"\")"
   ]
  },
  {
   "cell_type": "code",
   "execution_count": 110,
   "metadata": {},
   "outputs": [
    {
     "data": {
      "text/plain": [
       "11460      74282\n",
       "9501         539\n",
       "2930         NaN\n",
       "383      AK13780\n",
       "12846     500778\n",
       "11264    0875JZK\n",
       "8955         NaN\n",
       "263        12178\n",
       "11022     225826\n",
       "4758      507768\n",
       "Name: offer_number, dtype: object"
      ]
     },
     "execution_count": 110,
     "metadata": {},
     "output_type": "execute_result"
    }
   ],
   "source": [
    "df.offer_number.sample(10)"
   ]
  },
  {
   "cell_type": "code",
   "execution_count": 111,
   "metadata": {},
   "outputs": [],
   "source": [
    "#drop offer_number since no need for this number to predict the price.\n",
    "df.drop(\"offer_number\", axis=1, inplace=True)"
   ]
  },
  {
   "cell_type": "markdown",
   "metadata": {},
   "source": [
    "### Feature: body_color"
   ]
  },
  {
   "cell_type": "code",
   "execution_count": 112,
   "metadata": {},
   "outputs": [
    {
     "name": "stdout",
     "output_type": "stream",
     "text": [
      "<class 'pandas.core.series.Series'>\n",
      "RangeIndex: 15919 entries, 0 to 15918\n",
      "Series name: body_color\n",
      "Non-Null Count  Dtype \n",
      "--------------  ----- \n",
      "15322 non-null  object\n",
      "dtypes: object(1)\n",
      "memory usage: 124.5+ KB\n"
     ]
    }
   ],
   "source": [
    "#body_color\n",
    "df.body_color.info()"
   ]
  },
  {
   "cell_type": "code",
   "execution_count": 113,
   "metadata": {},
   "outputs": [
    {
     "data": {
      "text/plain": [
       "[\\n, Black, \\n]     3745\n",
       "[\\n, Grey, \\n]      3505\n",
       "[\\n, White, \\n]     3406\n",
       "[\\n, Silver, \\n]    1647\n",
       "[\\n, Blue, \\n]      1431\n",
       "[\\n, Red, \\n]        957\n",
       "[\\n, Brown, \\n]      289\n",
       "[\\n, Green, \\n]      154\n",
       "[\\n, Beige, \\n]      108\n",
       "[\\n, Yellow, \\n]      51\n",
       "[\\n, Violet, \\n]      18\n",
       "[\\n, Bronze, \\n]       6\n",
       "[\\n, Orange, \\n]       3\n",
       "[\\n, Gold, \\n]         2\n",
       "Name: body_color, dtype: int64"
      ]
     },
     "execution_count": 113,
     "metadata": {},
     "output_type": "execute_result"
    }
   ],
   "source": [
    "df.body_color.value_counts()"
   ]
  },
  {
   "cell_type": "code",
   "execution_count": 114,
   "metadata": {},
   "outputs": [],
   "source": [
    "#let us clean all values\n",
    "for i in df.index:\n",
    "    if type(df.at[i,\"body_color\"])==list:\n",
    "        temp=df.at[i,\"body_color\"]\n",
    "        for k in temp:\n",
    "            k=k.replace(\"\\n\",\"\")\n",
    "            if k!='':\n",
    "                df.at[i,\"body_color\"]=str.strip(k)"
   ]
  },
  {
   "cell_type": "code",
   "execution_count": 115,
   "metadata": {},
   "outputs": [
    {
     "data": {
      "text/plain": [
       "Black     3745\n",
       "Grey      3505\n",
       "White     3406\n",
       "Silver    1647\n",
       "Blue      1431\n",
       "Red        957\n",
       "Brown      289\n",
       "Green      154\n",
       "Beige      108\n",
       "Yellow      51\n",
       "Violet      18\n",
       "Bronze       6\n",
       "Orange       3\n",
       "Gold         2\n",
       "Name: body_color, dtype: int64"
      ]
     },
     "execution_count": 115,
     "metadata": {},
     "output_type": "execute_result"
    }
   ],
   "source": [
    "df.body_color.value_counts()"
   ]
  },
  {
   "cell_type": "markdown",
   "metadata": {},
   "source": [
    "### Feature: paint_type"
   ]
  },
  {
   "cell_type": "code",
   "execution_count": 116,
   "metadata": {},
   "outputs": [
    {
     "name": "stdout",
     "output_type": "stream",
     "text": [
      "<class 'pandas.core.series.Series'>\n",
      "RangeIndex: 15919 entries, 0 to 15918\n",
      "Series name: paint_type\n",
      "Non-Null Count  Dtype \n",
      "--------------  ----- \n",
      "10147 non-null  object\n",
      "dtypes: object(1)\n",
      "memory usage: 124.5+ KB\n"
     ]
    }
   ],
   "source": [
    "#paint_type\n",
    "df.paint_type.info()"
   ]
  },
  {
   "cell_type": "code",
   "execution_count": 117,
   "metadata": {},
   "outputs": [
    {
     "data": {
      "text/plain": [
       "[\\nMetallic\\n]       9794\n",
       "[\\nUni/basic\\n]       347\n",
       "[\\nPerl effect\\n]       6\n",
       "Name: paint_type, dtype: int64"
      ]
     },
     "execution_count": 117,
     "metadata": {},
     "output_type": "execute_result"
    }
   ],
   "source": [
    "df.paint_type.value_counts()"
   ]
  },
  {
   "cell_type": "code",
   "execution_count": 118,
   "metadata": {},
   "outputs": [],
   "source": [
    "#let us clean all values\n",
    "for i in df.index:\n",
    "    if type(df.at[i,\"paint_type\"])==list:\n",
    "        temp=df.at[i,\"paint_type\"][0]\n",
    "        df.at[i,\"paint_type\"]=temp.replace(\"\\n\",\"\")"
   ]
  },
  {
   "cell_type": "code",
   "execution_count": 119,
   "metadata": {},
   "outputs": [
    {
     "data": {
      "text/plain": [
       "Metallic       9794\n",
       "Uni/basic       347\n",
       "Perl effect       6\n",
       "Name: paint_type, dtype: int64"
      ]
     },
     "execution_count": 119,
     "metadata": {},
     "output_type": "execute_result"
    }
   ],
   "source": [
    "df.paint_type.value_counts()"
   ]
  },
  {
   "cell_type": "markdown",
   "metadata": {},
   "source": [
    "### Feature: body_color_original"
   ]
  },
  {
   "cell_type": "code",
   "execution_count": 120,
   "metadata": {},
   "outputs": [
    {
     "name": "stdout",
     "output_type": "stream",
     "text": [
      "<class 'pandas.core.series.Series'>\n",
      "RangeIndex: 15919 entries, 0 to 15918\n",
      "Series name: body_color_original\n",
      "Non-Null Count  Dtype \n",
      "--------------  ----- \n",
      "12160 non-null  object\n",
      "dtypes: object(1)\n",
      "memory usage: 124.5+ KB\n"
     ]
    }
   ],
   "source": [
    "#body_color_original\n",
    "df.body_color_original.info()"
   ]
  },
  {
   "cell_type": "code",
   "execution_count": 121,
   "metadata": {},
   "outputs": [
    {
     "data": {
      "text/plain": [
       "[\\nOnyx Schwarz\\n]                     338\n",
       "[\\nBianco\\n]                           282\n",
       "[\\nMythosschwarz Metallic\\n]           238\n",
       "[\\nBrillantschwarz\\n]                  216\n",
       "[\\nGris\\n]                             204\n",
       "                                      ... \n",
       "[\\nRouge-Braun (G0Y)\\n]                  1\n",
       "[\\nVARI COLRI DISPONIBILI\\n]             1\n",
       "[\\nKokosnussbraun Metallic\\n]            1\n",
       "[\\nFarbe frei wählbar\\n]                 1\n",
       "[\\nPerlmutt-Weiß Metallic (Weiß)\\n]      1\n",
       "Name: body_color_original, Length: 1927, dtype: int64"
      ]
     },
     "execution_count": 121,
     "metadata": {},
     "output_type": "execute_result"
    }
   ],
   "source": [
    "df.body_color_original.value_counts()"
   ]
  },
  {
   "cell_type": "code",
   "execution_count": 122,
   "metadata": {},
   "outputs": [],
   "source": [
    "#let us clean all values\n",
    "for i in df.index:\n",
    "    if type(df.at[i,\"body_color_original\"])==list:\n",
    "        temp=df.at[i,\"body_color_original\"][0]\n",
    "        df.at[i,\"body_color_original\"]=temp.replace(\"\\n\",\"\")"
   ]
  },
  {
   "cell_type": "code",
   "execution_count": 123,
   "metadata": {},
   "outputs": [
    {
     "data": {
      "text/plain": [
       "Onyx Schwarz                     338\n",
       "Bianco                           282\n",
       "Mythosschwarz Metallic           238\n",
       "Brillantschwarz                  216\n",
       "Gris                             204\n",
       "                                ... \n",
       "Rouge-Braun (G0Y)                  1\n",
       "VARI COLRI DISPONIBILI             1\n",
       "Kokosnussbraun Metallic            1\n",
       "Farbe frei wählbar                 1\n",
       "Perlmutt-Weiß Metallic (Weiß)      1\n",
       "Name: body_color_original, Length: 1927, dtype: int64"
      ]
     },
     "execution_count": 123,
     "metadata": {},
     "output_type": "execute_result"
    }
   ],
   "source": [
    "df.body_color_original.value_counts()"
   ]
  },
  {
   "cell_type": "code",
   "execution_count": 124,
   "metadata": {},
   "outputs": [],
   "source": [
    "#drop this feature since the information is provided by body_color\n",
    "df.drop(\"body_color_original\", axis=1, inplace=True)"
   ]
  },
  {
   "cell_type": "markdown",
   "metadata": {},
   "source": [
    "### Feature: upholstery"
   ]
  },
  {
   "cell_type": "code",
   "execution_count": 125,
   "metadata": {},
   "outputs": [
    {
     "name": "stdout",
     "output_type": "stream",
     "text": [
      "<class 'pandas.core.series.Series'>\n",
      "RangeIndex: 15919 entries, 0 to 15918\n",
      "Series name: upholstery\n",
      "Non-Null Count  Dtype \n",
      "--------------  ----- \n",
      "12199 non-null  object\n",
      "dtypes: object(1)\n",
      "memory usage: 124.5+ KB\n"
     ]
    }
   ],
   "source": [
    "#check the column of upholstery and see that there are null values\n",
    "df.upholstery.info()"
   ]
  },
  {
   "cell_type": "code",
   "execution_count": 126,
   "metadata": {},
   "outputs": [
    {
     "data": {
      "text/plain": [
       "[\\nCloth, Black\\n]           5821\n",
       "[\\nPart leather, Black\\n]    1121\n",
       "[\\nCloth\\n]                  1005\n",
       "[\\nCloth, Grey\\n]             891\n",
       "[\\nCloth, Other\\n]            639\n",
       "[\\nFull leather, Black\\n]     575\n",
       "[\\nBlack\\n]                   491\n",
       "[\\nGrey\\n]                    273\n",
       "[\\nOther, Other\\n]            182\n",
       "[\\nPart leather\\n]            140\n",
       "[\\nFull leather\\n]            139\n",
       "[\\nPart leather, Grey\\n]      116\n",
       "[\\nFull leather, Brown\\n]     116\n",
       "[\\nOther, Black\\n]            110\n",
       "[\\nFull leather, Other\\n]      72\n",
       "[\\nFull leather, Grey\\n]       67\n",
       "[\\nPart leather, Other\\n]      65\n",
       "[\\nOther\\n]                    56\n",
       "[\\nPart leather, Brown\\n]      50\n",
       "[\\nalcantara, Black\\n]         47\n",
       "[\\nFull leather, Beige\\n]      36\n",
       "[\\nVelour, Black\\n]            36\n",
       "[\\nCloth, Brown\\n]             28\n",
       "[\\nVelour\\n]                   16\n",
       "[\\nOther, Grey\\n]              15\n",
       "[\\nCloth, Beige\\n]             13\n",
       "[\\nBrown\\n]                    12\n",
       "[\\nCloth, Blue\\n]              12\n",
       "[\\nCloth, White\\n]              8\n",
       "[\\nVelour, Grey\\n]              8\n",
       "[\\nalcantara, Grey\\n]           6\n",
       "[\\nCloth, Red\\n]                5\n",
       "[\\nOther, Yellow\\n]             4\n",
       "[\\nBeige\\n]                     3\n",
       "[\\nPart leather, Red\\n]         3\n",
       "[\\nalcantara\\n]                 2\n",
       "[\\nPart leather, White\\n]       2\n",
       "[\\nBlue\\n]                      2\n",
       "[\\nWhite\\n]                     2\n",
       "[\\nPart leather, Beige\\n]       2\n",
       "[\\nalcantara, Other\\n]          2\n",
       "[\\nFull leather, Blue\\n]        2\n",
       "[\\nOther, Brown\\n]              1\n",
       "[\\nCloth, Orange\\n]             1\n",
       "[\\nFull leather, Red\\n]         1\n",
       "[\\nFull leather, White\\n]       1\n",
       "Name: upholstery, dtype: int64"
      ]
     },
     "execution_count": 126,
     "metadata": {},
     "output_type": "execute_result"
    }
   ],
   "source": [
    "#Count the values\n",
    "df.upholstery.value_counts()"
   ]
  },
  {
   "cell_type": "code",
   "execution_count": 127,
   "metadata": {},
   "outputs": [
    {
     "data": {
      "text/plain": [
       "list"
      ]
     },
     "execution_count": 127,
     "metadata": {},
     "output_type": "execute_result"
    }
   ],
   "source": [
    "#upholstery column has list items\n",
    "type(df.at[1,\"upholstery\"])"
   ]
  },
  {
   "cell_type": "code",
   "execution_count": 128,
   "metadata": {},
   "outputs": [
    {
     "name": "stdout",
     "output_type": "stream",
     "text": [
      "['\\nCloth, Grey\\n']\n"
     ]
    }
   ],
   "source": [
    "#upholstery column has contains fabric type and its color\n",
    "#but there can be null values\n",
    "print(df.at[1,\"upholstery\"])"
   ]
  },
  {
   "cell_type": "code",
   "execution_count": 129,
   "metadata": {},
   "outputs": [
    {
     "data": {
      "text/plain": [
       "1"
      ]
     },
     "execution_count": 129,
     "metadata": {},
     "output_type": "execute_result"
    }
   ],
   "source": [
    "#but the list item contains only one single entry\n",
    "len(df.at[1,\"upholstery\"])"
   ]
  },
  {
   "cell_type": "code",
   "execution_count": 130,
   "metadata": {},
   "outputs": [
    {
     "data": {
      "text/html": [
       "<div>\n",
       "<style scoped>\n",
       "    .dataframe tbody tr th:only-of-type {\n",
       "        vertical-align: middle;\n",
       "    }\n",
       "\n",
       "    .dataframe tbody tr th {\n",
       "        vertical-align: top;\n",
       "    }\n",
       "\n",
       "    .dataframe thead th {\n",
       "        text-align: right;\n",
       "    }\n",
       "</style>\n",
       "<table border=\"1\" class=\"dataframe\">\n",
       "  <thead>\n",
       "    <tr style=\"text-align: right;\">\n",
       "      <th></th>\n",
       "      <th>0</th>\n",
       "    </tr>\n",
       "    <tr>\n",
       "      <th>0</th>\n",
       "      <th></th>\n",
       "    </tr>\n",
       "  </thead>\n",
       "  <tbody>\n",
       "    <tr>\n",
       "      <th>Cloth</th>\n",
       "      <td>8423</td>\n",
       "    </tr>\n",
       "    <tr>\n",
       "      <th>Black</th>\n",
       "      <td>8201</td>\n",
       "    </tr>\n",
       "    <tr>\n",
       "      <th>nan</th>\n",
       "      <td>3720</td>\n",
       "    </tr>\n",
       "    <tr>\n",
       "      <th>Part leather</th>\n",
       "      <td>1499</td>\n",
       "    </tr>\n",
       "    <tr>\n",
       "      <th>Grey</th>\n",
       "      <td>1376</td>\n",
       "    </tr>\n",
       "    <tr>\n",
       "      <th>Other</th>\n",
       "      <td>1328</td>\n",
       "    </tr>\n",
       "    <tr>\n",
       "      <th>Full leather</th>\n",
       "      <td>1009</td>\n",
       "    </tr>\n",
       "    <tr>\n",
       "      <th>Brown</th>\n",
       "      <td>207</td>\n",
       "    </tr>\n",
       "    <tr>\n",
       "      <th>Velour</th>\n",
       "      <td>60</td>\n",
       "    </tr>\n",
       "    <tr>\n",
       "      <th>alcantara</th>\n",
       "      <td>57</td>\n",
       "    </tr>\n",
       "    <tr>\n",
       "      <th>Beige</th>\n",
       "      <td>54</td>\n",
       "    </tr>\n",
       "    <tr>\n",
       "      <th>Blue</th>\n",
       "      <td>16</td>\n",
       "    </tr>\n",
       "    <tr>\n",
       "      <th>White</th>\n",
       "      <td>13</td>\n",
       "    </tr>\n",
       "    <tr>\n",
       "      <th>Red</th>\n",
       "      <td>9</td>\n",
       "    </tr>\n",
       "    <tr>\n",
       "      <th>Yellow</th>\n",
       "      <td>4</td>\n",
       "    </tr>\n",
       "    <tr>\n",
       "      <th>Orange</th>\n",
       "      <td>1</td>\n",
       "    </tr>\n",
       "  </tbody>\n",
       "</table>\n",
       "</div>"
      ],
      "text/plain": [
       "                 0\n",
       "0                 \n",
       "Cloth         8423\n",
       "Black         8201\n",
       "nan           3720\n",
       "Part leather  1499\n",
       "Grey          1376\n",
       "Other         1328\n",
       "Full leather  1009\n",
       "Brown          207\n",
       "Velour          60\n",
       "alcantara       57\n",
       "Beige           54\n",
       "Blue            16\n",
       "White           13\n",
       "Red              9\n",
       "Yellow           4\n",
       "Orange           1"
      ]
     },
     "execution_count": 130,
     "metadata": {},
     "output_type": "execute_result"
    }
   ],
   "source": [
    "#In order to get rid of messy look, let us count the values\n",
    "#But split the entries in each list item\n",
    "temp=[]\n",
    "for i in df.upholstery:\n",
    "    if type(i)==list:\n",
    "        temp_str=str(i[0])\n",
    "        temp_str=temp_str.split(\",\")        \n",
    "        if temp_str!='':\n",
    "            for k in temp_str:\n",
    "                temp.append(str.strip(k.replace(\"\\n\",\"\")))\n",
    "    else:\n",
    "        temp_str=str(i).split(\",\")\n",
    "        if temp_str!='':\n",
    "            for k in temp_str:\n",
    "                temp.append(str.strip(k.replace(\"\\n\",\"\")))\n",
    "temp_df=pd.DataFrame(temp)\n",
    "temp_df.value_counts()\n",
    "temp_df=pd.DataFrame(temp_df.value_counts())\n",
    "temp_df"
   ]
  },
  {
   "cell_type": "code",
   "execution_count": 131,
   "metadata": {},
   "outputs": [],
   "source": [
    "cat_fabric=[\"Cloth\", \"Part leather\", \"Full leather\", \"Velour\", \"alcantara\", \"Other\"]\n",
    "cat_color=[\"Black\", \"Grey\", \"Brown\", \"Beige\", \"White\", \"Blue\", \"Red\", \"Yellow\", \"Orange\", \"Other\"]"
   ]
  },
  {
   "cell_type": "code",
   "execution_count": 132,
   "metadata": {},
   "outputs": [],
   "source": [
    "#create two new columns upholstery_fabric and upholstery_color\n",
    "#Assign the values according column of \"upholstery\"\n",
    "df[\"upholstery_fabric\"]=np.nan\n",
    "df[\"upholstery_color\"]=np.nan\n",
    "for i in df.index:\n",
    "    if type(df.at[i,\"upholstery\"])==list:\n",
    "        temp_str=str(df.at[i,\"upholstery\"][0])\n",
    "        temp_str=temp_str.split(\",\")\n",
    "        if len(temp_str)==2:\n",
    "            df.at[i,\"upholstery_fabric\"]=str.strip(temp_str[0].replace(\"\\n\",\"\"))\n",
    "            df.at[i,\"upholstery_color\"]=str.strip(temp_str[1].replace(\"\\n\",\"\"))\n",
    "        elif len(temp_str)==1:\n",
    "            temp_str=temp_str[0].replace(\"\\n\",\"\")\n",
    "            if temp_str in cat_fabric:\n",
    "                df.at[i,\"upholstery_fabric\"]=str.strip(temp_str)\n",
    "            else:\n",
    "                df.at[i,\"upholstery_color\"]=str.strip(temp_str)\n",
    "    elif np.isnan(df.at[i,\"upholstery\"])==False:\n",
    "        temp_str=str(df.at[i,\"upholstery\"])\n",
    "        temp_str=temp_str.split(\",\")\n",
    "        if len(temp_str)==2:\n",
    "            df.at[i,\"upholstery_fabric\"]=str.strip(temp_str[0].replace(\"\\n\",\"\"))\n",
    "            df.at[i,\"upholstery_color\"]=str.strip(temp_str[1].replace(\"\\n\",\"\"))\n",
    "        elif len(temp_str)==1:\n",
    "            temp_str=temp_str[0].replace(\"\\n\",\"\")\n",
    "            if temp_str in cat_fabric:\n",
    "                df.at[i,\"upholstery_fabric\"]=str.strip(temp_str)\n",
    "            else:\n",
    "                df.at[i,\"upholstery_color\"]=str.strip(temp_str)"
   ]
  },
  {
   "cell_type": "code",
   "execution_count": 133,
   "metadata": {},
   "outputs": [
    {
     "data": {
      "text/html": [
       "<div>\n",
       "<style scoped>\n",
       "    .dataframe tbody tr th:only-of-type {\n",
       "        vertical-align: middle;\n",
       "    }\n",
       "\n",
       "    .dataframe tbody tr th {\n",
       "        vertical-align: top;\n",
       "    }\n",
       "\n",
       "    .dataframe thead th {\n",
       "        text-align: right;\n",
       "    }\n",
       "</style>\n",
       "<table border=\"1\" class=\"dataframe\">\n",
       "  <thead>\n",
       "    <tr style=\"text-align: right;\">\n",
       "      <th></th>\n",
       "      <th>upholstery</th>\n",
       "      <th>upholstery_fabric</th>\n",
       "      <th>upholstery_color</th>\n",
       "    </tr>\n",
       "  </thead>\n",
       "  <tbody>\n",
       "    <tr>\n",
       "      <th>1667</th>\n",
       "      <td>[\\nBlack\\n]</td>\n",
       "      <td>NaN</td>\n",
       "      <td>Black</td>\n",
       "    </tr>\n",
       "    <tr>\n",
       "      <th>1894</th>\n",
       "      <td>NaN</td>\n",
       "      <td>NaN</td>\n",
       "      <td>NaN</td>\n",
       "    </tr>\n",
       "    <tr>\n",
       "      <th>6835</th>\n",
       "      <td>[\\nOther, Other\\n]</td>\n",
       "      <td>Other</td>\n",
       "      <td>Other</td>\n",
       "    </tr>\n",
       "    <tr>\n",
       "      <th>2060</th>\n",
       "      <td>[\\nCloth, Black\\n]</td>\n",
       "      <td>Cloth</td>\n",
       "      <td>Black</td>\n",
       "    </tr>\n",
       "    <tr>\n",
       "      <th>429</th>\n",
       "      <td>NaN</td>\n",
       "      <td>NaN</td>\n",
       "      <td>NaN</td>\n",
       "    </tr>\n",
       "    <tr>\n",
       "      <th>5711</th>\n",
       "      <td>[\\nPart leather, Black\\n]</td>\n",
       "      <td>Part leather</td>\n",
       "      <td>Black</td>\n",
       "    </tr>\n",
       "    <tr>\n",
       "      <th>13721</th>\n",
       "      <td>NaN</td>\n",
       "      <td>NaN</td>\n",
       "      <td>NaN</td>\n",
       "    </tr>\n",
       "    <tr>\n",
       "      <th>3409</th>\n",
       "      <td>[\\nCloth, Black\\n]</td>\n",
       "      <td>Cloth</td>\n",
       "      <td>Black</td>\n",
       "    </tr>\n",
       "    <tr>\n",
       "      <th>178</th>\n",
       "      <td>[\\nCloth, Black\\n]</td>\n",
       "      <td>Cloth</td>\n",
       "      <td>Black</td>\n",
       "    </tr>\n",
       "    <tr>\n",
       "      <th>12280</th>\n",
       "      <td>[\\nCloth, Black\\n]</td>\n",
       "      <td>Cloth</td>\n",
       "      <td>Black</td>\n",
       "    </tr>\n",
       "  </tbody>\n",
       "</table>\n",
       "</div>"
      ],
      "text/plain": [
       "                      upholstery upholstery_fabric upholstery_color\n",
       "1667                 [\\nBlack\\n]               NaN            Black\n",
       "1894                         NaN               NaN              NaN\n",
       "6835          [\\nOther, Other\\n]             Other            Other\n",
       "2060          [\\nCloth, Black\\n]             Cloth            Black\n",
       "429                          NaN               NaN              NaN\n",
       "5711   [\\nPart leather, Black\\n]      Part leather            Black\n",
       "13721                        NaN               NaN              NaN\n",
       "3409          [\\nCloth, Black\\n]             Cloth            Black\n",
       "178           [\\nCloth, Black\\n]             Cloth            Black\n",
       "12280         [\\nCloth, Black\\n]             Cloth            Black"
      ]
     },
     "execution_count": 133,
     "metadata": {},
     "output_type": "execute_result"
    }
   ],
   "source": [
    "df[[\"upholstery\",\"upholstery_fabric\",\"upholstery_color\"]].sample(10)"
   ]
  },
  {
   "cell_type": "code",
   "execution_count": 134,
   "metadata": {},
   "outputs": [],
   "source": [
    "df.drop(\"upholstery\", axis=1, inplace=True)"
   ]
  },
  {
   "cell_type": "markdown",
   "metadata": {},
   "source": [
    "### Feature: nr_of_doors"
   ]
  },
  {
   "cell_type": "code",
   "execution_count": 135,
   "metadata": {},
   "outputs": [
    {
     "name": "stdout",
     "output_type": "stream",
     "text": [
      "<class 'pandas.core.series.Series'>\n",
      "RangeIndex: 15919 entries, 0 to 15918\n",
      "Series name: nr_of_doors\n",
      "Non-Null Count  Dtype \n",
      "--------------  ----- \n",
      "15707 non-null  object\n",
      "dtypes: object(1)\n",
      "memory usage: 124.5+ KB\n"
     ]
    }
   ],
   "source": [
    "#nr_of_doors\n",
    "df.nr_of_doors.info()"
   ]
  },
  {
   "cell_type": "code",
   "execution_count": 136,
   "metadata": {},
   "outputs": [
    {
     "data": {
      "text/plain": [
       "[\\n5\\n]    11575\n",
       "[\\n4\\n]     3079\n",
       "[\\n3\\n]      832\n",
       "[\\n2\\n]      219\n",
       "[\\n1\\n]        1\n",
       "[\\n7\\n]        1\n",
       "Name: nr_of_doors, dtype: int64"
      ]
     },
     "execution_count": 136,
     "metadata": {},
     "output_type": "execute_result"
    }
   ],
   "source": [
    "df.nr_of_doors.value_counts()"
   ]
  },
  {
   "cell_type": "code",
   "execution_count": 137,
   "metadata": {},
   "outputs": [],
   "source": [
    "#let us clean all values\n",
    "for i in df.index:\n",
    "    if type(df.at[i,\"nr_of_doors\"])==list:\n",
    "        temp=df.at[i,\"nr_of_doors\"][0]\n",
    "        df.at[i,\"nr_of_doors\"]=temp.replace(\"\\n\",\"\")"
   ]
  },
  {
   "cell_type": "code",
   "execution_count": 138,
   "metadata": {},
   "outputs": [
    {
     "data": {
      "text/plain": [
       "5    11575\n",
       "4     3079\n",
       "3      832\n",
       "2      219\n",
       "1        1\n",
       "7        1\n",
       "Name: nr_of_doors, dtype: int64"
      ]
     },
     "execution_count": 138,
     "metadata": {},
     "output_type": "execute_result"
    }
   ],
   "source": [
    "df.nr_of_doors.value_counts()"
   ]
  },
  {
   "cell_type": "code",
   "execution_count": 139,
   "metadata": {},
   "outputs": [
    {
     "data": {
      "text/plain": [
       "0        5.0\n",
       "1        3.0\n",
       "2        4.0\n",
       "3        3.0\n",
       "4        5.0\n",
       "        ... \n",
       "15914    5.0\n",
       "15915    5.0\n",
       "15916    5.0\n",
       "15917    5.0\n",
       "15918    5.0\n",
       "Name: nr_of_doors, Length: 15919, dtype: float64"
      ]
     },
     "execution_count": 139,
     "metadata": {},
     "output_type": "execute_result"
    }
   ],
   "source": [
    "df.nr_of_doors.astype(float)"
   ]
  },
  {
   "cell_type": "markdown",
   "metadata": {},
   "source": [
    "### Feature: nr_of_seats"
   ]
  },
  {
   "cell_type": "code",
   "execution_count": 140,
   "metadata": {},
   "outputs": [
    {
     "name": "stdout",
     "output_type": "stream",
     "text": [
      "<class 'pandas.core.series.Series'>\n",
      "RangeIndex: 15919 entries, 0 to 15918\n",
      "Series name: nr_of_seats\n",
      "Non-Null Count  Dtype \n",
      "--------------  ----- \n",
      "14942 non-null  object\n",
      "dtypes: object(1)\n",
      "memory usage: 124.5+ KB\n"
     ]
    }
   ],
   "source": [
    "#nr_of_seats\n",
    "df.nr_of_seats.info()"
   ]
  },
  {
   "cell_type": "code",
   "execution_count": 141,
   "metadata": {},
   "outputs": [
    {
     "data": {
      "text/plain": [
       "[\\n5\\n]    13336\n",
       "[\\n4\\n]     1125\n",
       "[\\n7\\n]      362\n",
       "[\\n2\\n]      116\n",
       "[\\n6\\n]        2\n",
       "[\\n3\\n]        1\n",
       "Name: nr_of_seats, dtype: int64"
      ]
     },
     "execution_count": 141,
     "metadata": {},
     "output_type": "execute_result"
    }
   ],
   "source": [
    "df.nr_of_seats.value_counts()"
   ]
  },
  {
   "cell_type": "code",
   "execution_count": 142,
   "metadata": {},
   "outputs": [],
   "source": [
    "#let us clean all values\n",
    "for i in df.index:\n",
    "    if type(df.at[i,\"nr_of_seats\"])==list:\n",
    "        temp=df.at[i,\"nr_of_seats\"][0]\n",
    "        df.at[i,\"nr_of_seats\"]=temp.replace(\"\\n\",\"\")"
   ]
  },
  {
   "cell_type": "code",
   "execution_count": 143,
   "metadata": {},
   "outputs": [
    {
     "data": {
      "text/plain": [
       "5    13336\n",
       "4     1125\n",
       "7      362\n",
       "2      116\n",
       "6        2\n",
       "3        1\n",
       "Name: nr_of_seats, dtype: int64"
      ]
     },
     "execution_count": 143,
     "metadata": {},
     "output_type": "execute_result"
    }
   ],
   "source": [
    "df.nr_of_seats.value_counts()"
   ]
  },
  {
   "cell_type": "code",
   "execution_count": 144,
   "metadata": {},
   "outputs": [
    {
     "data": {
      "text/plain": [
       "0        5.0\n",
       "1        4.0\n",
       "2        4.0\n",
       "3        4.0\n",
       "4        5.0\n",
       "        ... \n",
       "15914    5.0\n",
       "15915    5.0\n",
       "15916    7.0\n",
       "15917    7.0\n",
       "15918    5.0\n",
       "Name: nr_of_seats, Length: 15919, dtype: float64"
      ]
     },
     "execution_count": 144,
     "metadata": {},
     "output_type": "execute_result"
    }
   ],
   "source": [
    "df.nr_of_seats.astype(float)"
   ]
  },
  {
   "cell_type": "markdown",
   "metadata": {},
   "source": [
    "### Feature: model_code"
   ]
  },
  {
   "cell_type": "code",
   "execution_count": 145,
   "metadata": {},
   "outputs": [
    {
     "name": "stdout",
     "output_type": "stream",
     "text": [
      "<class 'pandas.core.series.Series'>\n",
      "RangeIndex: 15919 entries, 0 to 15918\n",
      "Series name: model_code\n",
      "Non-Null Count  Dtype \n",
      "--------------  ----- \n",
      "4978 non-null   object\n",
      "dtypes: object(1)\n",
      "memory usage: 124.5+ KB\n"
     ]
    }
   ],
   "source": [
    "#model_code\n",
    "df.model_code.info()"
   ]
  },
  {
   "cell_type": "code",
   "execution_count": 146,
   "metadata": {},
   "outputs": [
    {
     "data": {
      "text/plain": [
       "[\\n0035/BCB\\n]    268\n",
       "[\\n0588/BNO\\n]    245\n",
       "[\\n0588/BDB\\n]    206\n",
       "[\\n0588/BHX\\n]    188\n",
       "[\\n1844/ADJ\\n]    175\n",
       "                 ... \n",
       "[\\n0000/ACP\\n]      1\n",
       "[\\n0035/BGY\\n]      1\n",
       "[\\n0035/bgp\\n]      1\n",
       "[\\n0035/BGS\\n]      1\n",
       "[\\n3333/BKG\\n]      1\n",
       "Name: model_code, Length: 232, dtype: int64"
      ]
     },
     "execution_count": 146,
     "metadata": {},
     "output_type": "execute_result"
    }
   ],
   "source": [
    "df.model_code.value_counts()"
   ]
  },
  {
   "cell_type": "code",
   "execution_count": 147,
   "metadata": {},
   "outputs": [],
   "source": [
    "#let us clean all values\n",
    "for i in df.index:\n",
    "    if type(df.at[i,\"model_code\"])==list:\n",
    "        temp=df.at[i,\"model_code\"][0]\n",
    "        df.at[i,\"model_code\"]=temp.replace(\"\\n\",\"\")"
   ]
  },
  {
   "cell_type": "code",
   "execution_count": 148,
   "metadata": {},
   "outputs": [
    {
     "data": {
      "text/plain": [
       "0035/BCB    268\n",
       "0588/BNO    245\n",
       "0588/BDB    206\n",
       "0588/BHX    188\n",
       "1844/ADJ    175\n",
       "           ... \n",
       "0000/ACP      1\n",
       "0035/BGY      1\n",
       "0035/bgp      1\n",
       "0035/BGS      1\n",
       "3333/BKG      1\n",
       "Name: model_code, Length: 232, dtype: int64"
      ]
     },
     "execution_count": 148,
     "metadata": {},
     "output_type": "execute_result"
    }
   ],
   "source": [
    "df.model_code.value_counts()"
   ]
  },
  {
   "cell_type": "code",
   "execution_count": 149,
   "metadata": {},
   "outputs": [],
   "source": [
    "#model codes have information of manufacturer and motor codes\n",
    "#motor codes have no effect on price and manufacturers are already included in make_model\n",
    "df.drop(\"model_code\", axis=1, inplace=True)"
   ]
  },
  {
   "cell_type": "markdown",
   "metadata": {},
   "source": [
    "### Feature: gearing_type"
   ]
  },
  {
   "cell_type": "code",
   "execution_count": 150,
   "metadata": {},
   "outputs": [
    {
     "name": "stdout",
     "output_type": "stream",
     "text": [
      "<class 'pandas.core.series.Series'>\n",
      "RangeIndex: 15919 entries, 0 to 15918\n",
      "Series name: gearing_type\n",
      "Non-Null Count  Dtype \n",
      "--------------  ----- \n",
      "15919 non-null  object\n",
      "dtypes: object(1)\n",
      "memory usage: 124.5+ KB\n"
     ]
    }
   ],
   "source": [
    "#gearing_type\n",
    "df.gearing_type.info()"
   ]
  },
  {
   "cell_type": "code",
   "execution_count": 151,
   "metadata": {},
   "outputs": [
    {
     "data": {
      "text/plain": [
       "[\\n, Manual, \\n]            8153\n",
       "[\\n, Automatic, \\n]         7297\n",
       "[\\n, Semi-automatic, \\n]     469\n",
       "Name: gearing_type, dtype: int64"
      ]
     },
     "execution_count": 151,
     "metadata": {},
     "output_type": "execute_result"
    }
   ],
   "source": [
    "df.gearing_type.value_counts()"
   ]
  },
  {
   "cell_type": "code",
   "execution_count": 152,
   "metadata": {},
   "outputs": [],
   "source": [
    "#let us clean all values\n",
    "for i in df.index:\n",
    "    if type(df.at[i,\"gearing_type\"])==list:\n",
    "        temp=df.at[i,\"gearing_type\"]\n",
    "        for k in temp:\n",
    "            k=k.replace(\"\\n\",\"\")\n",
    "            if k!='':\n",
    "                df.at[i,\"gearing_type\"]=str.strip(k)"
   ]
  },
  {
   "cell_type": "code",
   "execution_count": 153,
   "metadata": {},
   "outputs": [
    {
     "data": {
      "text/plain": [
       "Manual            8153\n",
       "Automatic         7297\n",
       "Semi-automatic     469\n",
       "Name: gearing_type, dtype: int64"
      ]
     },
     "execution_count": 153,
     "metadata": {},
     "output_type": "execute_result"
    }
   ],
   "source": [
    "df.gearing_type.value_counts()"
   ]
  },
  {
   "cell_type": "markdown",
   "metadata": {},
   "source": [
    "### Feature: displacement"
   ]
  },
  {
   "cell_type": "code",
   "execution_count": 154,
   "metadata": {},
   "outputs": [
    {
     "name": "stdout",
     "output_type": "stream",
     "text": [
      "<class 'pandas.core.series.Series'>\n",
      "RangeIndex: 15919 entries, 0 to 15918\n",
      "Series name: displacement\n",
      "Non-Null Count  Dtype \n",
      "--------------  ----- \n",
      "15423 non-null  object\n",
      "dtypes: object(1)\n",
      "memory usage: 124.5+ KB\n"
     ]
    }
   ],
   "source": [
    "#displacement\n",
    "df.displacement.info()"
   ]
  },
  {
   "cell_type": "code",
   "execution_count": 155,
   "metadata": {},
   "outputs": [
    {
     "data": {
      "text/plain": [
       "[\\n1,598 cc\\n]    4761\n",
       "[\\n999 cc\\n]      2438\n",
       "[\\n1,398 cc\\n]    1314\n",
       "[\\n1,399 cc\\n]     749\n",
       "[\\n1,229 cc\\n]     677\n",
       "                  ... \n",
       "[\\n122 cc\\n]         1\n",
       "[\\n1,198 cc\\n]       1\n",
       "[\\n1,195 cc\\n]       1\n",
       "[\\n2,967 cc\\n]       1\n",
       "[\\n1,800 cc\\n]       1\n",
       "Name: displacement, Length: 77, dtype: int64"
      ]
     },
     "execution_count": 155,
     "metadata": {},
     "output_type": "execute_result"
    }
   ],
   "source": [
    "df.displacement.value_counts()"
   ]
  },
  {
   "cell_type": "code",
   "execution_count": 156,
   "metadata": {},
   "outputs": [],
   "source": [
    "#let us clean all values\n",
    "for i in df.index:\n",
    "    if type(df.at[i,\"displacement\"])==list:\n",
    "        temp=df.at[i,\"displacement\"][0].split(\" \")\n",
    "        temp=temp[0].replace(\"\\n\",\"\")\n",
    "        df.at[i,\"displacement\"]=temp.replace(\",\",\"\")"
   ]
  },
  {
   "cell_type": "code",
   "execution_count": 157,
   "metadata": {},
   "outputs": [],
   "source": [
    "df.displacement=df.displacement.astype(float)"
   ]
  },
  {
   "cell_type": "code",
   "execution_count": 158,
   "metadata": {
    "scrolled": true
   },
   "outputs": [
    {
     "data": {
      "text/plain": [
       "1598.0    4761\n",
       "999.0     2438\n",
       "1398.0    1314\n",
       "1399.0     749\n",
       "1229.0     677\n",
       "          ... \n",
       "122.0        1\n",
       "1198.0       1\n",
       "1195.0       1\n",
       "2967.0       1\n",
       "1800.0       1\n",
       "Name: displacement, Length: 77, dtype: int64"
      ]
     },
     "execution_count": 158,
     "metadata": {},
     "output_type": "execute_result"
    }
   ],
   "source": [
    "df.displacement.value_counts()"
   ]
  },
  {
   "cell_type": "markdown",
   "metadata": {},
   "source": [
    "### Feature: cylinders"
   ]
  },
  {
   "cell_type": "code",
   "execution_count": 159,
   "metadata": {},
   "outputs": [
    {
     "name": "stdout",
     "output_type": "stream",
     "text": [
      "<class 'pandas.core.series.Series'>\n",
      "RangeIndex: 15919 entries, 0 to 15918\n",
      "Series name: cylinders\n",
      "Non-Null Count  Dtype \n",
      "--------------  ----- \n",
      "10239 non-null  object\n",
      "dtypes: object(1)\n",
      "memory usage: 124.5+ KB\n"
     ]
    }
   ],
   "source": [
    "#cylinders\n",
    "df.cylinders.info()"
   ]
  },
  {
   "cell_type": "code",
   "execution_count": 160,
   "metadata": {},
   "outputs": [
    {
     "data": {
      "text/plain": [
       "[\\n4\\n]    8105\n",
       "[\\n3\\n]    2104\n",
       "[\\n5\\n]      22\n",
       "[\\n6\\n]       3\n",
       "[\\n8\\n]       2\n",
       "[\\n2\\n]       2\n",
       "[\\n1\\n]       1\n",
       "Name: cylinders, dtype: int64"
      ]
     },
     "execution_count": 160,
     "metadata": {},
     "output_type": "execute_result"
    }
   ],
   "source": [
    "df.cylinders.value_counts()"
   ]
  },
  {
   "cell_type": "code",
   "execution_count": 161,
   "metadata": {},
   "outputs": [],
   "source": [
    "#let us clean all values\n",
    "for i in df.index:\n",
    "    if type(df.at[i,\"cylinders\"])==list:\n",
    "        temp=df.at[i,\"cylinders\"][0]\n",
    "        df.at[i,\"cylinders\"]=temp.replace(\"\\n\",\"\")"
   ]
  },
  {
   "cell_type": "code",
   "execution_count": 162,
   "metadata": {},
   "outputs": [
    {
     "data": {
      "text/plain": [
       "4    8105\n",
       "3    2104\n",
       "5      22\n",
       "6       3\n",
       "8       2\n",
       "2       2\n",
       "1       1\n",
       "Name: cylinders, dtype: int64"
      ]
     },
     "execution_count": 162,
     "metadata": {},
     "output_type": "execute_result"
    }
   ],
   "source": [
    "df.cylinders.value_counts()"
   ]
  },
  {
   "cell_type": "code",
   "execution_count": 163,
   "metadata": {},
   "outputs": [],
   "source": [
    "df.cylinders=df.cylinders.astype(float)"
   ]
  },
  {
   "cell_type": "markdown",
   "metadata": {},
   "source": [
    "### Feature: weight"
   ]
  },
  {
   "cell_type": "code",
   "execution_count": 164,
   "metadata": {},
   "outputs": [
    {
     "name": "stdout",
     "output_type": "stream",
     "text": [
      "<class 'pandas.core.series.Series'>\n",
      "RangeIndex: 15919 entries, 0 to 15918\n",
      "Series name: weight\n",
      "Non-Null Count  Dtype \n",
      "--------------  ----- \n",
      "8945 non-null   object\n",
      "dtypes: object(1)\n",
      "memory usage: 124.5+ KB\n"
     ]
    }
   ],
   "source": [
    "#weight\n",
    "df.weight.info()"
   ]
  },
  {
   "cell_type": "code",
   "execution_count": 165,
   "metadata": {},
   "outputs": [
    {
     "data": {
      "text/plain": [
       "[\\n1,163 kg\\n]    574\n",
       "[\\n1,360 kg\\n]    356\n",
       "[\\n1,165 kg\\n]    301\n",
       "[\\n1,335 kg\\n]    242\n",
       "[\\n1,135 kg\\n]    213\n",
       "                 ... \n",
       "[\\n1,331 kg\\n]      1\n",
       "[\\n1,132 kg\\n]      1\n",
       "[\\n1,252 kg\\n]      1\n",
       "[\\n1,792 kg\\n]      1\n",
       "[\\n2,037 kg\\n]      1\n",
       "Name: weight, Length: 434, dtype: int64"
      ]
     },
     "execution_count": 165,
     "metadata": {},
     "output_type": "execute_result"
    }
   ],
   "source": [
    "df.weight.value_counts()"
   ]
  },
  {
   "cell_type": "code",
   "execution_count": 166,
   "metadata": {},
   "outputs": [],
   "source": [
    "#let us clean all values\n",
    "for i in df.index:\n",
    "    if type(df.at[i,\"weight\"])==list:\n",
    "        temp=df.at[i,\"weight\"][0]\n",
    "        df.at[i,\"weight\"]=temp.replace(\"\\n\",\"\")\n",
    "        df.at[i,\"weight\"]=df.at[i,\"weight\"].replace(\",\",\"\")\n",
    "        df.at[i,\"weight\"]=df.at[i,\"weight\"].replace(\" kg\",\"\")"
   ]
  },
  {
   "cell_type": "code",
   "execution_count": 167,
   "metadata": {},
   "outputs": [
    {
     "data": {
      "text/plain": [
       "1163    574\n",
       "1360    356\n",
       "1165    301\n",
       "1335    242\n",
       "1135    213\n",
       "       ... \n",
       "1331      1\n",
       "1132      1\n",
       "1252      1\n",
       "1792      1\n",
       "2037      1\n",
       "Name: weight, Length: 434, dtype: int64"
      ]
     },
     "execution_count": 167,
     "metadata": {},
     "output_type": "execute_result"
    }
   ],
   "source": [
    "df.weight.value_counts()"
   ]
  },
  {
   "cell_type": "code",
   "execution_count": 168,
   "metadata": {},
   "outputs": [],
   "source": [
    "df.weight=df.weight.astype(float)"
   ]
  },
  {
   "cell_type": "markdown",
   "metadata": {},
   "source": [
    "### Feature: drive_chain"
   ]
  },
  {
   "cell_type": "code",
   "execution_count": 169,
   "metadata": {},
   "outputs": [
    {
     "name": "stdout",
     "output_type": "stream",
     "text": [
      "<class 'pandas.core.series.Series'>\n",
      "RangeIndex: 15919 entries, 0 to 15918\n",
      "Series name: drive_chain\n",
      "Non-Null Count  Dtype \n",
      "--------------  ----- \n",
      "9061 non-null   object\n",
      "dtypes: object(1)\n",
      "memory usage: 124.5+ KB\n"
     ]
    }
   ],
   "source": [
    "#'drive_chain'\n",
    "df.drive_chain.info()"
   ]
  },
  {
   "cell_type": "code",
   "execution_count": 170,
   "metadata": {},
   "outputs": [
    {
     "data": {
      "text/plain": [
       "[\\nfront\\n]    8886\n",
       "[\\n4WD\\n]       171\n",
       "[\\nrear\\n]        4\n",
       "Name: drive_chain, dtype: int64"
      ]
     },
     "execution_count": 170,
     "metadata": {},
     "output_type": "execute_result"
    }
   ],
   "source": [
    "df.drive_chain.value_counts()"
   ]
  },
  {
   "cell_type": "code",
   "execution_count": 171,
   "metadata": {},
   "outputs": [],
   "source": [
    "#let us clean all values\n",
    "for i in df.index:\n",
    "    if type(df.at[i,\"drive_chain\"])==list:\n",
    "        temp=df.at[i,\"drive_chain\"][0]\n",
    "        df.at[i,\"drive_chain\"]=temp.replace(\"\\n\",\"\")        "
   ]
  },
  {
   "cell_type": "code",
   "execution_count": 172,
   "metadata": {},
   "outputs": [
    {
     "data": {
      "text/plain": [
       "front    8886\n",
       "4WD       171\n",
       "rear        4\n",
       "Name: drive_chain, dtype: int64"
      ]
     },
     "execution_count": 172,
     "metadata": {},
     "output_type": "execute_result"
    }
   ],
   "source": [
    "df.drive_chain.value_counts()"
   ]
  },
  {
   "cell_type": "markdown",
   "metadata": {},
   "source": [
    "### Feature: fuel"
   ]
  },
  {
   "cell_type": "code",
   "execution_count": 173,
   "metadata": {},
   "outputs": [
    {
     "name": "stdout",
     "output_type": "stream",
     "text": [
      "<class 'pandas.core.series.Series'>\n",
      "RangeIndex: 15919 entries, 0 to 15918\n",
      "Series name: fuel\n",
      "Non-Null Count  Dtype \n",
      "--------------  ----- \n",
      "15919 non-null  object\n",
      "dtypes: object(1)\n",
      "memory usage: 124.5+ KB\n"
     ]
    }
   ],
   "source": [
    "#Let us check the column of \"fuel\"\n",
    "df.fuel.info()"
   ]
  },
  {
   "cell_type": "code",
   "execution_count": 174,
   "metadata": {},
   "outputs": [
    {
     "data": {
      "text/plain": [
       "[\\n, Diesel (Particulate Filter), \\n]                                                                                  4315\n",
       "[\\n, Super 95, \\n]                                                                                                     3338\n",
       "[\\n, Gasoline, \\n]                                                                                                     3175\n",
       "[\\n, Diesel, \\n]                                                                                                       2984\n",
       "[\\n, Super 95 / Regular/Benzine 91, \\n]                                                                                 424\n",
       "                                                                                                                       ... \n",
       "[\\n, Regular/Benzine 91 / Super 95 / Regular/Benzine E10 91, \\n]                                                          1\n",
       "[\\n, Super Plus 98 / Super E10 95, \\n]                                                                                    1\n",
       "[\\n, Regular/Benzine 91 / Super 95 / Regular/Benzine E10 91 / Super E10 95 / Super Plus 98 / Super Plus E10 98, \\n]       1\n",
       "[\\n, Regular/Benzine 91 / Super Plus 98 / Regular/Benzine E10 91 / Super 95 / Super E10 95 / Super Plus E10 98, \\n]       1\n",
       "[\\n, Super Plus 98 / Super 95 / Super Plus E10 98, \\n]                                                                    1\n",
       "Name: fuel, Length: 77, dtype: int64"
      ]
     },
     "execution_count": 174,
     "metadata": {},
     "output_type": "execute_result"
    }
   ],
   "source": [
    "#Count the values\n",
    "df.fuel.value_counts()"
   ]
  },
  {
   "cell_type": "code",
   "execution_count": 175,
   "metadata": {},
   "outputs": [
    {
     "data": {
      "text/html": [
       "<div>\n",
       "<style scoped>\n",
       "    .dataframe tbody tr th:only-of-type {\n",
       "        vertical-align: middle;\n",
       "    }\n",
       "\n",
       "    .dataframe tbody tr th {\n",
       "        vertical-align: top;\n",
       "    }\n",
       "\n",
       "    .dataframe thead th {\n",
       "        text-align: right;\n",
       "    }\n",
       "</style>\n",
       "<table border=\"1\" class=\"dataframe\">\n",
       "  <thead>\n",
       "    <tr style=\"text-align: right;\">\n",
       "      <th></th>\n",
       "      <th>0</th>\n",
       "    </tr>\n",
       "    <tr>\n",
       "      <th>0</th>\n",
       "      <th></th>\n",
       "    </tr>\n",
       "  </thead>\n",
       "  <tbody>\n",
       "    <tr>\n",
       "      <th>Diesel (Particulate Filter)</th>\n",
       "      <td>4315</td>\n",
       "    </tr>\n",
       "    <tr>\n",
       "      <th>Super 95</th>\n",
       "      <td>4199</td>\n",
       "    </tr>\n",
       "    <tr>\n",
       "      <th>Gasoline</th>\n",
       "      <td>3179</td>\n",
       "    </tr>\n",
       "    <tr>\n",
       "      <th>Diesel</th>\n",
       "      <td>2984</td>\n",
       "    </tr>\n",
       "    <tr>\n",
       "      <th>Regular</th>\n",
       "      <td>998</td>\n",
       "    </tr>\n",
       "    <tr>\n",
       "      <th>Benzine 91</th>\n",
       "      <td>836</td>\n",
       "    </tr>\n",
       "    <tr>\n",
       "      <th>Super E10 95</th>\n",
       "      <td>641</td>\n",
       "    </tr>\n",
       "    <tr>\n",
       "      <th>Super 95 (Particulate Filter)</th>\n",
       "      <td>268</td>\n",
       "    </tr>\n",
       "    <tr>\n",
       "      <th>Super Plus 98</th>\n",
       "      <td>227</td>\n",
       "    </tr>\n",
       "    <tr>\n",
       "      <th>Super Plus E10 98</th>\n",
       "      <td>116</td>\n",
       "    </tr>\n",
       "    <tr>\n",
       "      <th>Benzine 91 (Particulate Filter)</th>\n",
       "      <td>101</td>\n",
       "    </tr>\n",
       "    <tr>\n",
       "      <th>Gasoline (Particulate Filter)</th>\n",
       "      <td>77</td>\n",
       "    </tr>\n",
       "    <tr>\n",
       "      <th>Benzine E10 91</th>\n",
       "      <td>60</td>\n",
       "    </tr>\n",
       "    <tr>\n",
       "      <th>CNG</th>\n",
       "      <td>33</td>\n",
       "    </tr>\n",
       "    <tr>\n",
       "      <th>Super E10 95 (Particulate Filter)</th>\n",
       "      <td>32</td>\n",
       "    </tr>\n",
       "    <tr>\n",
       "      <th>LPG</th>\n",
       "      <td>16</td>\n",
       "    </tr>\n",
       "    <tr>\n",
       "      <th>Super Plus 98 (Particulate Filter)</th>\n",
       "      <td>14</td>\n",
       "    </tr>\n",
       "    <tr>\n",
       "      <th>Liquid petroleum gas (LPG)</th>\n",
       "      <td>10</td>\n",
       "    </tr>\n",
       "    <tr>\n",
       "      <th>Super Plus E10 98 (Particulate Filter)</th>\n",
       "      <td>7</td>\n",
       "    </tr>\n",
       "    <tr>\n",
       "      <th>Electric</th>\n",
       "      <td>5</td>\n",
       "    </tr>\n",
       "    <tr>\n",
       "      <th>Others</th>\n",
       "      <td>5</td>\n",
       "    </tr>\n",
       "    <tr>\n",
       "      <th>CNG (Particulate Filter)</th>\n",
       "      <td>3</td>\n",
       "    </tr>\n",
       "    <tr>\n",
       "      <th>Domestic gas H</th>\n",
       "      <td>1</td>\n",
       "    </tr>\n",
       "    <tr>\n",
       "      <th>Others (Particulate Filter)</th>\n",
       "      <td>1</td>\n",
       "    </tr>\n",
       "    <tr>\n",
       "      <th>Biogas</th>\n",
       "      <td>1</td>\n",
       "    </tr>\n",
       "    <tr>\n",
       "      <th>Biodiesel</th>\n",
       "      <td>1</td>\n",
       "    </tr>\n",
       "    <tr>\n",
       "      <th>Benzine E10 91 (Particulate Filter)</th>\n",
       "      <td>1</td>\n",
       "    </tr>\n",
       "  </tbody>\n",
       "</table>\n",
       "</div>"
      ],
      "text/plain": [
       "                                           0\n",
       "0                                           \n",
       "Diesel (Particulate Filter)             4315\n",
       "Super 95                                4199\n",
       "Gasoline                                3179\n",
       "Diesel                                  2984\n",
       "Regular                                  998\n",
       "Benzine 91                               836\n",
       "Super E10 95                             641\n",
       "Super 95 (Particulate Filter)            268\n",
       "Super Plus 98                            227\n",
       "Super Plus E10 98                        116\n",
       "Benzine 91 (Particulate Filter)          101\n",
       "Gasoline (Particulate Filter)             77\n",
       "Benzine E10 91                            60\n",
       "CNG                                       33\n",
       "Super E10 95 (Particulate Filter)         32\n",
       "LPG                                       16\n",
       "Super Plus 98 (Particulate Filter)        14\n",
       "Liquid petroleum gas (LPG)                10\n",
       "Super Plus E10 98 (Particulate Filter)     7\n",
       "Electric                                   5\n",
       "Others                                     5\n",
       "CNG (Particulate Filter)                   3\n",
       "Domestic gas H                             1\n",
       "Others (Particulate Filter)                1\n",
       "Biogas                                     1\n",
       "Biodiesel                                  1\n",
       "Benzine E10 91 (Particulate Filter)        1"
      ]
     },
     "execution_count": 175,
     "metadata": {},
     "output_type": "execute_result"
    }
   ],
   "source": [
    "#In order to organize this messy data, let us count of values\n",
    "temp=[]\n",
    "for i in df.fuel:\n",
    "    if type(i)==list:\n",
    "        for j in i:\n",
    "            temp_ss=str(j.replace(\"\\n\",\"\"))\n",
    "            if temp_ss!='':\n",
    "                temp_list=temp_ss.split(\"/\")\n",
    "                for k in temp_list:\n",
    "                    temp.append(str.strip(k))\n",
    "    else:\n",
    "        temp_ss=str(j.replace(\"\\n\",\"\"))\n",
    "        temp.append(temp_ss)\n",
    "temp_df=pd.DataFrame(temp)\n",
    "temp_df.value_counts()\n",
    "temp_df=pd.DataFrame(temp_df.value_counts())\n",
    "temp_df"
   ]
  },
  {
   "cell_type": "code",
   "execution_count": 176,
   "metadata": {},
   "outputs": [],
   "source": [
    "#categorize the fuel type into diesel, benzin, lpg/cng and electric\n",
    "diesel=[\"Diesel (Particulate Filter)\",\"Diesel\",\"Biodiesel\"]\n",
    "benzin = [\"Benzine E10 91 (Particulate Filter)\",\n",
    "          \"Benzine 91\",\n",
    "          \"Super 95 (Particulate Filter)\",\n",
    "          \"Benzine 91 (Particulate Filter)\",\n",
    "          \"Gasoline (Particulate Filter)\",\n",
    "          \"Benzine E10 91\",\n",
    "          \"Super Plus 98 (Particulate Filter)\",\n",
    "          \"Gasoline\",\n",
    "          \"Super 95\",\n",
    "          \"Regular\",\n",
    "          \"Super E10 95\",\n",
    "          \"Super E10 95 (Particulate Filter)\",\n",
    "          \"Super Plus 98\",\n",
    "          \"Super Plus E10 98\",\n",
    "          \"Others\",\n",
    "          \"Super Plus E10 98 (Particulate Filter)\",\n",
    "         \"Others (Particulate Filter)\"]\n",
    "lpg = [\"LPG\",\"Liquid petroleum gas (LPG)\",\n",
    "       \"CNG\",\"Biogas\",\"Domestic gas H\",\n",
    "       'CNG (Particulate Filter)']\n",
    "electric=[\"Electric\"]"
   ]
  },
  {
   "cell_type": "code",
   "execution_count": 177,
   "metadata": {},
   "outputs": [],
   "source": [
    "#Resassignment of \"fuel\" column\n",
    "for i in df.index:\n",
    "    if type(df.at[i,\"fuel\"])==list:\n",
    "        temp=[]\n",
    "        for j in df.at[i,\"fuel\"]:\n",
    "            temp_ss=str(j.replace(\"\\n\",\"\"))\n",
    "            if temp_ss!='':\n",
    "                temp_list=temp_ss.split(\"/\")\n",
    "                for k in temp_list:\n",
    "                    temp.append(str.strip(k))\n",
    "        if temp[0] in diesel:\n",
    "            df.at[i,\"fuel\"]='Diesel'\n",
    "        if temp[0] in benzin:\n",
    "            df.at[i,\"fuel\"]='Benzin'\n",
    "        if temp[0] in lpg:\n",
    "            df.at[i,\"fuel\"]='LPG/CNG'\n",
    "        if temp[0] in electric:\n",
    "            df.at[i,\"fuel\"]='Electric'\n",
    "    "
   ]
  },
  {
   "cell_type": "code",
   "execution_count": 178,
   "metadata": {},
   "outputs": [
    {
     "data": {
      "text/plain": [
       "Benzin      8551\n",
       "Diesel      7299\n",
       "LPG/CNG       64\n",
       "Electric       5\n",
       "Name: fuel, dtype: int64"
      ]
     },
     "execution_count": 178,
     "metadata": {},
     "output_type": "execute_result"
    }
   ],
   "source": [
    "df.fuel.value_counts()"
   ]
  },
  {
   "cell_type": "markdown",
   "metadata": {},
   "source": [
    "### Feature: consumption"
   ]
  },
  {
   "cell_type": "code",
   "execution_count": 179,
   "metadata": {},
   "outputs": [
    {
     "name": "stdout",
     "output_type": "stream",
     "text": [
      "<class 'pandas.core.series.Series'>\n",
      "RangeIndex: 15919 entries, 0 to 15918\n",
      "Series name: consumption\n",
      "Non-Null Count  Dtype \n",
      "--------------  ----- \n",
      "14013 non-null  object\n",
      "dtypes: object(1)\n",
      "memory usage: 124.5+ KB\n"
     ]
    }
   ],
   "source": [
    "#check consumption column and see that there are null values\n",
    "df.consumption.info()"
   ]
  },
  {
   "cell_type": "code",
   "execution_count": 180,
   "metadata": {},
   "outputs": [
    {
     "data": {
      "text/plain": [
       "[[3.9 l/100 km (comb)], [4.1 l/100 km (city)], [3.7 l/100 km (country)]]              304\n",
       "[[4.2 l/100 km (comb)], [5 l/100 km (city)], [3.7 l/100 km (country)]]                276\n",
       "[[5.4 l/100 km (comb)], [6.8 l/100 km (city)], [4.5 l/100 km (country)]]              257\n",
       "[[3.8 l/100 km (comb)], [4.3 l/100 km (city)], [3.5 l/100 km (country)]]              253\n",
       "[[4.7 l/100 km (comb)], [5.1 l/100 km (city)], [4.4 l/100 km (country)]]              244\n",
       "                                                                                     ... \n",
       "[[4.2 l/100 km (comb)], [5.3 l/100 km (city)], [3.6 l/100 km (country)]]                1\n",
       "[\\n, 5.1 l/100 km (comb), \\n, 6.4 l/100 km (city), \\n, 4.3 l/100 km (country), \\n]      1\n",
       "[[4.6 l/100 km (comb)], [5.4 l/100 km (city)], [6.7 l/100 km (country)]]                1\n",
       "[\\n, 6.3 l/100 km (comb), \\n, \\n, \\n]                                                   1\n",
       "[\\n, 7.4 l/100 km (comb), \\n, 9.6 l/100 km (city), \\n, 6 l/100 km (country), \\n]        1\n",
       "Name: consumption, Length: 881, dtype: int64"
      ]
     },
     "execution_count": 180,
     "metadata": {},
     "output_type": "execute_result"
    }
   ],
   "source": [
    "#let us count the values and they contains lists, which contain lists in it\n",
    "df.consumption.value_counts()"
   ]
  },
  {
   "cell_type": "code",
   "execution_count": 181,
   "metadata": {},
   "outputs": [],
   "source": [
    "#three types of fuel consumption are stored: \n",
    "#in city, outside city and combination\n",
    "#so create three new columns: city_cons, comb_cons and country_cons\n",
    "#store new information on consumption as numerical values\n",
    "df['city_cons']=None\n",
    "df['country_cons']=None\n",
    "df['comb_cons']=None\n",
    "for i in df.index:\n",
    "    if type(df.at[i,'consumption'])==list:\n",
    "        for j in df.at[i,'consumption']:\n",
    "            if type(j)==list:\n",
    "                for k in j:\n",
    "                    if k!='' and k!='\\n':\n",
    "                        if \"city\"in k:\n",
    "                            df.at[i,'city_cons']=k.split(\" \")[0]\n",
    "                        elif \"country\" in k:\n",
    "                            df.at[i,'country_cons']=k.split(\" \")[0]\n",
    "                        elif \"comb\" in k:\n",
    "                            df.at[i,'comb_cons']=k.split(\" \")[0]\n",
    "            elif j!='' and j!='\\n':\n",
    "                if \"city\"in j:\n",
    "                    df.at[i,'city_cons']=j.split(\" \")[0]\n",
    "                elif \"country\" in j:\n",
    "                    df.at[i,'country_cons']=j.split(\" \")[0]\n",
    "                elif \"comb\" in j:\n",
    "                    df.at[i,'comb_cons']=j.split(\" \")[0]\n",
    "\n",
    "df.city_cons=df.city_cons.astype(float)\n",
    "df.country_cons=df.country_cons.astype(float)\n",
    "df.comb_cons=df.comb_cons.astype(float)"
   ]
  },
  {
   "cell_type": "code",
   "execution_count": 182,
   "metadata": {},
   "outputs": [
    {
     "data": {
      "text/plain": [
       "5.4     770\n",
       "3.9     733\n",
       "4.0     713\n",
       "5.1     657\n",
       "4.4     623\n",
       "       ... \n",
       "33.0      1\n",
       "50.0      1\n",
       "1.0       1\n",
       "46.0      1\n",
       "11.0      1\n",
       "Name: comb_cons, Length: 72, dtype: int64"
      ]
     },
     "execution_count": 182,
     "metadata": {},
     "output_type": "execute_result"
    }
   ],
   "source": [
    "#See the count of values for combined fuel consumption\n",
    "df.comb_cons.value_counts()"
   ]
  },
  {
   "cell_type": "code",
   "execution_count": 183,
   "metadata": {},
   "outputs": [],
   "source": [
    "df.drop('consumption',axis=1,inplace=True)"
   ]
  },
  {
   "cell_type": "markdown",
   "metadata": {},
   "source": [
    "### Feature: co2_emission"
   ]
  },
  {
   "cell_type": "code",
   "execution_count": 184,
   "metadata": {},
   "outputs": [
    {
     "name": "stdout",
     "output_type": "stream",
     "text": [
      "<class 'pandas.core.series.Series'>\n",
      "RangeIndex: 15919 entries, 0 to 15918\n",
      "Series name: co2_emission\n",
      "Non-Null Count  Dtype \n",
      "--------------  ----- \n",
      "14111 non-null  object\n",
      "dtypes: object(1)\n",
      "memory usage: 124.5+ KB\n"
     ]
    }
   ],
   "source": [
    "#co2_emission\n",
    "df.co2_emission.info()"
   ]
  },
  {
   "cell_type": "code",
   "execution_count": 185,
   "metadata": {},
   "outputs": [
    {
     "data": {
      "text/plain": [
       "[\\n120 g CO2/km (comb)\\n]      740\n",
       "[[], [], []]                   628\n",
       "[\\n99 g CO2/km (comb)\\n]       545\n",
       "[\\n97 g CO2/km (comb)\\n]       537\n",
       "[\\n104 g CO2/km (comb)\\n]      501\n",
       "                              ... \n",
       "[\\n14 g CO2/km (comb)\\n]         1\n",
       "[\\n1,060 g CO2/km (comb)\\n]      1\n",
       "[\\n51 g CO2/km (comb)\\n]         1\n",
       "[\\n165 g CO2/km (comb)\\n]        1\n",
       "[\\n193 g CO2/km (comb)\\n]        1\n",
       "Name: co2_emission, Length: 123, dtype: int64"
      ]
     },
     "execution_count": 185,
     "metadata": {},
     "output_type": "execute_result"
    }
   ],
   "source": [
    "#value counts\n",
    "df['co2_emission'].value_counts()"
   ]
  },
  {
   "cell_type": "code",
   "execution_count": 186,
   "metadata": {},
   "outputs": [],
   "source": [
    "df[\"co2_emission_new\"]=np.nan\n",
    "for i in df.index:\n",
    "    if type(df.at[i,\"co2_emission\"])==list:\n",
    "        if type(df.at[i,\"co2_emission\"][0])!=list:\n",
    "            temp=df.at[i,\"co2_emission\"][0].split(\" \")\n",
    "            temp=temp[0].replace(\"\\n\",\"\")\n",
    "            temp=temp.replace(\",\",\"\")\n",
    "            df.at[i,\"co2_emission_new\"]=temp"
   ]
  },
  {
   "cell_type": "code",
   "execution_count": 187,
   "metadata": {},
   "outputs": [],
   "source": [
    "df.co2_emission=df.co2_emission_new"
   ]
  },
  {
   "cell_type": "code",
   "execution_count": 188,
   "metadata": {},
   "outputs": [],
   "source": [
    "df.drop('co2_emission_new', axis=1,inplace=True)"
   ]
  },
  {
   "cell_type": "code",
   "execution_count": 189,
   "metadata": {},
   "outputs": [
    {
     "data": {
      "text/plain": [
       "120      740\n",
       "99       545\n",
       "97       537\n",
       "104      501\n",
       "102      477\n",
       "        ... \n",
       "80         1\n",
       "51         1\n",
       "165        1\n",
       "12324      1\n",
       "193        1\n",
       "Name: co2_emission, Length: 122, dtype: int64"
      ]
     },
     "execution_count": 189,
     "metadata": {},
     "output_type": "execute_result"
    }
   ],
   "source": [
    "df.co2_emission.value_counts()"
   ]
  },
  {
   "cell_type": "markdown",
   "metadata": {},
   "source": [
    "### Feature: emission_class"
   ]
  },
  {
   "cell_type": "code",
   "execution_count": 190,
   "metadata": {},
   "outputs": [
    {
     "name": "stdout",
     "output_type": "stream",
     "text": [
      "<class 'pandas.core.series.Series'>\n",
      "RangeIndex: 15919 entries, 0 to 15918\n",
      "Series name: emission_class\n",
      "Non-Null Count  Dtype \n",
      "--------------  ----- \n",
      "12898 non-null  object\n",
      "dtypes: object(1)\n",
      "memory usage: 124.5+ KB\n"
     ]
    }
   ],
   "source": [
    "#emission_class\n",
    "df.emission_class.info()"
   ]
  },
  {
   "cell_type": "code",
   "execution_count": 191,
   "metadata": {},
   "outputs": [
    {
     "data": {
      "text/plain": [
       "[\\nEuro 6\\n]          10139\n",
       "[\\nEuro 6d-TEMP\\n]     1845\n",
       "[[], [], []]            607\n",
       "[\\nEuro 6c\\n]           127\n",
       "[\\nEuro 5\\n]             78\n",
       "[\\nEuro 6d\\n]            62\n",
       "[\\nEuro 4\\n]             40\n",
       "Name: emission_class, dtype: int64"
      ]
     },
     "execution_count": 191,
     "metadata": {},
     "output_type": "execute_result"
    }
   ],
   "source": [
    "df.emission_class.value_counts()"
   ]
  },
  {
   "cell_type": "code",
   "execution_count": 192,
   "metadata": {},
   "outputs": [],
   "source": [
    "df[\"emission_class_new\"]=np.nan\n",
    "for i in df.index:\n",
    "    if type(df.at[i,\"emission_class\"])==list:\n",
    "        if type(df.at[i,\"emission_class\"][0])!=list:\n",
    "            temp=df.at[i,\"emission_class\"][0].replace(\"\\n\",\"\")\n",
    "            df.at[i,\"emission_class_new\"]=temp"
   ]
  },
  {
   "cell_type": "code",
   "execution_count": 193,
   "metadata": {},
   "outputs": [
    {
     "data": {
      "text/plain": [
       "Euro 6          10139\n",
       "Euro 6d-TEMP     1845\n",
       "Euro 6c           127\n",
       "Euro 5             78\n",
       "Euro 6d            62\n",
       "Euro 4             40\n",
       "Name: emission_class_new, dtype: int64"
      ]
     },
     "execution_count": 193,
     "metadata": {},
     "output_type": "execute_result"
    }
   ],
   "source": [
    "df.emission_class_new.value_counts()"
   ]
  },
  {
   "cell_type": "code",
   "execution_count": 194,
   "metadata": {},
   "outputs": [],
   "source": [
    "df.emission_class=df.emission_class_new"
   ]
  },
  {
   "cell_type": "code",
   "execution_count": 195,
   "metadata": {},
   "outputs": [],
   "source": [
    "df.drop('emission_class_new',axis=1,inplace=True)"
   ]
  },
  {
   "cell_type": "markdown",
   "metadata": {},
   "source": [
    "### Feature: emission_label"
   ]
  },
  {
   "cell_type": "code",
   "execution_count": 196,
   "metadata": {},
   "outputs": [
    {
     "name": "stdout",
     "output_type": "stream",
     "text": [
      "<class 'pandas.core.series.Series'>\n",
      "RangeIndex: 15919 entries, 0 to 15918\n",
      "Series name: emission_label\n",
      "Non-Null Count  Dtype \n",
      "--------------  ----- \n",
      "3985 non-null   object\n",
      "dtypes: object(1)\n",
      "memory usage: 124.5+ KB\n"
     ]
    }
   ],
   "source": [
    "#emission_label\n",
    "df.emission_label.info()"
   ]
  },
  {
   "cell_type": "code",
   "execution_count": 197,
   "metadata": {},
   "outputs": [
    {
     "data": {
      "text/plain": [
       "[\\n4 (Green)\\n]         3553\n",
       "[\\n1 (No sticker)\\n]     381\n",
       "[[], [], []]              40\n",
       "[\\n5 (Blue)\\n]             8\n",
       "[\\n3 (Yellow)\\n]           2\n",
       "[\\n2 (Red)\\n]              1\n",
       "Name: emission_label, dtype: int64"
      ]
     },
     "execution_count": 197,
     "metadata": {},
     "output_type": "execute_result"
    }
   ],
   "source": [
    "df.emission_label.value_counts()"
   ]
  },
  {
   "cell_type": "code",
   "execution_count": 198,
   "metadata": {},
   "outputs": [],
   "source": [
    "df[\"emission_label_new\"]=np.nan\n",
    "for i in df.index:\n",
    "    if type(df.at[i,\"emission_label\"])==list:\n",
    "        if type(df.at[i,\"emission_label\"][0])!=list:\n",
    "            temp=df.at[i,\"emission_label\"][0].split(\"(\")\n",
    "            temp=temp[1].replace(\")\\n\",\"\")\n",
    "            df.at[i,\"emission_label_new\"]=temp"
   ]
  },
  {
   "cell_type": "code",
   "execution_count": 199,
   "metadata": {},
   "outputs": [
    {
     "data": {
      "text/plain": [
       "Green         3553\n",
       "No sticker     381\n",
       "Blue             8\n",
       "Yellow           2\n",
       "Red              1\n",
       "Name: emission_label_new, dtype: int64"
      ]
     },
     "execution_count": 199,
     "metadata": {},
     "output_type": "execute_result"
    }
   ],
   "source": [
    "df.emission_label_new.value_counts()"
   ]
  },
  {
   "cell_type": "code",
   "execution_count": 200,
   "metadata": {},
   "outputs": [],
   "source": [
    "df.emission_label=df.emission_label_new"
   ]
  },
  {
   "cell_type": "code",
   "execution_count": 201,
   "metadata": {},
   "outputs": [],
   "source": [
    "#drop this feature since the information is already contained in other features\n",
    "df.drop(['emission_label','emission_label_new'],axis=1,inplace=True)"
   ]
  },
  {
   "cell_type": "markdown",
   "metadata": {},
   "source": [
    "### Feature: gears"
   ]
  },
  {
   "cell_type": "code",
   "execution_count": 202,
   "metadata": {},
   "outputs": [
    {
     "name": "stdout",
     "output_type": "stream",
     "text": [
      "<class 'pandas.core.series.Series'>\n",
      "RangeIndex: 15919 entries, 0 to 15918\n",
      "Series name: gears\n",
      "Non-Null Count  Dtype \n",
      "--------------  ----- \n",
      "11207 non-null  object\n",
      "dtypes: object(1)\n",
      "memory usage: 124.5+ KB\n"
     ]
    }
   ],
   "source": [
    "#gears\n",
    "df.gears.info()"
   ]
  },
  {
   "cell_type": "code",
   "execution_count": 203,
   "metadata": {},
   "outputs": [
    {
     "data": {
      "text/plain": [
       "[\\n6\\n]     5822\n",
       "[\\n5\\n]     3239\n",
       "[\\n7\\n]     1908\n",
       "[\\n8\\n]      224\n",
       "[\\n9\\n]        6\n",
       "[\\n1\\n]        2\n",
       "[\\n3\\n]        2\n",
       "[\\n4\\n]        2\n",
       "[\\n2\\n]        1\n",
       "[\\n50\\n]       1\n",
       "Name: gears, dtype: int64"
      ]
     },
     "execution_count": 203,
     "metadata": {},
     "output_type": "execute_result"
    }
   ],
   "source": [
    "df.gears.value_counts()"
   ]
  },
  {
   "cell_type": "code",
   "execution_count": 204,
   "metadata": {},
   "outputs": [],
   "source": [
    "for i in df.index:\n",
    "    if type(df.at[i,\"gears\"])==list:\n",
    "        temp=df.at[i,\"gears\"][0]\n",
    "        temp=temp.replace(\"\\n\",\"\")\n",
    "        df.at[i,\"gears\"]=temp"
   ]
  },
  {
   "cell_type": "code",
   "execution_count": 205,
   "metadata": {},
   "outputs": [
    {
     "data": {
      "text/plain": [
       "6     5822\n",
       "5     3239\n",
       "7     1908\n",
       "8      224\n",
       "9        6\n",
       "1        2\n",
       "3        2\n",
       "4        2\n",
       "2        1\n",
       "50       1\n",
       "Name: gears, dtype: int64"
      ]
     },
     "execution_count": 205,
     "metadata": {},
     "output_type": "execute_result"
    }
   ],
   "source": [
    "df.gears.value_counts()"
   ]
  },
  {
   "cell_type": "markdown",
   "metadata": {},
   "source": [
    "### Feature: country_version"
   ]
  },
  {
   "cell_type": "code",
   "execution_count": 206,
   "metadata": {},
   "outputs": [
    {
     "name": "stdout",
     "output_type": "stream",
     "text": [
      "<class 'pandas.core.series.Series'>\n",
      "RangeIndex: 15919 entries, 0 to 15918\n",
      "Series name: country_version\n",
      "Non-Null Count  Dtype \n",
      "--------------  ----- \n",
      "7586 non-null   object\n",
      "dtypes: object(1)\n",
      "memory usage: 124.5+ KB\n"
     ]
    }
   ],
   "source": [
    "#country_version\n",
    "df.country_version.info()"
   ]
  },
  {
   "cell_type": "code",
   "execution_count": 207,
   "metadata": {},
   "outputs": [
    {
     "data": {
      "text/plain": [
       "[\\nGermany\\n]           4502\n",
       "[\\nItaly\\n]             1038\n",
       "[\\nEuropean Union\\n]     507\n",
       "[\\nNetherlands\\n]        464\n",
       "[\\nSpain\\n]              325\n",
       "[\\nBelgium\\n]            314\n",
       "[\\nAustria\\n]            208\n",
       "[\\nCzech Republic\\n]      52\n",
       "[\\nPoland\\n]              49\n",
       "[\\nFrance\\n]              38\n",
       "[\\nDenmark\\n]             33\n",
       "[\\nHungary\\n]             28\n",
       "[\\nJapan\\n]                8\n",
       "[\\nSlovakia\\n]             4\n",
       "[\\nCroatia\\n]              4\n",
       "[\\nSweden\\n]               3\n",
       "[\\nRomania\\n]              2\n",
       "[\\nBulgaria\\n]             2\n",
       "[\\nLuxembourg\\n]           1\n",
       "[\\nSwitzerland\\n]          1\n",
       "[\\nSlovenia\\n]             1\n",
       "[\\nEgypt\\n]                1\n",
       "[\\nSerbia\\n]               1\n",
       "Name: country_version, dtype: int64"
      ]
     },
     "execution_count": 207,
     "metadata": {},
     "output_type": "execute_result"
    }
   ],
   "source": [
    "df.country_version.value_counts()"
   ]
  },
  {
   "cell_type": "code",
   "execution_count": 208,
   "metadata": {},
   "outputs": [],
   "source": [
    "for i in df.index:\n",
    "    if type(df.at[i,\"country_version\"])==list:\n",
    "        temp=df.at[i,\"country_version\"][0]\n",
    "        temp=temp.replace(\"\\n\",\"\")\n",
    "        df.at[i,\"country_version\"]=temp"
   ]
  },
  {
   "cell_type": "code",
   "execution_count": 209,
   "metadata": {},
   "outputs": [
    {
     "data": {
      "text/plain": [
       "Germany           4502\n",
       "Italy             1038\n",
       "European Union     507\n",
       "Netherlands        464\n",
       "Spain              325\n",
       "Belgium            314\n",
       "Austria            208\n",
       "Czech Republic      52\n",
       "Poland              49\n",
       "France              38\n",
       "Denmark             33\n",
       "Hungary             28\n",
       "Japan                8\n",
       "Slovakia             4\n",
       "Croatia              4\n",
       "Sweden               3\n",
       "Romania              2\n",
       "Bulgaria             2\n",
       "Luxembourg           1\n",
       "Switzerland          1\n",
       "Slovenia             1\n",
       "Egypt                1\n",
       "Serbia               1\n",
       "Name: country_version, dtype: int64"
      ]
     },
     "execution_count": 209,
     "metadata": {},
     "output_type": "execute_result"
    }
   ],
   "source": [
    "df.country_version.value_counts()"
   ]
  },
  {
   "cell_type": "code",
   "execution_count": 210,
   "metadata": {},
   "outputs": [],
   "source": [
    "#it is not relevant to price prediction\n",
    "df.drop(\"country_version\", axis=1, inplace=True)"
   ]
  },
  {
   "cell_type": "markdown",
   "metadata": {},
   "source": [
    "### Feature: safety_security"
   ]
  },
  {
   "cell_type": "code",
   "execution_count": 211,
   "metadata": {},
   "outputs": [
    {
     "name": "stdout",
     "output_type": "stream",
     "text": [
      "<class 'pandas.core.series.Series'>\n",
      "RangeIndex: 15919 entries, 0 to 15918\n",
      "Series name: safety_security\n",
      "Non-Null Count  Dtype \n",
      "--------------  ----- \n",
      "14937 non-null  object\n",
      "dtypes: object(1)\n",
      "memory usage: 124.5+ KB\n"
     ]
    }
   ],
   "source": [
    "#check column of safety_security and see that there are null values\n",
    "df.safety_security.info()"
   ]
  },
  {
   "cell_type": "code",
   "execution_count": 212,
   "metadata": {},
   "outputs": [
    {
     "data": {
      "text/plain": [
       "NaN                                                                                                                                                                                                                                                                       982\n",
       "[ABS, Central door lock, Daytime running lights, Driver-side airbag, Electronic stability control, Fog lights, Immobilizer, Isofix, Passenger-side airbag, Power steering, Side airbag, Tire pressure monitoring system, Traction control]                                538\n",
       "[ABS, Central door lock, Daytime running lights, Driver-side airbag, Electronic stability control, Immobilizer, Isofix, Passenger-side airbag, Power steering, Side airbag, Tire pressure monitoring system, Traction control]                                            480\n",
       "[ABS, Central door lock, Daytime running lights, Driver-side airbag, Electronic stability control, Immobilizer, Isofix, Passenger-side airbag, Power steering, Side airbag, Tire pressure monitoring system, Traction control, Xenon headlights]                          275\n",
       "[ABS, Central door lock, Daytime running lights, Driver-side airbag, Electronic stability control, Fog lights, Immobilizer, Isofix, LED Daytime Running Lights, Passenger-side airbag, Power steering, Side airbag, Tire pressure monitoring system, Traction control]    272\n",
       "Name: safety_security, dtype: int64"
      ]
     },
     "execution_count": 212,
     "metadata": {},
     "output_type": "execute_result"
    }
   ],
   "source": [
    "#observe the count of values\n",
    "#each row contains a list\n",
    "df.safety_security.value_counts(dropna=False).head()"
   ]
  },
  {
   "cell_type": "code",
   "execution_count": 213,
   "metadata": {
    "scrolled": true
   },
   "outputs": [],
   "source": [
    "df[\"safety_security\"] = [\",\".join(item) if type(item) == list else item for item in df[\"safety_security\"]]"
   ]
  },
  {
   "cell_type": "code",
   "execution_count": 214,
   "metadata": {},
   "outputs": [
    {
     "data": {
      "text/plain": [
       "NaN                                                                                                                                                                                                                                                        982\n",
       "ABS,Central door lock,Daytime running lights,Driver-side airbag,Electronic stability control,Fog lights,Immobilizer,Isofix,Passenger-side airbag,Power steering,Side airbag,Tire pressure monitoring system,Traction control                               538\n",
       "ABS,Central door lock,Daytime running lights,Driver-side airbag,Electronic stability control,Immobilizer,Isofix,Passenger-side airbag,Power steering,Side airbag,Tire pressure monitoring system,Traction control                                          480\n",
       "ABS,Central door lock,Daytime running lights,Driver-side airbag,Electronic stability control,Immobilizer,Isofix,Passenger-side airbag,Power steering,Side airbag,Tire pressure monitoring system,Traction control,Xenon headlights                         275\n",
       "ABS,Central door lock,Daytime running lights,Driver-side airbag,Electronic stability control,Fog lights,Immobilizer,Isofix,LED Daytime Running Lights,Passenger-side airbag,Power steering,Side airbag,Tire pressure monitoring system,Traction control    272\n",
       "Name: safety_security, dtype: int64"
      ]
     },
     "execution_count": 214,
     "metadata": {},
     "output_type": "execute_result"
    }
   ],
   "source": [
    "df[\"safety_security\"].value_counts(dropna=False).head()"
   ]
  },
  {
   "cell_type": "markdown",
   "metadata": {},
   "source": [
    "### Feature: extras"
   ]
  },
  {
   "cell_type": "code",
   "execution_count": 215,
   "metadata": {},
   "outputs": [
    {
     "name": "stdout",
     "output_type": "stream",
     "text": [
      "<class 'pandas.core.series.Series'>\n",
      "RangeIndex: 15919 entries, 0 to 15918\n",
      "Series name: extras\n",
      "Non-Null Count  Dtype \n",
      "--------------  ----- \n",
      "12957 non-null  object\n",
      "dtypes: object(1)\n",
      "memory usage: 124.5+ KB\n"
     ]
    }
   ],
   "source": [
    "#check column of safety_security and see that there are null values\n",
    "df.extras.info()"
   ]
  },
  {
   "cell_type": "code",
   "execution_count": 216,
   "metadata": {},
   "outputs": [
    {
     "data": {
      "text/plain": [
       "[Alloy wheels]                                 3245\n",
       "NaN                                            2962\n",
       "[Alloy wheels, Touch screen]                    697\n",
       "[Alloy wheels, Voice Control]                   577\n",
       "[Alloy wheels, Touch screen, Voice Control]     541\n",
       "Name: extras, dtype: int64"
      ]
     },
     "execution_count": 216,
     "metadata": {},
     "output_type": "execute_result"
    }
   ],
   "source": [
    "#observe the count of values\n",
    "#each row contains a list\n",
    "df.extras.value_counts(dropna=False).head()"
   ]
  },
  {
   "cell_type": "code",
   "execution_count": 217,
   "metadata": {},
   "outputs": [],
   "source": [
    "df[\"extras\"] = [\",\".join(item) if type(item) == list else item for item in df[\"extras\"]]"
   ]
  },
  {
   "cell_type": "code",
   "execution_count": 218,
   "metadata": {},
   "outputs": [
    {
     "data": {
      "text/plain": [
       "Alloy wheels                               3245\n",
       "NaN                                        2962\n",
       "Alloy wheels,Touch screen                   697\n",
       "Alloy wheels,Voice Control                  577\n",
       "Alloy wheels,Touch screen,Voice Control     541\n",
       "Name: extras, dtype: int64"
      ]
     },
     "execution_count": 218,
     "metadata": {},
     "output_type": "execute_result"
    }
   ],
   "source": [
    "df.extras.value_counts(dropna=False).head()"
   ]
  },
  {
   "cell_type": "markdown",
   "metadata": {},
   "source": [
    "### Feature: entertainment_media"
   ]
  },
  {
   "cell_type": "code",
   "execution_count": 219,
   "metadata": {},
   "outputs": [
    {
     "name": "stdout",
     "output_type": "stream",
     "text": [
      "<class 'pandas.core.series.Series'>\n",
      "RangeIndex: 15919 entries, 0 to 15918\n",
      "Series name: entertainment_media\n",
      "Non-Null Count  Dtype \n",
      "--------------  ----- \n",
      "14545 non-null  object\n",
      "dtypes: object(1)\n",
      "memory usage: 124.5+ KB\n"
     ]
    }
   ],
   "source": [
    "#check column of entertainment_media\n",
    "df.entertainment_media.info()"
   ]
  },
  {
   "cell_type": "code",
   "execution_count": 220,
   "metadata": {},
   "outputs": [
    {
     "data": {
      "text/plain": [
       "NaN                                                                                 1374\n",
       "[Bluetooth, Hands-free equipment, On-board computer, Radio, USB]                    1282\n",
       "[Bluetooth, Hands-free equipment, MP3, On-board computer, Radio, USB]                982\n",
       "[Bluetooth, CD player, Hands-free equipment, MP3, On-board computer, Radio, USB]     783\n",
       "[On-board computer, Radio]                                                           487\n",
       "Name: entertainment_media, dtype: int64"
      ]
     },
     "execution_count": 220,
     "metadata": {},
     "output_type": "execute_result"
    }
   ],
   "source": [
    "#check values\n",
    "df.entertainment_media.value_counts(dropna=False).head()"
   ]
  },
  {
   "cell_type": "code",
   "execution_count": 221,
   "metadata": {},
   "outputs": [],
   "source": [
    "df[\"entertainment_media\"] = [\",\".join(item) if type(item) == list else item for item in df[\"entertainment_media\"]]"
   ]
  },
  {
   "cell_type": "markdown",
   "metadata": {},
   "source": [
    "### Feature: comfort_convenience"
   ]
  },
  {
   "cell_type": "code",
   "execution_count": 222,
   "metadata": {},
   "outputs": [
    {
     "name": "stdout",
     "output_type": "stream",
     "text": [
      "<class 'pandas.core.series.Series'>\n",
      "RangeIndex: 15919 entries, 0 to 15918\n",
      "Series name: comfort_convenience\n",
      "Non-Null Count  Dtype \n",
      "--------------  ----- \n",
      "14999 non-null  object\n",
      "dtypes: object(1)\n",
      "memory usage: 124.5+ KB\n"
     ]
    }
   ],
   "source": [
    "#check column of comfort_convenience\n",
    "df.comfort_convenience.info()"
   ]
  },
  {
   "cell_type": "code",
   "execution_count": 223,
   "metadata": {},
   "outputs": [
    {
     "data": {
      "text/plain": [
       "NaN                                                                                                                                                                                                                                                                                                                                                                     920\n",
       "[Air conditioning, Electrical side mirrors, Hill Holder, Power windows]                                                                                                                                                                                                                                                                                                 216\n",
       "[Air conditioning, Electrical side mirrors, Power windows]                                                                                                                                                                                                                                                                                                              134\n",
       "[Air conditioning, Power windows]                                                                                                                                                                                                                                                                                                                                       130\n",
       "[Air conditioning, Armrest, Automatic climate control, Cruise control, Electrical side mirrors, Leather steering wheel, Light sensor, Lumbar support, Multi-function steering wheel, Navigation system, Park Distance Control, Parking assist system sensors front, Parking assist system sensors rear, Power windows, Rain sensor, Seat heating, Start-stop system]    105\n",
       "Name: comfort_convenience, dtype: int64"
      ]
     },
     "execution_count": 223,
     "metadata": {},
     "output_type": "execute_result"
    }
   ],
   "source": [
    "#check values\n",
    "df.comfort_convenience.value_counts(dropna=False).head()"
   ]
  },
  {
   "cell_type": "code",
   "execution_count": 224,
   "metadata": {},
   "outputs": [],
   "source": [
    "df[\"comfort_convenience\"] = [\",\".join(item) if type(item) == list else item for item in df[\"comfort_convenience\"]]"
   ]
  },
  {
   "cell_type": "code",
   "execution_count": 225,
   "metadata": {},
   "outputs": [
    {
     "data": {
      "text/plain": [
       "NaN                                                                                                                                                                                                                                                                                                                                                   920\n",
       "Air conditioning,Electrical side mirrors,Hill Holder,Power windows                                                                                                                                                                                                                                                                                    216\n",
       "Air conditioning,Electrical side mirrors,Power windows                                                                                                                                                                                                                                                                                                134\n",
       "Air conditioning,Power windows                                                                                                                                                                                                                                                                                                                        130\n",
       "Air conditioning,Armrest,Automatic climate control,Cruise control,Electrical side mirrors,Leather steering wheel,Light sensor,Lumbar support,Multi-function steering wheel,Navigation system,Park Distance Control,Parking assist system sensors front,Parking assist system sensors rear,Power windows,Rain sensor,Seat heating,Start-stop system    105\n",
       "Name: comfort_convenience, dtype: int64"
      ]
     },
     "execution_count": 225,
     "metadata": {},
     "output_type": "execute_result"
    }
   ],
   "source": [
    "df.comfort_convenience.value_counts(dropna=False).head()"
   ]
  },
  {
   "cell_type": "code",
   "execution_count": 226,
   "metadata": {},
   "outputs": [
    {
     "data": {
      "text/plain": [
       "(15919, 33)"
      ]
     },
     "execution_count": 226,
     "metadata": {},
     "output_type": "execute_result"
    }
   ],
   "source": [
    "#at the beginning there were 54 column, but now 33 columns\n",
    "df.shape"
   ]
  },
  {
   "cell_type": "code",
   "execution_count": 227,
   "metadata": {},
   "outputs": [
    {
     "data": {
      "text/html": [
       "<div>\n",
       "<style scoped>\n",
       "    .dataframe tbody tr th:only-of-type {\n",
       "        vertical-align: middle;\n",
       "    }\n",
       "\n",
       "    .dataframe tbody tr th {\n",
       "        vertical-align: top;\n",
       "    }\n",
       "\n",
       "    .dataframe thead th {\n",
       "        text-align: right;\n",
       "    }\n",
       "</style>\n",
       "<table border=\"1\" class=\"dataframe\">\n",
       "  <thead>\n",
       "    <tr style=\"text-align: right;\">\n",
       "      <th></th>\n",
       "      <th>0</th>\n",
       "      <th>1</th>\n",
       "      <th>2</th>\n",
       "      <th>3</th>\n",
       "      <th>4</th>\n",
       "    </tr>\n",
       "  </thead>\n",
       "  <tbody>\n",
       "    <tr>\n",
       "      <th>make_model</th>\n",
       "      <td>Audi A1</td>\n",
       "      <td>Audi A1</td>\n",
       "      <td>Audi A1</td>\n",
       "      <td>Audi A1</td>\n",
       "      <td>Audi A1</td>\n",
       "    </tr>\n",
       "    <tr>\n",
       "      <th>body_type</th>\n",
       "      <td>Sedans</td>\n",
       "      <td>Sedans</td>\n",
       "      <td>Sedans</td>\n",
       "      <td>Sedans</td>\n",
       "      <td>Sedans</td>\n",
       "    </tr>\n",
       "    <tr>\n",
       "      <th>price</th>\n",
       "      <td>15770</td>\n",
       "      <td>14500</td>\n",
       "      <td>14640</td>\n",
       "      <td>14500</td>\n",
       "      <td>16790</td>\n",
       "    </tr>\n",
       "    <tr>\n",
       "      <th>vat</th>\n",
       "      <td>VAT deductible</td>\n",
       "      <td>Price negotiable</td>\n",
       "      <td>VAT deductible</td>\n",
       "      <td>None</td>\n",
       "      <td>None</td>\n",
       "    </tr>\n",
       "    <tr>\n",
       "      <th>km</th>\n",
       "      <td>56013</td>\n",
       "      <td>80000</td>\n",
       "      <td>83450</td>\n",
       "      <td>73000</td>\n",
       "      <td>16200</td>\n",
       "    </tr>\n",
       "    <tr>\n",
       "      <th>type</th>\n",
       "      <td>Used</td>\n",
       "      <td>Used</td>\n",
       "      <td>Used</td>\n",
       "      <td>Used</td>\n",
       "      <td>Used</td>\n",
       "    </tr>\n",
       "    <tr>\n",
       "      <th>previous_owners</th>\n",
       "      <td>2.0</td>\n",
       "      <td>NaN</td>\n",
       "      <td>1.0</td>\n",
       "      <td>1.0</td>\n",
       "      <td>1.0</td>\n",
       "    </tr>\n",
       "    <tr>\n",
       "      <th>inspection_new</th>\n",
       "      <td>Yes</td>\n",
       "      <td>NaN</td>\n",
       "      <td>NaN</td>\n",
       "      <td>NaN</td>\n",
       "      <td>Yes</td>\n",
       "    </tr>\n",
       "    <tr>\n",
       "      <th>warranty</th>\n",
       "      <td>NaN</td>\n",
       "      <td>NaN</td>\n",
       "      <td>NaN</td>\n",
       "      <td>NaN</td>\n",
       "      <td>NaN</td>\n",
       "    </tr>\n",
       "    <tr>\n",
       "      <th>body_color</th>\n",
       "      <td>Black</td>\n",
       "      <td>Red</td>\n",
       "      <td>Black</td>\n",
       "      <td>Brown</td>\n",
       "      <td>Black</td>\n",
       "    </tr>\n",
       "    <tr>\n",
       "      <th>paint_type</th>\n",
       "      <td>Metallic</td>\n",
       "      <td>NaN</td>\n",
       "      <td>Metallic</td>\n",
       "      <td>Metallic</td>\n",
       "      <td>Metallic</td>\n",
       "    </tr>\n",
       "    <tr>\n",
       "      <th>nr_of_doors</th>\n",
       "      <td>5</td>\n",
       "      <td>3</td>\n",
       "      <td>4</td>\n",
       "      <td>3</td>\n",
       "      <td>5</td>\n",
       "    </tr>\n",
       "    <tr>\n",
       "      <th>nr_of_seats</th>\n",
       "      <td>5</td>\n",
       "      <td>4</td>\n",
       "      <td>4</td>\n",
       "      <td>4</td>\n",
       "      <td>5</td>\n",
       "    </tr>\n",
       "    <tr>\n",
       "      <th>gearing_type</th>\n",
       "      <td>Automatic</td>\n",
       "      <td>Automatic</td>\n",
       "      <td>Automatic</td>\n",
       "      <td>Automatic</td>\n",
       "      <td>Automatic</td>\n",
       "    </tr>\n",
       "    <tr>\n",
       "      <th>displacement</th>\n",
       "      <td>1422.0</td>\n",
       "      <td>1798.0</td>\n",
       "      <td>1598.0</td>\n",
       "      <td>1422.0</td>\n",
       "      <td>1422.0</td>\n",
       "    </tr>\n",
       "    <tr>\n",
       "      <th>cylinders</th>\n",
       "      <td>3.0</td>\n",
       "      <td>4.0</td>\n",
       "      <td>NaN</td>\n",
       "      <td>3.0</td>\n",
       "      <td>3.0</td>\n",
       "    </tr>\n",
       "    <tr>\n",
       "      <th>weight</th>\n",
       "      <td>1220.0</td>\n",
       "      <td>1255.0</td>\n",
       "      <td>NaN</td>\n",
       "      <td>1195.0</td>\n",
       "      <td>NaN</td>\n",
       "    </tr>\n",
       "    <tr>\n",
       "      <th>drive_chain</th>\n",
       "      <td>front</td>\n",
       "      <td>front</td>\n",
       "      <td>front</td>\n",
       "      <td>NaN</td>\n",
       "      <td>front</td>\n",
       "    </tr>\n",
       "    <tr>\n",
       "      <th>fuel</th>\n",
       "      <td>Diesel</td>\n",
       "      <td>Benzin</td>\n",
       "      <td>Diesel</td>\n",
       "      <td>Diesel</td>\n",
       "      <td>Diesel</td>\n",
       "    </tr>\n",
       "    <tr>\n",
       "      <th>co2_emission</th>\n",
       "      <td>99</td>\n",
       "      <td>129</td>\n",
       "      <td>99</td>\n",
       "      <td>99</td>\n",
       "      <td>109</td>\n",
       "    </tr>\n",
       "    <tr>\n",
       "      <th>emission_class</th>\n",
       "      <td>Euro 6</td>\n",
       "      <td>Euro 6</td>\n",
       "      <td>Euro 6</td>\n",
       "      <td>Euro 6</td>\n",
       "      <td>Euro 6</td>\n",
       "    </tr>\n",
       "    <tr>\n",
       "      <th>comfort_convenience</th>\n",
       "      <td>Air conditioning,Armrest,Automatic climate con...</td>\n",
       "      <td>Air conditioning,Automatic climate control,Hil...</td>\n",
       "      <td>Air conditioning,Cruise control,Electrical sid...</td>\n",
       "      <td>Air suspension,Armrest,Auxiliary heating,Elect...</td>\n",
       "      <td>Air conditioning,Armrest,Automatic climate con...</td>\n",
       "    </tr>\n",
       "    <tr>\n",
       "      <th>entertainment_media</th>\n",
       "      <td>Bluetooth,Hands-free equipment,On-board comput...</td>\n",
       "      <td>Bluetooth,Hands-free equipment,On-board comput...</td>\n",
       "      <td>MP3,On-board computer</td>\n",
       "      <td>Bluetooth,CD player,Hands-free equipment,MP3,O...</td>\n",
       "      <td>Bluetooth,CD player,Hands-free equipment,MP3,O...</td>\n",
       "    </tr>\n",
       "    <tr>\n",
       "      <th>extras</th>\n",
       "      <td>Alloy wheels,Catalytic Converter,Voice Control</td>\n",
       "      <td>Alloy wheels,Sport seats,Sport suspension,Voic...</td>\n",
       "      <td>Alloy wheels,Voice Control</td>\n",
       "      <td>Alloy wheels,Sport seats,Voice Control</td>\n",
       "      <td>Alloy wheels,Sport package,Sport suspension,Vo...</td>\n",
       "    </tr>\n",
       "    <tr>\n",
       "      <th>safety_security</th>\n",
       "      <td>ABS,Central door lock,Daytime running lights,D...</td>\n",
       "      <td>ABS,Central door lock,Central door lock with r...</td>\n",
       "      <td>ABS,Central door lock,Daytime running lights,D...</td>\n",
       "      <td>ABS,Alarm system,Central door lock with remote...</td>\n",
       "      <td>ABS,Central door lock,Driver-side airbag,Elect...</td>\n",
       "    </tr>\n",
       "    <tr>\n",
       "      <th>gears</th>\n",
       "      <td>NaN</td>\n",
       "      <td>7</td>\n",
       "      <td>NaN</td>\n",
       "      <td>6</td>\n",
       "      <td>NaN</td>\n",
       "    </tr>\n",
       "    <tr>\n",
       "      <th>age</th>\n",
       "      <td>3.0</td>\n",
       "      <td>2.0</td>\n",
       "      <td>3.0</td>\n",
       "      <td>3.0</td>\n",
       "      <td>3.0</td>\n",
       "    </tr>\n",
       "    <tr>\n",
       "      <th>hp_kW</th>\n",
       "      <td>66.0</td>\n",
       "      <td>141.0</td>\n",
       "      <td>85.0</td>\n",
       "      <td>66.0</td>\n",
       "      <td>66.0</td>\n",
       "    </tr>\n",
       "    <tr>\n",
       "      <th>upholstery_fabric</th>\n",
       "      <td>Cloth</td>\n",
       "      <td>Cloth</td>\n",
       "      <td>Cloth</td>\n",
       "      <td>NaN</td>\n",
       "      <td>Cloth</td>\n",
       "    </tr>\n",
       "    <tr>\n",
       "      <th>upholstery_color</th>\n",
       "      <td>Black</td>\n",
       "      <td>Grey</td>\n",
       "      <td>Black</td>\n",
       "      <td>NaN</td>\n",
       "      <td>Black</td>\n",
       "    </tr>\n",
       "    <tr>\n",
       "      <th>city_cons</th>\n",
       "      <td>4.3</td>\n",
       "      <td>7.1</td>\n",
       "      <td>4.4</td>\n",
       "      <td>4.3</td>\n",
       "      <td>4.6</td>\n",
       "    </tr>\n",
       "    <tr>\n",
       "      <th>country_cons</th>\n",
       "      <td>3.5</td>\n",
       "      <td>4.7</td>\n",
       "      <td>3.4</td>\n",
       "      <td>3.5</td>\n",
       "      <td>3.8</td>\n",
       "    </tr>\n",
       "    <tr>\n",
       "      <th>comb_cons</th>\n",
       "      <td>3.8</td>\n",
       "      <td>5.6</td>\n",
       "      <td>3.8</td>\n",
       "      <td>3.8</td>\n",
       "      <td>4.1</td>\n",
       "    </tr>\n",
       "  </tbody>\n",
       "</table>\n",
       "</div>"
      ],
      "text/plain": [
       "                                                                     0  \\\n",
       "make_model                                                     Audi A1   \n",
       "body_type                                                       Sedans   \n",
       "price                                                            15770   \n",
       "vat                                                     VAT deductible   \n",
       "km                                                               56013   \n",
       "type                                                              Used   \n",
       "previous_owners                                                    2.0   \n",
       "inspection_new                                                     Yes   \n",
       "warranty                                                           NaN   \n",
       "body_color                                                       Black   \n",
       "paint_type                                                    Metallic   \n",
       "nr_of_doors                                                          5   \n",
       "nr_of_seats                                                          5   \n",
       "gearing_type                                                 Automatic   \n",
       "displacement                                                    1422.0   \n",
       "cylinders                                                          3.0   \n",
       "weight                                                          1220.0   \n",
       "drive_chain                                                      front   \n",
       "fuel                                                            Diesel   \n",
       "co2_emission                                                        99   \n",
       "emission_class                                                  Euro 6   \n",
       "comfort_convenience  Air conditioning,Armrest,Automatic climate con...   \n",
       "entertainment_media  Bluetooth,Hands-free equipment,On-board comput...   \n",
       "extras                  Alloy wheels,Catalytic Converter,Voice Control   \n",
       "safety_security      ABS,Central door lock,Daytime running lights,D...   \n",
       "gears                                                              NaN   \n",
       "age                                                                3.0   \n",
       "hp_kW                                                             66.0   \n",
       "upholstery_fabric                                                Cloth   \n",
       "upholstery_color                                                 Black   \n",
       "city_cons                                                          4.3   \n",
       "country_cons                                                       3.5   \n",
       "comb_cons                                                          3.8   \n",
       "\n",
       "                                                                     1  \\\n",
       "make_model                                                     Audi A1   \n",
       "body_type                                                       Sedans   \n",
       "price                                                            14500   \n",
       "vat                                                   Price negotiable   \n",
       "km                                                               80000   \n",
       "type                                                              Used   \n",
       "previous_owners                                                    NaN   \n",
       "inspection_new                                                     NaN   \n",
       "warranty                                                           NaN   \n",
       "body_color                                                         Red   \n",
       "paint_type                                                         NaN   \n",
       "nr_of_doors                                                          3   \n",
       "nr_of_seats                                                          4   \n",
       "gearing_type                                                 Automatic   \n",
       "displacement                                                    1798.0   \n",
       "cylinders                                                          4.0   \n",
       "weight                                                          1255.0   \n",
       "drive_chain                                                      front   \n",
       "fuel                                                            Benzin   \n",
       "co2_emission                                                       129   \n",
       "emission_class                                                  Euro 6   \n",
       "comfort_convenience  Air conditioning,Automatic climate control,Hil...   \n",
       "entertainment_media  Bluetooth,Hands-free equipment,On-board comput...   \n",
       "extras               Alloy wheels,Sport seats,Sport suspension,Voic...   \n",
       "safety_security      ABS,Central door lock,Central door lock with r...   \n",
       "gears                                                                7   \n",
       "age                                                                2.0   \n",
       "hp_kW                                                            141.0   \n",
       "upholstery_fabric                                                Cloth   \n",
       "upholstery_color                                                  Grey   \n",
       "city_cons                                                          7.1   \n",
       "country_cons                                                       4.7   \n",
       "comb_cons                                                          5.6   \n",
       "\n",
       "                                                                     2  \\\n",
       "make_model                                                     Audi A1   \n",
       "body_type                                                       Sedans   \n",
       "price                                                            14640   \n",
       "vat                                                     VAT deductible   \n",
       "km                                                               83450   \n",
       "type                                                              Used   \n",
       "previous_owners                                                    1.0   \n",
       "inspection_new                                                     NaN   \n",
       "warranty                                                           NaN   \n",
       "body_color                                                       Black   \n",
       "paint_type                                                    Metallic   \n",
       "nr_of_doors                                                          4   \n",
       "nr_of_seats                                                          4   \n",
       "gearing_type                                                 Automatic   \n",
       "displacement                                                    1598.0   \n",
       "cylinders                                                          NaN   \n",
       "weight                                                             NaN   \n",
       "drive_chain                                                      front   \n",
       "fuel                                                            Diesel   \n",
       "co2_emission                                                        99   \n",
       "emission_class                                                  Euro 6   \n",
       "comfort_convenience  Air conditioning,Cruise control,Electrical sid...   \n",
       "entertainment_media                              MP3,On-board computer   \n",
       "extras                                      Alloy wheels,Voice Control   \n",
       "safety_security      ABS,Central door lock,Daytime running lights,D...   \n",
       "gears                                                              NaN   \n",
       "age                                                                3.0   \n",
       "hp_kW                                                             85.0   \n",
       "upholstery_fabric                                                Cloth   \n",
       "upholstery_color                                                 Black   \n",
       "city_cons                                                          4.4   \n",
       "country_cons                                                       3.4   \n",
       "comb_cons                                                          3.8   \n",
       "\n",
       "                                                                     3  \\\n",
       "make_model                                                     Audi A1   \n",
       "body_type                                                       Sedans   \n",
       "price                                                            14500   \n",
       "vat                                                               None   \n",
       "km                                                               73000   \n",
       "type                                                              Used   \n",
       "previous_owners                                                    1.0   \n",
       "inspection_new                                                     NaN   \n",
       "warranty                                                           NaN   \n",
       "body_color                                                       Brown   \n",
       "paint_type                                                    Metallic   \n",
       "nr_of_doors                                                          3   \n",
       "nr_of_seats                                                          4   \n",
       "gearing_type                                                 Automatic   \n",
       "displacement                                                    1422.0   \n",
       "cylinders                                                          3.0   \n",
       "weight                                                          1195.0   \n",
       "drive_chain                                                        NaN   \n",
       "fuel                                                            Diesel   \n",
       "co2_emission                                                        99   \n",
       "emission_class                                                  Euro 6   \n",
       "comfort_convenience  Air suspension,Armrest,Auxiliary heating,Elect...   \n",
       "entertainment_media  Bluetooth,CD player,Hands-free equipment,MP3,O...   \n",
       "extras                          Alloy wheels,Sport seats,Voice Control   \n",
       "safety_security      ABS,Alarm system,Central door lock with remote...   \n",
       "gears                                                                6   \n",
       "age                                                                3.0   \n",
       "hp_kW                                                             66.0   \n",
       "upholstery_fabric                                                  NaN   \n",
       "upholstery_color                                                   NaN   \n",
       "city_cons                                                          4.3   \n",
       "country_cons                                                       3.5   \n",
       "comb_cons                                                          3.8   \n",
       "\n",
       "                                                                     4  \n",
       "make_model                                                     Audi A1  \n",
       "body_type                                                       Sedans  \n",
       "price                                                            16790  \n",
       "vat                                                               None  \n",
       "km                                                               16200  \n",
       "type                                                              Used  \n",
       "previous_owners                                                    1.0  \n",
       "inspection_new                                                     Yes  \n",
       "warranty                                                           NaN  \n",
       "body_color                                                       Black  \n",
       "paint_type                                                    Metallic  \n",
       "nr_of_doors                                                          5  \n",
       "nr_of_seats                                                          5  \n",
       "gearing_type                                                 Automatic  \n",
       "displacement                                                    1422.0  \n",
       "cylinders                                                          3.0  \n",
       "weight                                                             NaN  \n",
       "drive_chain                                                      front  \n",
       "fuel                                                            Diesel  \n",
       "co2_emission                                                       109  \n",
       "emission_class                                                  Euro 6  \n",
       "comfort_convenience  Air conditioning,Armrest,Automatic climate con...  \n",
       "entertainment_media  Bluetooth,CD player,Hands-free equipment,MP3,O...  \n",
       "extras               Alloy wheels,Sport package,Sport suspension,Vo...  \n",
       "safety_security      ABS,Central door lock,Driver-side airbag,Elect...  \n",
       "gears                                                              NaN  \n",
       "age                                                                3.0  \n",
       "hp_kW                                                             66.0  \n",
       "upholstery_fabric                                                Cloth  \n",
       "upholstery_color                                                 Black  \n",
       "city_cons                                                          4.6  \n",
       "country_cons                                                       3.8  \n",
       "comb_cons                                                          4.1  "
      ]
     },
     "execution_count": 227,
     "metadata": {},
     "output_type": "execute_result"
    }
   ],
   "source": [
    "df.head().T"
   ]
  },
  {
   "cell_type": "code",
   "execution_count": 228,
   "metadata": {},
   "outputs": [],
   "source": [
    "#save to csv file\n",
    "df.to_csv('autoscout_data_cleaned.csv',index=False)"
   ]
  },
  {
   "cell_type": "code",
   "execution_count": null,
   "metadata": {},
   "outputs": [],
   "source": []
  }
 ],
 "metadata": {
  "kernelspec": {
   "display_name": "Python 3",
   "language": "python",
   "name": "python3"
  },
  "language_info": {
   "codemirror_mode": {
    "name": "ipython",
    "version": 3
   },
   "file_extension": ".py",
   "mimetype": "text/x-python",
   "name": "python",
   "nbconvert_exporter": "python",
   "pygments_lexer": "ipython3",
   "version": "3.8.13"
  },
  "varInspector": {
   "cols": {
    "lenName": 16,
    "lenType": 16,
    "lenVar": 40
   },
   "kernels_config": {
    "python": {
     "delete_cmd_postfix": "",
     "delete_cmd_prefix": "del ",
     "library": "var_list.py",
     "varRefreshCmd": "print(var_dic_list())"
    },
    "r": {
     "delete_cmd_postfix": ") ",
     "delete_cmd_prefix": "rm(",
     "library": "var_list.r",
     "varRefreshCmd": "cat(var_dic_list()) "
    }
   },
   "types_to_exclude": [
    "module",
    "function",
    "builtin_function_or_method",
    "instance",
    "_Feature"
   ],
   "window_display": false
  }
 },
 "nbformat": 4,
 "nbformat_minor": 4
}
